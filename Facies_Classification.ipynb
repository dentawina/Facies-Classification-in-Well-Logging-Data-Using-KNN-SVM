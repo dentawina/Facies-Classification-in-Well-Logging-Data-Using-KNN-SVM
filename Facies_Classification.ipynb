{
  "nbformat": 4,
  "nbformat_minor": 0,
  "metadata": {
    "colab": {
      "provenance": [],
      "toc_visible": true
    },
    "kernelspec": {
      "name": "python3",
      "display_name": "Python 3"
    },
    "language_info": {
      "name": "python"
    }
  },
  "cells": [
    {
      "cell_type": "markdown",
      "metadata": {
        "id": "o3THsXUR-lqf"
      },
      "source": [
        "Facies classification is one of the most important tasks that geoscientists work on development and exploration projects. Sedimentary facies reflect particular physical, chemical, and biological condition that unit experienced during sedimentation process. To study these facies, rock samples are required. In this study, it is practiced to train various machine learning algorithms to predict facies from well log data. The dataset for this study comes from [Hugoton and Panoma Fields](http://www.kgs.ku.edu/PRS/publication/2003/ofr2003-50.pdf) in North America which was used in class exercise in The University of Kansas [(Dubois et. al, 2007)](https://www.sciencedirect.com/science/article/pii/S0098300406001956?via%3Dihub). It consists of log data of nine wells. We will use these log data to train supervised classifiers in order to predict discrete facies groups. All this implementation is based on [scikit-learn](https://scikit-learn.org/stable/supervised_learning.html#supervised-learning) libraries. These are:<br>\n",
        "1) Support vector machines (SVM)<br>\n",
        "2) Random forest classifier (RFC)<br>\n",
        "3) K Nearest Neighbors Classifier (KNN)<br>"
      ]
    },
    {
      "cell_type": "markdown",
      "source": [
        "# BEFORE MODELING"
      ],
      "metadata": {
        "id": "Fdtiy4FxmQxu"
      }
    },
    {
      "cell_type": "markdown",
      "source": [
        "## Data Understanding and Wrangling\n",
        "The training data stored in CSV format contains 5 wireline log measurements, two indicators and facies label in half foot interval. In machine learning terminology, each log measurement is a feature vector that maps a set of 'features' (the log measurements) to a class (the facies type). We will use the pandas library to load the data into a dataframe, which provides a convenient data structure to work with well log data.\n"
      ],
      "metadata": {
        "id": "H1Ca_7bgAbM2"
      }
    },
    {
      "cell_type": "code",
      "source": [
        "import pandas as pd"
      ],
      "metadata": {
        "id": "UI3UmmDP_7g9"
      },
      "execution_count": null,
      "outputs": []
    },
    {
      "cell_type": "code",
      "source": [
        "# read data from csv into python data frame\n",
        "dataset = pd.read_csv('/content/drive/MyDrive/C-Shale SPWLA 2023/Private/facies_vectors.csv')\n",
        "dataset"
      ],
      "metadata": {
        "id": "cIVxf7ViEM69",
        "colab": {
          "base_uri": "https://localhost:8080/",
          "height": 554
        },
        "outputId": "4b169712-ae43-4952-cb8c-7b337d08f2ed"
      },
      "execution_count": null,
      "outputs": [
        {
          "output_type": "execute_result",
          "data": {
            "text/plain": [
              "     FORMATION             WELL   DEPTH      GR  ILD_LOG10    DPHI   PHIND  \\\n",
              "0        A1 SH        SHRIMPLIN  2793.0  77.450      0.664   9.900  11.915   \n",
              "1        A1 SH        SHRIMPLIN  2793.5  78.260      0.661  14.200  12.565   \n",
              "2        A1 SH        SHRIMPLIN  2794.0  79.050      0.658  14.800  13.050   \n",
              "3        A1 SH        SHRIMPLIN  2794.5  86.100      0.655  13.900  13.115   \n",
              "4        A1 SH        SHRIMPLIN  2795.0  74.580      0.647  13.500  13.300   \n",
              "...        ...              ...     ...     ...        ...     ...     ...   \n",
              "4144      C LM  CHURCHMAN BIBLE  3120.5  46.719      0.947   1.828   7.254   \n",
              "4145      C LM  CHURCHMAN BIBLE  3121.0  44.563      0.953   2.241   8.013   \n",
              "4146      C LM  CHURCHMAN BIBLE  3121.5  49.719      0.964   2.925   8.013   \n",
              "4147      C LM  CHURCHMAN BIBLE  3122.0  51.469      0.965   3.083   7.708   \n",
              "4148      C LM  CHURCHMAN BIBLE  3122.5  50.031      0.970   2.609   6.668   \n",
              "\n",
              "         PE  NM_M  RELPOS  FACIES  \n",
              "0     4.600     1   1.000       3  \n",
              "1     4.100     1   0.979       3  \n",
              "2     3.600     1   0.957       3  \n",
              "3     3.500     1   0.936       3  \n",
              "4     3.400     1   0.915       3  \n",
              "...     ...   ...     ...     ...  \n",
              "4144  3.617     2   0.685       5  \n",
              "4145  3.344     2   0.677       5  \n",
              "4146  3.190     2   0.669       5  \n",
              "4147  3.152     2   0.661       5  \n",
              "4148  3.295     2   0.653       5  \n",
              "\n",
              "[4149 rows x 11 columns]"
            ],
            "text/html": [
              "\n",
              "  <div id=\"df-43ab9e18-5b3a-42fa-9df8-fb5b57070811\">\n",
              "    <div class=\"colab-df-container\">\n",
              "      <div>\n",
              "<style scoped>\n",
              "    .dataframe tbody tr th:only-of-type {\n",
              "        vertical-align: middle;\n",
              "    }\n",
              "\n",
              "    .dataframe tbody tr th {\n",
              "        vertical-align: top;\n",
              "    }\n",
              "\n",
              "    .dataframe thead th {\n",
              "        text-align: right;\n",
              "    }\n",
              "</style>\n",
              "<table border=\"1\" class=\"dataframe\">\n",
              "  <thead>\n",
              "    <tr style=\"text-align: right;\">\n",
              "      <th></th>\n",
              "      <th>FORMATION</th>\n",
              "      <th>WELL</th>\n",
              "      <th>DEPTH</th>\n",
              "      <th>GR</th>\n",
              "      <th>ILD_LOG10</th>\n",
              "      <th>DPHI</th>\n",
              "      <th>PHIND</th>\n",
              "      <th>PE</th>\n",
              "      <th>NM_M</th>\n",
              "      <th>RELPOS</th>\n",
              "      <th>FACIES</th>\n",
              "    </tr>\n",
              "  </thead>\n",
              "  <tbody>\n",
              "    <tr>\n",
              "      <th>0</th>\n",
              "      <td>A1 SH</td>\n",
              "      <td>SHRIMPLIN</td>\n",
              "      <td>2793.0</td>\n",
              "      <td>77.450</td>\n",
              "      <td>0.664</td>\n",
              "      <td>9.900</td>\n",
              "      <td>11.915</td>\n",
              "      <td>4.600</td>\n",
              "      <td>1</td>\n",
              "      <td>1.000</td>\n",
              "      <td>3</td>\n",
              "    </tr>\n",
              "    <tr>\n",
              "      <th>1</th>\n",
              "      <td>A1 SH</td>\n",
              "      <td>SHRIMPLIN</td>\n",
              "      <td>2793.5</td>\n",
              "      <td>78.260</td>\n",
              "      <td>0.661</td>\n",
              "      <td>14.200</td>\n",
              "      <td>12.565</td>\n",
              "      <td>4.100</td>\n",
              "      <td>1</td>\n",
              "      <td>0.979</td>\n",
              "      <td>3</td>\n",
              "    </tr>\n",
              "    <tr>\n",
              "      <th>2</th>\n",
              "      <td>A1 SH</td>\n",
              "      <td>SHRIMPLIN</td>\n",
              "      <td>2794.0</td>\n",
              "      <td>79.050</td>\n",
              "      <td>0.658</td>\n",
              "      <td>14.800</td>\n",
              "      <td>13.050</td>\n",
              "      <td>3.600</td>\n",
              "      <td>1</td>\n",
              "      <td>0.957</td>\n",
              "      <td>3</td>\n",
              "    </tr>\n",
              "    <tr>\n",
              "      <th>3</th>\n",
              "      <td>A1 SH</td>\n",
              "      <td>SHRIMPLIN</td>\n",
              "      <td>2794.5</td>\n",
              "      <td>86.100</td>\n",
              "      <td>0.655</td>\n",
              "      <td>13.900</td>\n",
              "      <td>13.115</td>\n",
              "      <td>3.500</td>\n",
              "      <td>1</td>\n",
              "      <td>0.936</td>\n",
              "      <td>3</td>\n",
              "    </tr>\n",
              "    <tr>\n",
              "      <th>4</th>\n",
              "      <td>A1 SH</td>\n",
              "      <td>SHRIMPLIN</td>\n",
              "      <td>2795.0</td>\n",
              "      <td>74.580</td>\n",
              "      <td>0.647</td>\n",
              "      <td>13.500</td>\n",
              "      <td>13.300</td>\n",
              "      <td>3.400</td>\n",
              "      <td>1</td>\n",
              "      <td>0.915</td>\n",
              "      <td>3</td>\n",
              "    </tr>\n",
              "    <tr>\n",
              "      <th>...</th>\n",
              "      <td>...</td>\n",
              "      <td>...</td>\n",
              "      <td>...</td>\n",
              "      <td>...</td>\n",
              "      <td>...</td>\n",
              "      <td>...</td>\n",
              "      <td>...</td>\n",
              "      <td>...</td>\n",
              "      <td>...</td>\n",
              "      <td>...</td>\n",
              "      <td>...</td>\n",
              "    </tr>\n",
              "    <tr>\n",
              "      <th>4144</th>\n",
              "      <td>C LM</td>\n",
              "      <td>CHURCHMAN BIBLE</td>\n",
              "      <td>3120.5</td>\n",
              "      <td>46.719</td>\n",
              "      <td>0.947</td>\n",
              "      <td>1.828</td>\n",
              "      <td>7.254</td>\n",
              "      <td>3.617</td>\n",
              "      <td>2</td>\n",
              "      <td>0.685</td>\n",
              "      <td>5</td>\n",
              "    </tr>\n",
              "    <tr>\n",
              "      <th>4145</th>\n",
              "      <td>C LM</td>\n",
              "      <td>CHURCHMAN BIBLE</td>\n",
              "      <td>3121.0</td>\n",
              "      <td>44.563</td>\n",
              "      <td>0.953</td>\n",
              "      <td>2.241</td>\n",
              "      <td>8.013</td>\n",
              "      <td>3.344</td>\n",
              "      <td>2</td>\n",
              "      <td>0.677</td>\n",
              "      <td>5</td>\n",
              "    </tr>\n",
              "    <tr>\n",
              "      <th>4146</th>\n",
              "      <td>C LM</td>\n",
              "      <td>CHURCHMAN BIBLE</td>\n",
              "      <td>3121.5</td>\n",
              "      <td>49.719</td>\n",
              "      <td>0.964</td>\n",
              "      <td>2.925</td>\n",
              "      <td>8.013</td>\n",
              "      <td>3.190</td>\n",
              "      <td>2</td>\n",
              "      <td>0.669</td>\n",
              "      <td>5</td>\n",
              "    </tr>\n",
              "    <tr>\n",
              "      <th>4147</th>\n",
              "      <td>C LM</td>\n",
              "      <td>CHURCHMAN BIBLE</td>\n",
              "      <td>3122.0</td>\n",
              "      <td>51.469</td>\n",
              "      <td>0.965</td>\n",
              "      <td>3.083</td>\n",
              "      <td>7.708</td>\n",
              "      <td>3.152</td>\n",
              "      <td>2</td>\n",
              "      <td>0.661</td>\n",
              "      <td>5</td>\n",
              "    </tr>\n",
              "    <tr>\n",
              "      <th>4148</th>\n",
              "      <td>C LM</td>\n",
              "      <td>CHURCHMAN BIBLE</td>\n",
              "      <td>3122.5</td>\n",
              "      <td>50.031</td>\n",
              "      <td>0.970</td>\n",
              "      <td>2.609</td>\n",
              "      <td>6.668</td>\n",
              "      <td>3.295</td>\n",
              "      <td>2</td>\n",
              "      <td>0.653</td>\n",
              "      <td>5</td>\n",
              "    </tr>\n",
              "  </tbody>\n",
              "</table>\n",
              "<p>4149 rows × 11 columns</p>\n",
              "</div>\n",
              "      <button class=\"colab-df-convert\" onclick=\"convertToInteractive('df-43ab9e18-5b3a-42fa-9df8-fb5b57070811')\"\n",
              "              title=\"Convert this dataframe to an interactive table.\"\n",
              "              style=\"display:none;\">\n",
              "        \n",
              "  <svg xmlns=\"http://www.w3.org/2000/svg\" height=\"24px\"viewBox=\"0 0 24 24\"\n",
              "       width=\"24px\">\n",
              "    <path d=\"M0 0h24v24H0V0z\" fill=\"none\"/>\n",
              "    <path d=\"M18.56 5.44l.94 2.06.94-2.06 2.06-.94-2.06-.94-.94-2.06-.94 2.06-2.06.94zm-11 1L8.5 8.5l.94-2.06 2.06-.94-2.06-.94L8.5 2.5l-.94 2.06-2.06.94zm10 10l.94 2.06.94-2.06 2.06-.94-2.06-.94-.94-2.06-.94 2.06-2.06.94z\"/><path d=\"M17.41 7.96l-1.37-1.37c-.4-.4-.92-.59-1.43-.59-.52 0-1.04.2-1.43.59L10.3 9.45l-7.72 7.72c-.78.78-.78 2.05 0 2.83L4 21.41c.39.39.9.59 1.41.59.51 0 1.02-.2 1.41-.59l7.78-7.78 2.81-2.81c.8-.78.8-2.07 0-2.86zM5.41 20L4 18.59l7.72-7.72 1.47 1.35L5.41 20z\"/>\n",
              "  </svg>\n",
              "      </button>\n",
              "      \n",
              "  <style>\n",
              "    .colab-df-container {\n",
              "      display:flex;\n",
              "      flex-wrap:wrap;\n",
              "      gap: 12px;\n",
              "    }\n",
              "\n",
              "    .colab-df-convert {\n",
              "      background-color: #E8F0FE;\n",
              "      border: none;\n",
              "      border-radius: 50%;\n",
              "      cursor: pointer;\n",
              "      display: none;\n",
              "      fill: #1967D2;\n",
              "      height: 32px;\n",
              "      padding: 0 0 0 0;\n",
              "      width: 32px;\n",
              "    }\n",
              "\n",
              "    .colab-df-convert:hover {\n",
              "      background-color: #E2EBFA;\n",
              "      box-shadow: 0px 1px 2px rgba(60, 64, 67, 0.3), 0px 1px 3px 1px rgba(60, 64, 67, 0.15);\n",
              "      fill: #174EA6;\n",
              "    }\n",
              "\n",
              "    [theme=dark] .colab-df-convert {\n",
              "      background-color: #3B4455;\n",
              "      fill: #D2E3FC;\n",
              "    }\n",
              "\n",
              "    [theme=dark] .colab-df-convert:hover {\n",
              "      background-color: #434B5C;\n",
              "      box-shadow: 0px 1px 3px 1px rgba(0, 0, 0, 0.15);\n",
              "      filter: drop-shadow(0px 1px 2px rgba(0, 0, 0, 0.3));\n",
              "      fill: #FFFFFF;\n",
              "    }\n",
              "  </style>\n",
              "\n",
              "      <script>\n",
              "        const buttonEl =\n",
              "          document.querySelector('#df-43ab9e18-5b3a-42fa-9df8-fb5b57070811 button.colab-df-convert');\n",
              "        buttonEl.style.display =\n",
              "          google.colab.kernel.accessAllowed ? 'block' : 'none';\n",
              "\n",
              "        async function convertToInteractive(key) {\n",
              "          const element = document.querySelector('#df-43ab9e18-5b3a-42fa-9df8-fb5b57070811');\n",
              "          const dataTable =\n",
              "            await google.colab.kernel.invokeFunction('convertToInteractive',\n",
              "                                                     [key], {});\n",
              "          if (!dataTable) return;\n",
              "\n",
              "          const docLinkHtml = 'Like what you see? Visit the ' +\n",
              "            '<a target=\"_blank\" href=https://colab.research.google.com/notebooks/data_table.ipynb>data table notebook</a>'\n",
              "            + ' to learn more about interactive tables.';\n",
              "          element.innerHTML = '';\n",
              "          dataTable['output_type'] = 'display_data';\n",
              "          await google.colab.output.renderOutput(dataTable, element);\n",
              "          const docLink = document.createElement('div');\n",
              "          docLink.innerHTML = docLinkHtml;\n",
              "          element.appendChild(docLink);\n",
              "        }\n",
              "      </script>\n",
              "    </div>\n",
              "  </div>\n",
              "  "
            ]
          },
          "metadata": {},
          "execution_count": 2
        }
      ]
    },
    {
      "cell_type": "markdown",
      "metadata": {
        "id": "QQfM9faD-lqn"
      },
      "source": [
        "The Council Grove gas reservoir is located in Kansas. From this carbonate reservoir, nine wells (with 4149 examples) are avaialble. Facies are studied from core samples in every half foot and matched with logging data in well location. Feature variables include five from wireline log measurements and two geologic constraining variables that are derived from geologic knowledge.\n",
        "The seven variables are:<br>\n",
        "1. __GR__: this wireline logging tools measure gamma emission from formation. Good index for shale content.<br>\n",
        "2. __ILD_log10__ : this is resistivity measurment which is applicable for identification of reservoir fluid content.<br>\n",
        "3. __PE__ : photoelectric effect log can be used for lithology (mineral contet of rock) identificaiton.<br>\n",
        "4. __DeltaPHI__: Phi is porosity index in petrophysics. To measure porosity, there serval methods such as neutron and density. This is differences between them.<br>\n",
        "5. __PNHIND__: Average of neutron and density log.<br>\n",
        "6. __NM_M__ :nonmarine-marine indicator<br>\n",
        "7. __RELPOS__: relative position<br>\n",
        "\n",
        "The nine discrete facies (classes of rocks) are:\n",
        "1. __(SS)__   Nonmarine sandstone\n",
        "2. __(CSiS)__ Nonmarine coarse siltstone\n",
        "3. __(FSiS)__ Nonmarine fine siltstone\n",
        "4. __(SiSH)__ Marine siltstone and shale\n",
        "5. __(MS)__   Mudstone (limestone)\n",
        "6. __(WS)__   Wackestone (limestone)\n",
        "7. __(D)__    Dolomite\n",
        "8. __(PS)__   Packstone-grainstone (limestone)\n",
        "9. __(BS)__   Phylloid-algal bafflestone (limestone)\n",
        "\n",
        "Geologically, sometimes the boundray of facies are not clear and could show some transition.The following table lists the facies, their abbreviated labels and their approximate neighbors.\n",
        "\n",
        "Facies |Label| Adjacent Facies\n",
        ":---: | :---: |:--:\n",
        "1 |SS| 2\n",
        "2 |CSiS| 1,3\n",
        "3 |FSiS| 2\n",
        "4 |SiSh| 5\n",
        "5 |MS| 4,6\n",
        "6 |WS| 5,7\n",
        "7 |D| 6,8\n",
        "8 |PS| 6,7,9\n",
        "9 |BS| 7,8\n",
        "\n",
        "Let's clean up this dataset.  The 'Well Name' and 'Formation' columns can be turned into a categorical data type.  "
      ]
    },
    {
      "cell_type": "markdown",
      "source": [
        "### Change WELL and FORMATION into a categorical data type"
      ],
      "metadata": {
        "id": "9vhu4UExMGvA"
      }
    },
    {
      "cell_type": "code",
      "source": [
        "dataset.dtypes"
      ],
      "metadata": {
        "colab": {
          "base_uri": "https://localhost:8080/"
        },
        "id": "AaETBSHyFOyY",
        "outputId": "e640b664-a973-4026-df54-158f1e85c22a"
      },
      "execution_count": null,
      "outputs": [
        {
          "output_type": "execute_result",
          "data": {
            "text/plain": [
              "FORMATION     object\n",
              "WELL          object\n",
              "DEPTH        float64\n",
              "GR           float64\n",
              "ILD_LOG10    float64\n",
              "DPHI         float64\n",
              "PHIND        float64\n",
              "PE           float64\n",
              "NM_M           int64\n",
              "RELPOS       float64\n",
              "FACIES         int64\n",
              "dtype: object"
            ]
          },
          "metadata": {},
          "execution_count": 3
        }
      ]
    },
    {
      "cell_type": "code",
      "source": [
        "# change FORMATION and WELL into categorical data type\n",
        "dataset['FORMATION'] = dataset['FORMATION'].astype('category')\n",
        "dataset['WELL'] = dataset['WELL'])astype('category')"
      ],
      "metadata": {
        "id": "4-r1JMMlHey9"
      },
      "execution_count": null,
      "outputs": []
    },
    {
      "cell_type": "code",
      "source": [
        "dataset.dtypes"
      ],
      "metadata": {
        "colab": {
          "base_uri": "https://localhost:8080/"
        },
        "id": "AVzq8bu6Ht0A",
        "outputId": "201c39f8-eaf0-49ca-8775-a0b3aa1b4fff"
      },
      "execution_count": null,
      "outputs": [
        {
          "output_type": "execute_result",
          "data": {
            "text/plain": [
              "FORMATION    category\n",
              "WELL         category\n",
              "DEPTH         float64\n",
              "GR            float64\n",
              "ILD_LOG10     float64\n",
              "DPHI          float64\n",
              "PHIND         float64\n",
              "PE            float64\n",
              "NM_M            int64\n",
              "RELPOS        float64\n",
              "FACIES          int64\n",
              "dtype: object"
            ]
          },
          "metadata": {},
          "execution_count": 5
        }
      ]
    },
    {
      "cell_type": "markdown",
      "source": [
        "Initially, we have 8 wells"
      ],
      "metadata": {
        "id": "aYUeqrXyOCKG"
      }
    },
    {
      "cell_type": "code",
      "source": [
        "dataset['WELL'].nunique()"
      ],
      "metadata": {
        "colab": {
          "base_uri": "https://localhost:8080/"
        },
        "id": "pggnrwbkN-Rv",
        "outputId": "5cce1687-2377-4e4c-a0a6-2726c279f9f6"
      },
      "execution_count": null,
      "outputs": [
        {
          "output_type": "execute_result",
          "data": {
            "text/plain": [
              "10"
            ]
          },
          "metadata": {},
          "execution_count": 6
        }
      ]
    },
    {
      "cell_type": "code",
      "source": [
        "dataset['WELL'].value_counts()"
      ],
      "metadata": {
        "colab": {
          "base_uri": "https://localhost:8080/"
        },
        "id": "wrEqVDyIN0t7",
        "outputId": "23e723ae-5027-4d6d-bc76-614227273616"
      },
      "execution_count": null,
      "outputs": [
        {
          "output_type": "execute_result",
          "data": {
            "text/plain": [
              "CROSS H CATTLE     501\n",
              "SHRIMPLIN          471\n",
              "ALEXANDER D        466\n",
              "NEWBY              463\n",
              "LUKE G U           461\n",
              "SHANKLE            449\n",
              "KIMZEY A           439\n",
              "NOLAN              415\n",
              "CHURCHMAN BIBLE    404\n",
              "Recruit F9          80\n",
              "Name: WELL, dtype: int64"
            ]
          },
          "metadata": {},
          "execution_count": 7
        }
      ]
    },
    {
      "cell_type": "markdown",
      "source": [
        "### Quick statistical distribution"
      ],
      "metadata": {
        "id": "1t63FOONMpIG"
      }
    },
    {
      "cell_type": "markdown",
      "source": [
        "This is a quick view of the statistical distribution of the input variables. Looking at the count values, most values have 4149 valid values except for PE, which has 3232. In this tutorial we will drop the feature vectors that don't have a valid PE entry."
      ],
      "metadata": {
        "id": "Oaky5cVHMoHH"
      }
    },
    {
      "cell_type": "code",
      "source": [
        "dataset.describe()"
      ],
      "metadata": {
        "colab": {
          "base_uri": "https://localhost:8080/",
          "height": 364
        },
        "id": "ggxsfakzHbKG",
        "outputId": "bcfb530d-d1c8-498f-c304-45c72401b03c"
      },
      "execution_count": null,
      "outputs": [
        {
          "output_type": "execute_result",
          "data": {
            "text/plain": [
              "             DEPTH           GR    ILD_LOG10         DPHI        PHIND  \\\n",
              "count  4149.000000  4149.000000  4149.000000  4149.000000  4149.000000   \n",
              "mean   2906.867438    64.933985     0.659566     4.402484    13.201066   \n",
              "std     133.300164    30.302530     0.252703     5.274947     7.132846   \n",
              "min    2573.500000    10.149000    -0.025949   -21.832000     0.550000   \n",
              "25%    2821.500000    44.730000     0.498000     1.600000     8.500000   \n",
              "50%    2932.500000    64.990000     0.639000     4.300000    12.020000   \n",
              "75%    3007.000000    79.438000     0.822000     7.500000    16.050000   \n",
              "max    3138.000000   361.150000     1.800000    19.312000    84.400000   \n",
              "\n",
              "                PE         NM_M       RELPOS       FACIES  \n",
              "count  3232.000000  4149.000000  4149.000000  4149.000000  \n",
              "mean      3.725014     1.518438     0.521852     4.503254  \n",
              "std       0.896152     0.499720     0.286644     2.474324  \n",
              "min       0.200000     1.000000     0.000000     1.000000  \n",
              "25%       3.100000     1.000000     0.277000     2.000000  \n",
              "50%       3.551500     2.000000     0.528000     4.000000  \n",
              "75%       4.300000     2.000000     0.769000     6.000000  \n",
              "max       8.094000     2.000000     1.000000     9.000000  "
            ],
            "text/html": [
              "\n",
              "  <div id=\"df-49e84298-a603-4337-8410-ffae97c2e0fd\">\n",
              "    <div class=\"colab-df-container\">\n",
              "      <div>\n",
              "<style scoped>\n",
              "    .dataframe tbody tr th:only-of-type {\n",
              "        vertical-align: middle;\n",
              "    }\n",
              "\n",
              "    .dataframe tbody tr th {\n",
              "        vertical-align: top;\n",
              "    }\n",
              "\n",
              "    .dataframe thead th {\n",
              "        text-align: right;\n",
              "    }\n",
              "</style>\n",
              "<table border=\"1\" class=\"dataframe\">\n",
              "  <thead>\n",
              "    <tr style=\"text-align: right;\">\n",
              "      <th></th>\n",
              "      <th>DEPTH</th>\n",
              "      <th>GR</th>\n",
              "      <th>ILD_LOG10</th>\n",
              "      <th>DPHI</th>\n",
              "      <th>PHIND</th>\n",
              "      <th>PE</th>\n",
              "      <th>NM_M</th>\n",
              "      <th>RELPOS</th>\n",
              "      <th>FACIES</th>\n",
              "    </tr>\n",
              "  </thead>\n",
              "  <tbody>\n",
              "    <tr>\n",
              "      <th>count</th>\n",
              "      <td>4149.000000</td>\n",
              "      <td>4149.000000</td>\n",
              "      <td>4149.000000</td>\n",
              "      <td>4149.000000</td>\n",
              "      <td>4149.000000</td>\n",
              "      <td>3232.000000</td>\n",
              "      <td>4149.000000</td>\n",
              "      <td>4149.000000</td>\n",
              "      <td>4149.000000</td>\n",
              "    </tr>\n",
              "    <tr>\n",
              "      <th>mean</th>\n",
              "      <td>2906.867438</td>\n",
              "      <td>64.933985</td>\n",
              "      <td>0.659566</td>\n",
              "      <td>4.402484</td>\n",
              "      <td>13.201066</td>\n",
              "      <td>3.725014</td>\n",
              "      <td>1.518438</td>\n",
              "      <td>0.521852</td>\n",
              "      <td>4.503254</td>\n",
              "    </tr>\n",
              "    <tr>\n",
              "      <th>std</th>\n",
              "      <td>133.300164</td>\n",
              "      <td>30.302530</td>\n",
              "      <td>0.252703</td>\n",
              "      <td>5.274947</td>\n",
              "      <td>7.132846</td>\n",
              "      <td>0.896152</td>\n",
              "      <td>0.499720</td>\n",
              "      <td>0.286644</td>\n",
              "      <td>2.474324</td>\n",
              "    </tr>\n",
              "    <tr>\n",
              "      <th>min</th>\n",
              "      <td>2573.500000</td>\n",
              "      <td>10.149000</td>\n",
              "      <td>-0.025949</td>\n",
              "      <td>-21.832000</td>\n",
              "      <td>0.550000</td>\n",
              "      <td>0.200000</td>\n",
              "      <td>1.000000</td>\n",
              "      <td>0.000000</td>\n",
              "      <td>1.000000</td>\n",
              "    </tr>\n",
              "    <tr>\n",
              "      <th>25%</th>\n",
              "      <td>2821.500000</td>\n",
              "      <td>44.730000</td>\n",
              "      <td>0.498000</td>\n",
              "      <td>1.600000</td>\n",
              "      <td>8.500000</td>\n",
              "      <td>3.100000</td>\n",
              "      <td>1.000000</td>\n",
              "      <td>0.277000</td>\n",
              "      <td>2.000000</td>\n",
              "    </tr>\n",
              "    <tr>\n",
              "      <th>50%</th>\n",
              "      <td>2932.500000</td>\n",
              "      <td>64.990000</td>\n",
              "      <td>0.639000</td>\n",
              "      <td>4.300000</td>\n",
              "      <td>12.020000</td>\n",
              "      <td>3.551500</td>\n",
              "      <td>2.000000</td>\n",
              "      <td>0.528000</td>\n",
              "      <td>4.000000</td>\n",
              "    </tr>\n",
              "    <tr>\n",
              "      <th>75%</th>\n",
              "      <td>3007.000000</td>\n",
              "      <td>79.438000</td>\n",
              "      <td>0.822000</td>\n",
              "      <td>7.500000</td>\n",
              "      <td>16.050000</td>\n",
              "      <td>4.300000</td>\n",
              "      <td>2.000000</td>\n",
              "      <td>0.769000</td>\n",
              "      <td>6.000000</td>\n",
              "    </tr>\n",
              "    <tr>\n",
              "      <th>max</th>\n",
              "      <td>3138.000000</td>\n",
              "      <td>361.150000</td>\n",
              "      <td>1.800000</td>\n",
              "      <td>19.312000</td>\n",
              "      <td>84.400000</td>\n",
              "      <td>8.094000</td>\n",
              "      <td>2.000000</td>\n",
              "      <td>1.000000</td>\n",
              "      <td>9.000000</td>\n",
              "    </tr>\n",
              "  </tbody>\n",
              "</table>\n",
              "</div>\n",
              "      <button class=\"colab-df-convert\" onclick=\"convertToInteractive('df-49e84298-a603-4337-8410-ffae97c2e0fd')\"\n",
              "              title=\"Convert this dataframe to an interactive table.\"\n",
              "              style=\"display:none;\">\n",
              "        \n",
              "  <svg xmlns=\"http://www.w3.org/2000/svg\" height=\"24px\"viewBox=\"0 0 24 24\"\n",
              "       width=\"24px\">\n",
              "    <path d=\"M0 0h24v24H0V0z\" fill=\"none\"/>\n",
              "    <path d=\"M18.56 5.44l.94 2.06.94-2.06 2.06-.94-2.06-.94-.94-2.06-.94 2.06-2.06.94zm-11 1L8.5 8.5l.94-2.06 2.06-.94-2.06-.94L8.5 2.5l-.94 2.06-2.06.94zm10 10l.94 2.06.94-2.06 2.06-.94-2.06-.94-.94-2.06-.94 2.06-2.06.94z\"/><path d=\"M17.41 7.96l-1.37-1.37c-.4-.4-.92-.59-1.43-.59-.52 0-1.04.2-1.43.59L10.3 9.45l-7.72 7.72c-.78.78-.78 2.05 0 2.83L4 21.41c.39.39.9.59 1.41.59.51 0 1.02-.2 1.41-.59l7.78-7.78 2.81-2.81c.8-.78.8-2.07 0-2.86zM5.41 20L4 18.59l7.72-7.72 1.47 1.35L5.41 20z\"/>\n",
              "  </svg>\n",
              "      </button>\n",
              "      \n",
              "  <style>\n",
              "    .colab-df-container {\n",
              "      display:flex;\n",
              "      flex-wrap:wrap;\n",
              "      gap: 12px;\n",
              "    }\n",
              "\n",
              "    .colab-df-convert {\n",
              "      background-color: #E8F0FE;\n",
              "      border: none;\n",
              "      border-radius: 50%;\n",
              "      cursor: pointer;\n",
              "      display: none;\n",
              "      fill: #1967D2;\n",
              "      height: 32px;\n",
              "      padding: 0 0 0 0;\n",
              "      width: 32px;\n",
              "    }\n",
              "\n",
              "    .colab-df-convert:hover {\n",
              "      background-color: #E2EBFA;\n",
              "      box-shadow: 0px 1px 2px rgba(60, 64, 67, 0.3), 0px 1px 3px 1px rgba(60, 64, 67, 0.15);\n",
              "      fill: #174EA6;\n",
              "    }\n",
              "\n",
              "    [theme=dark] .colab-df-convert {\n",
              "      background-color: #3B4455;\n",
              "      fill: #D2E3FC;\n",
              "    }\n",
              "\n",
              "    [theme=dark] .colab-df-convert:hover {\n",
              "      background-color: #434B5C;\n",
              "      box-shadow: 0px 1px 3px 1px rgba(0, 0, 0, 0.15);\n",
              "      filter: drop-shadow(0px 1px 2px rgba(0, 0, 0, 0.3));\n",
              "      fill: #FFFFFF;\n",
              "    }\n",
              "  </style>\n",
              "\n",
              "      <script>\n",
              "        const buttonEl =\n",
              "          document.querySelector('#df-49e84298-a603-4337-8410-ffae97c2e0fd button.colab-df-convert');\n",
              "        buttonEl.style.display =\n",
              "          google.colab.kernel.accessAllowed ? 'block' : 'none';\n",
              "\n",
              "        async function convertToInteractive(key) {\n",
              "          const element = document.querySelector('#df-49e84298-a603-4337-8410-ffae97c2e0fd');\n",
              "          const dataTable =\n",
              "            await google.colab.kernel.invokeFunction('convertToInteractive',\n",
              "                                                     [key], {});\n",
              "          if (!dataTable) return;\n",
              "\n",
              "          const docLinkHtml = 'Like what you see? Visit the ' +\n",
              "            '<a target=\"_blank\" href=https://colab.research.google.com/notebooks/data_table.ipynb>data table notebook</a>'\n",
              "            + ' to learn more about interactive tables.';\n",
              "          element.innerHTML = '';\n",
              "          dataTable['output_type'] = 'display_data';\n",
              "          await google.colab.output.renderOutput(dataTable, element);\n",
              "          const docLink = document.createElement('div');\n",
              "          docLink.innerHTML = docLinkHtml;\n",
              "          element.appendChild(docLink);\n",
              "        }\n",
              "      </script>\n",
              "    </div>\n",
              "  </div>\n",
              "  "
            ]
          },
          "metadata": {},
          "execution_count": 8
        }
      ]
    },
    {
      "cell_type": "markdown",
      "source": [
        "### Drop incomplete data without valid PE entry"
      ],
      "metadata": {
        "id": "3rwibrDvNJur"
      }
    },
    {
      "cell_type": "code",
      "source": [
        "PE_mask = dataset['PE'].notnull().values\n",
        "dataset = dataset[PE_mask]"
      ],
      "metadata": {
        "id": "9KciQ2ZcMz32"
      },
      "execution_count": null,
      "outputs": []
    },
    {
      "cell_type": "code",
      "source": [
        "dataset.describe()"
      ],
      "metadata": {
        "colab": {
          "base_uri": "https://localhost:8080/",
          "height": 364
        },
        "id": "IxMCI1-FM_24",
        "outputId": "a4f0bfd3-84c2-4050-da28-48ba829286b2"
      },
      "execution_count": null,
      "outputs": [
        {
          "output_type": "execute_result",
          "data": {
            "text/plain": [
              "             DEPTH           GR    ILD_LOG10         DPHI        PHIND  \\\n",
              "count  3232.000000  3232.000000  3232.000000  3232.000000  3232.000000   \n",
              "mean   2875.824567    66.135769     0.642719     3.559642    13.483213   \n",
              "std     131.006274    30.854826     0.241845     5.228948     7.698980   \n",
              "min    2573.500000    13.250000    -0.025949   -21.832000     0.550000   \n",
              "25%    2791.000000    46.918750     0.492750     1.163750     8.346750   \n",
              "50%    2893.500000    65.721500     0.624437     3.500000    12.150000   \n",
              "75%    2980.000000    79.626250     0.812735     6.432500    16.453750   \n",
              "max    3122.500000   361.150000     1.480000    18.600000    84.400000   \n",
              "\n",
              "                PE         NM_M       RELPOS       FACIES  \n",
              "count  3232.000000  3232.000000  3232.000000  3232.000000  \n",
              "mean      3.725014     1.498453     0.520287     4.422030  \n",
              "std       0.896152     0.500075     0.286792     2.504243  \n",
              "min       0.200000     1.000000     0.010000     1.000000  \n",
              "25%       3.100000     1.000000     0.273000     2.000000  \n",
              "50%       3.551500     1.000000     0.526000     4.000000  \n",
              "75%       4.300000     2.000000     0.767250     6.000000  \n",
              "max       8.094000     2.000000     1.000000     9.000000  "
            ],
            "text/html": [
              "\n",
              "  <div id=\"df-c2ecdb59-a64e-4f9c-bc65-a9f46a93c8a4\">\n",
              "    <div class=\"colab-df-container\">\n",
              "      <div>\n",
              "<style scoped>\n",
              "    .dataframe tbody tr th:only-of-type {\n",
              "        vertical-align: middle;\n",
              "    }\n",
              "\n",
              "    .dataframe tbody tr th {\n",
              "        vertical-align: top;\n",
              "    }\n",
              "\n",
              "    .dataframe thead th {\n",
              "        text-align: right;\n",
              "    }\n",
              "</style>\n",
              "<table border=\"1\" class=\"dataframe\">\n",
              "  <thead>\n",
              "    <tr style=\"text-align: right;\">\n",
              "      <th></th>\n",
              "      <th>DEPTH</th>\n",
              "      <th>GR</th>\n",
              "      <th>ILD_LOG10</th>\n",
              "      <th>DPHI</th>\n",
              "      <th>PHIND</th>\n",
              "      <th>PE</th>\n",
              "      <th>NM_M</th>\n",
              "      <th>RELPOS</th>\n",
              "      <th>FACIES</th>\n",
              "    </tr>\n",
              "  </thead>\n",
              "  <tbody>\n",
              "    <tr>\n",
              "      <th>count</th>\n",
              "      <td>3232.000000</td>\n",
              "      <td>3232.000000</td>\n",
              "      <td>3232.000000</td>\n",
              "      <td>3232.000000</td>\n",
              "      <td>3232.000000</td>\n",
              "      <td>3232.000000</td>\n",
              "      <td>3232.000000</td>\n",
              "      <td>3232.000000</td>\n",
              "      <td>3232.000000</td>\n",
              "    </tr>\n",
              "    <tr>\n",
              "      <th>mean</th>\n",
              "      <td>2875.824567</td>\n",
              "      <td>66.135769</td>\n",
              "      <td>0.642719</td>\n",
              "      <td>3.559642</td>\n",
              "      <td>13.483213</td>\n",
              "      <td>3.725014</td>\n",
              "      <td>1.498453</td>\n",
              "      <td>0.520287</td>\n",
              "      <td>4.422030</td>\n",
              "    </tr>\n",
              "    <tr>\n",
              "      <th>std</th>\n",
              "      <td>131.006274</td>\n",
              "      <td>30.854826</td>\n",
              "      <td>0.241845</td>\n",
              "      <td>5.228948</td>\n",
              "      <td>7.698980</td>\n",
              "      <td>0.896152</td>\n",
              "      <td>0.500075</td>\n",
              "      <td>0.286792</td>\n",
              "      <td>2.504243</td>\n",
              "    </tr>\n",
              "    <tr>\n",
              "      <th>min</th>\n",
              "      <td>2573.500000</td>\n",
              "      <td>13.250000</td>\n",
              "      <td>-0.025949</td>\n",
              "      <td>-21.832000</td>\n",
              "      <td>0.550000</td>\n",
              "      <td>0.200000</td>\n",
              "      <td>1.000000</td>\n",
              "      <td>0.010000</td>\n",
              "      <td>1.000000</td>\n",
              "    </tr>\n",
              "    <tr>\n",
              "      <th>25%</th>\n",
              "      <td>2791.000000</td>\n",
              "      <td>46.918750</td>\n",
              "      <td>0.492750</td>\n",
              "      <td>1.163750</td>\n",
              "      <td>8.346750</td>\n",
              "      <td>3.100000</td>\n",
              "      <td>1.000000</td>\n",
              "      <td>0.273000</td>\n",
              "      <td>2.000000</td>\n",
              "    </tr>\n",
              "    <tr>\n",
              "      <th>50%</th>\n",
              "      <td>2893.500000</td>\n",
              "      <td>65.721500</td>\n",
              "      <td>0.624437</td>\n",
              "      <td>3.500000</td>\n",
              "      <td>12.150000</td>\n",
              "      <td>3.551500</td>\n",
              "      <td>1.000000</td>\n",
              "      <td>0.526000</td>\n",
              "      <td>4.000000</td>\n",
              "    </tr>\n",
              "    <tr>\n",
              "      <th>75%</th>\n",
              "      <td>2980.000000</td>\n",
              "      <td>79.626250</td>\n",
              "      <td>0.812735</td>\n",
              "      <td>6.432500</td>\n",
              "      <td>16.453750</td>\n",
              "      <td>4.300000</td>\n",
              "      <td>2.000000</td>\n",
              "      <td>0.767250</td>\n",
              "      <td>6.000000</td>\n",
              "    </tr>\n",
              "    <tr>\n",
              "      <th>max</th>\n",
              "      <td>3122.500000</td>\n",
              "      <td>361.150000</td>\n",
              "      <td>1.480000</td>\n",
              "      <td>18.600000</td>\n",
              "      <td>84.400000</td>\n",
              "      <td>8.094000</td>\n",
              "      <td>2.000000</td>\n",
              "      <td>1.000000</td>\n",
              "      <td>9.000000</td>\n",
              "    </tr>\n",
              "  </tbody>\n",
              "</table>\n",
              "</div>\n",
              "      <button class=\"colab-df-convert\" onclick=\"convertToInteractive('df-c2ecdb59-a64e-4f9c-bc65-a9f46a93c8a4')\"\n",
              "              title=\"Convert this dataframe to an interactive table.\"\n",
              "              style=\"display:none;\">\n",
              "        \n",
              "  <svg xmlns=\"http://www.w3.org/2000/svg\" height=\"24px\"viewBox=\"0 0 24 24\"\n",
              "       width=\"24px\">\n",
              "    <path d=\"M0 0h24v24H0V0z\" fill=\"none\"/>\n",
              "    <path d=\"M18.56 5.44l.94 2.06.94-2.06 2.06-.94-2.06-.94-.94-2.06-.94 2.06-2.06.94zm-11 1L8.5 8.5l.94-2.06 2.06-.94-2.06-.94L8.5 2.5l-.94 2.06-2.06.94zm10 10l.94 2.06.94-2.06 2.06-.94-2.06-.94-.94-2.06-.94 2.06-2.06.94z\"/><path d=\"M17.41 7.96l-1.37-1.37c-.4-.4-.92-.59-1.43-.59-.52 0-1.04.2-1.43.59L10.3 9.45l-7.72 7.72c-.78.78-.78 2.05 0 2.83L4 21.41c.39.39.9.59 1.41.59.51 0 1.02-.2 1.41-.59l7.78-7.78 2.81-2.81c.8-.78.8-2.07 0-2.86zM5.41 20L4 18.59l7.72-7.72 1.47 1.35L5.41 20z\"/>\n",
              "  </svg>\n",
              "      </button>\n",
              "      \n",
              "  <style>\n",
              "    .colab-df-container {\n",
              "      display:flex;\n",
              "      flex-wrap:wrap;\n",
              "      gap: 12px;\n",
              "    }\n",
              "\n",
              "    .colab-df-convert {\n",
              "      background-color: #E8F0FE;\n",
              "      border: none;\n",
              "      border-radius: 50%;\n",
              "      cursor: pointer;\n",
              "      display: none;\n",
              "      fill: #1967D2;\n",
              "      height: 32px;\n",
              "      padding: 0 0 0 0;\n",
              "      width: 32px;\n",
              "    }\n",
              "\n",
              "    .colab-df-convert:hover {\n",
              "      background-color: #E2EBFA;\n",
              "      box-shadow: 0px 1px 2px rgba(60, 64, 67, 0.3), 0px 1px 3px 1px rgba(60, 64, 67, 0.15);\n",
              "      fill: #174EA6;\n",
              "    }\n",
              "\n",
              "    [theme=dark] .colab-df-convert {\n",
              "      background-color: #3B4455;\n",
              "      fill: #D2E3FC;\n",
              "    }\n",
              "\n",
              "    [theme=dark] .colab-df-convert:hover {\n",
              "      background-color: #434B5C;\n",
              "      box-shadow: 0px 1px 3px 1px rgba(0, 0, 0, 0.15);\n",
              "      filter: drop-shadow(0px 1px 2px rgba(0, 0, 0, 0.3));\n",
              "      fill: #FFFFFF;\n",
              "    }\n",
              "  </style>\n",
              "\n",
              "      <script>\n",
              "        const buttonEl =\n",
              "          document.querySelector('#df-c2ecdb59-a64e-4f9c-bc65-a9f46a93c8a4 button.colab-df-convert');\n",
              "        buttonEl.style.display =\n",
              "          google.colab.kernel.accessAllowed ? 'block' : 'none';\n",
              "\n",
              "        async function convertToInteractive(key) {\n",
              "          const element = document.querySelector('#df-c2ecdb59-a64e-4f9c-bc65-a9f46a93c8a4');\n",
              "          const dataTable =\n",
              "            await google.colab.kernel.invokeFunction('convertToInteractive',\n",
              "                                                     [key], {});\n",
              "          if (!dataTable) return;\n",
              "\n",
              "          const docLinkHtml = 'Like what you see? Visit the ' +\n",
              "            '<a target=\"_blank\" href=https://colab.research.google.com/notebooks/data_table.ipynb>data table notebook</a>'\n",
              "            + ' to learn more about interactive tables.';\n",
              "          element.innerHTML = '';\n",
              "          dataTable['output_type'] = 'display_data';\n",
              "          await google.colab.output.renderOutput(dataTable, element);\n",
              "          const docLink = document.createElement('div');\n",
              "          docLink.innerHTML = docLinkHtml;\n",
              "          element.appendChild(docLink);\n",
              "        }\n",
              "      </script>\n",
              "    </div>\n",
              "  </div>\n",
              "  "
            ]
          },
          "metadata": {},
          "execution_count": 10
        }
      ]
    },
    {
      "cell_type": "markdown",
      "source": [
        "### Remove a single well to use as blind test later\n",
        "\n",
        "Apparently, PE reading is not conducted in ALEXANDER D and KIMZEY A well"
      ],
      "metadata": {
        "id": "D_gYrVdWNbEN"
      }
    },
    {
      "cell_type": "code",
      "source": [
        "dataset['WELL'].value_counts()"
      ],
      "metadata": {
        "colab": {
          "base_uri": "https://localhost:8080/"
        },
        "id": "2NR0xeXKNjA3",
        "outputId": "98db4e91-ec98-4ef0-c1ab-7ffd392fdbfd"
      },
      "execution_count": null,
      "outputs": [
        {
          "output_type": "execute_result",
          "data": {
            "text/plain": [
              "CROSS H CATTLE     501\n",
              "SHRIMPLIN          471\n",
              "NEWBY              463\n",
              "LUKE G U           461\n",
              "SHANKLE            449\n",
              "NOLAN              415\n",
              "CHURCHMAN BIBLE    404\n",
              "Recruit F9          68\n",
              "ALEXANDER D          0\n",
              "KIMZEY A             0\n",
              "Name: WELL, dtype: int64"
            ]
          },
          "metadata": {},
          "execution_count": 11
        }
      ]
    },
    {
      "cell_type": "markdown",
      "source": [
        "Remove a single well to use as a blind test later"
      ],
      "metadata": {
        "id": "pJwVOXnNQkC2"
      }
    },
    {
      "cell_type": "code",
      "source": [
        "blind = dataset[dataset['WELL'] == 'NOLAN']\n",
        "training = dataset[dataset['WELL'] != 'NOLAN']"
      ],
      "metadata": {
        "id": "MhLsiktYQo9j"
      },
      "execution_count": null,
      "outputs": []
    },
    {
      "cell_type": "code",
      "source": [
        "training['WELL'].value_counts()"
      ],
      "metadata": {
        "colab": {
          "base_uri": "https://localhost:8080/"
        },
        "id": "l72-k0q5Q3yM",
        "outputId": "b2333a75-e8df-4d55-f403-3f8c6d765f79"
      },
      "execution_count": null,
      "outputs": [
        {
          "output_type": "execute_result",
          "data": {
            "text/plain": [
              "CROSS H CATTLE     501\n",
              "SHRIMPLIN          471\n",
              "NEWBY              463\n",
              "LUKE G U           461\n",
              "SHANKLE            449\n",
              "CHURCHMAN BIBLE    404\n",
              "Recruit F9          68\n",
              "ALEXANDER D          0\n",
              "KIMZEY A             0\n",
              "NOLAN                0\n",
              "Name: WELL, dtype: int64"
            ]
          },
          "metadata": {},
          "execution_count": 13
        }
      ]
    },
    {
      "cell_type": "markdown",
      "source": [
        "### Plot facies distribution population"
      ],
      "metadata": {
        "id": "K0l61C_8fpK9"
      }
    },
    {
      "cell_type": "markdown",
      "source": [
        "We can look at how the various facies are represented by the entire training set. Let's plot a bar chart of the number of training examples for each facies class."
      ],
      "metadata": {
        "id": "55BKE97HfdkJ"
      }
    },
    {
      "cell_type": "code",
      "source": [
        "# populate unique category (and its population)\n",
        "facies_counts = dataset['FACIES'].value_counts().sort_index()\n",
        "# facies_counts\n",
        "facies_colors = ['#F4D03F', '#F5B041','#DC7633','#6E2C00','#1B4F72','#2E86C1', '#AED6F1', '#A569BD', '#196F3D']\n",
        "facies_counts.plot(kind='bar', color=facies_colors, title='Facies Distribution in Dataset')"
      ],
      "metadata": {
        "colab": {
          "base_uri": "https://localhost:8080/",
          "height": 295
        },
        "id": "n638h1OmIEgM",
        "outputId": "40426fe2-c16e-4bb2-b066-5b3e7a6d4fd3"
      },
      "execution_count": null,
      "outputs": [
        {
          "output_type": "execute_result",
          "data": {
            "text/plain": [
              "<matplotlib.axes._subplots.AxesSubplot at 0x7fa80aed8910>"
            ]
          },
          "metadata": {},
          "execution_count": 14
        },
        {
          "output_type": "display_data",
          "data": {
            "text/plain": [
              "<Figure size 432x288 with 1 Axes>"
            ],
            "image/png": "[encoded data removed]"
          },
          "metadata": {
            "needs_background": "light"
          }
        }
      ]
    },
    {
      "cell_type": "markdown",
      "source": [
        "### Plot log plot form"
      ],
      "metadata": {
        "id": "k-XMUla8fvLi"
      }
    },
    {
      "cell_type": "markdown",
      "source": [
        "Let's take a look at the data from individual wells in a more familiar log plot form. We will create plots for the five well log variables, as well as a log for facies labels."
      ],
      "metadata": {
        "id": "XBUwz_izRKCo"
      }
    },
    {
      "cell_type": "code",
      "source": [
        "import matplotlib.pyplot as plt\n",
        "import numpy as np\n",
        "import matplotlib.colors as colors\n",
        "from mpl_toolkits.axes_grid1 import make_axes_locatable"
      ],
      "metadata": {
        "id": "n4RKe8KpWksF"
      },
      "execution_count": null,
      "outputs": []
    },
    {
      "cell_type": "code",
      "source": [
        "logs = training[training['WELL'] == 'SHRIMPLIN']\n",
        "# make sure logs are sorted by depth\n",
        "logs = logs.sort_values(by='DEPTH')\n",
        "\n",
        "# set\n",
        "ztop = logs.DEPTH.min()\n",
        "zbottom = logs.DEPTH.max()\n",
        "\n",
        "cmap_facies = colors.ListedColormap(facies_colors[0: len(facies_colors)], 'indexed')\n",
        "\n",
        "# # create dummy 2D array to plot heatmap facies color\n",
        "cluster = np.repeat(np.expand_dims(logs['FACIES'].values, 1), 100, 1)\n",
        "\n",
        "# create plot\n",
        "f, ax = plt.subplots(nrows=1, ncols=6, figsize=(12, 6))\n",
        "ax[0].plot(logs.GR, logs.DEPTH, '-g')\n",
        "ax[1].plot(logs.ILD_LOG10, logs.DEPTH, '-')\n",
        "ax[2].plot(logs.DPHI, logs.DEPTH, '-', color='0.40')\n",
        "ax[3].plot(logs.PHIND, logs.DEPTH, '-', color='r')\n",
        "ax[4].plot(logs.PE, logs.DEPTH, '-', color='black')\n",
        "im = ax[5].imshow(cluster, aspect='auto', vmin=1, vmax=9, cmap=cmap_facies)\n",
        "\n",
        "# add suptitle\n",
        "f.suptitle(logs.iloc[0]['WELL'])\n",
        "\n",
        "# assign y-axis limits, invert y-axis, and add gridlines\n",
        "for i in range(len(ax)-1):\n",
        "  ax[i].set_ylim(ztop, zbottom)\n",
        "  ax[i].invert_yaxis()\n",
        "  ax[i].grid()\n",
        "\n",
        "# remove depth label in y-axis except for the leftmost graph\n",
        "for i in range(1, len(ax)):\n",
        "  ax[i].set_yticklabels([])\n",
        "\n",
        "# set x-axis scale and label\n",
        "ax[0].set_xlabel(\"GR\")\n",
        "ax[0].set_xlim(logs.GR.min(),logs.GR.max())\n",
        "ax[1].set_xlabel(\"ILD_LOG10\")\n",
        "ax[1].set_xlim(logs.ILD_LOG10.min(),logs.ILD_LOG10.max())\n",
        "ax[2].set_xlabel(\"DPHI\")\n",
        "ax[2].set_xlim(logs.DPHI.min(),logs.DPHI.max())\n",
        "ax[3].set_xlabel(\"PHIND\")\n",
        "ax[3].set_xlim(logs.PHIND.min(),logs.PHIND.max())\n",
        "ax[4].set_xlabel(\"PE\")\n",
        "ax[4].set_xlim(logs.PE.min(),logs.PE.max())\n",
        "ax[5].set_xlabel('FACIES')\n",
        "ax[5].set_xticklabels([])\n",
        "\n",
        "# add color bar for facies\n",
        "divider = make_axes_locatable(ax[5])\n",
        "cax = divider.append_axes(\"right\", size=\"20%\", pad=0.05)\n",
        "cbar=plt.colorbar(im, cax=cax)\n",
        "cbar.set_ticks(range(0,1)); cbar.set_ticklabels('')"
      ],
      "metadata": {
        "colab": {
          "base_uri": "https://localhost:8080/",
          "height": 432
        },
        "id": "GJaHC7uYU70l",
        "outputId": "64af541f-4436-4d60-9e29-4412d63c662f"
      },
      "execution_count": null,
      "outputs": [
        {
          "output_type": "display_data",
          "data": {
            "text/plain": [
              "<Figure size 864x432 with 7 Axes>"
            ],
            "image/png": "[encoded data removed]"
          },
          "metadata": {
            "needs_background": "light"
          }
        }
      ]
    },
    {
      "cell_type": "markdown",
      "source": [
        "### Scatter plot for each Facies"
      ],
      "metadata": {
        "id": "6oqQP61ElQaR"
      }
    },
    {
      "cell_type": "code",
      "source": [
        "# import seaborn as sns\n",
        "# sns.pairplot(training.drop(['WELL', 'FORMATION', 'DEPTH', 'NM_M', 'RELPOS'], axis=1), hue='FACIES', palette=facies_colors)"
      ],
      "metadata": {
        "id": "nUXHmIOolWAY"
      },
      "execution_count": null,
      "outputs": []
    },
    {
      "cell_type": "markdown",
      "source": [
        "### Get data correlation score"
      ],
      "metadata": {
        "id": "p9RddWn3gXOx"
      }
    },
    {
      "cell_type": "code",
      "source": [
        "training.corr('spearman')"
      ],
      "metadata": {
        "colab": {
          "base_uri": "https://localhost:8080/",
          "height": 396
        },
        "id": "xd7Bu716gPy0",
        "outputId": "40236955-4520-4989-8867-40b26d93385b"
      },
      "execution_count": null,
      "outputs": [
        {
          "output_type": "execute_result",
          "data": {
            "text/plain": [
              "              DEPTH        GR  ILD_LOG10      DPHI     PHIND        PE  \\\n",
              "DEPTH      1.000000 -0.198123   0.206847 -0.142691 -0.110336  0.290350   \n",
              "GR        -0.198123  1.000000  -0.279949  0.339476  0.436891 -0.430581   \n",
              "ILD_LOG10  0.206847 -0.279949   1.000000 -0.190011 -0.728861  0.533429   \n",
              "DPHI      -0.142691  0.339476  -0.190011  1.000000  0.040907 -0.048015   \n",
              "PHIND     -0.110336  0.436891  -0.728861  0.040907  1.000000 -0.648844   \n",
              "PE         0.290350 -0.430581   0.533429 -0.048015 -0.648844  1.000000   \n",
              "NM_M       0.321338 -0.467813   0.571912 -0.238085 -0.581239  0.688337   \n",
              "RELPOS    -0.018086 -0.179338   0.107194  0.040708 -0.059798  0.040792   \n",
              "FACIES     0.382700 -0.448357   0.473407 -0.290002 -0.431335  0.705052   \n",
              "\n",
              "               NM_M    RELPOS    FACIES  \n",
              "DEPTH      0.321338 -0.018086  0.382700  \n",
              "GR        -0.467813 -0.179338 -0.448357  \n",
              "ILD_LOG10  0.571912  0.107194  0.473407  \n",
              "DPHI      -0.238085  0.040708 -0.290002  \n",
              "PHIND     -0.581239 -0.059798 -0.431335  \n",
              "PE         0.688337  0.040792  0.705052  \n",
              "NM_M       1.000000  0.025772  0.860635  \n",
              "RELPOS     0.025772  1.000000  0.070063  \n",
              "FACIES     0.860635  0.070063  1.000000  "
            ],
            "text/html": [
              "\n",
              "  <div id=\"df-ffa352e1-1a79-4664-8abb-cb8a139426eb\">\n",
              "    <div class=\"colab-df-container\">\n",
              "      <div>\n",
              "<style scoped>\n",
              "    .dataframe tbody tr th:only-of-type {\n",
              "        vertical-align: middle;\n",
              "    }\n",
              "\n",
              "    .dataframe tbody tr th {\n",
              "        vertical-align: top;\n",
              "    }\n",
              "\n",
              "    .dataframe thead th {\n",
              "        text-align: right;\n",
              "    }\n",
              "</style>\n",
              "<table border=\"1\" class=\"dataframe\">\n",
              "  <thead>\n",
              "    <tr style=\"text-align: right;\">\n",
              "      <th></th>\n",
              "      <th>DEPTH</th>\n",
              "      <th>GR</th>\n",
              "      <th>ILD_LOG10</th>\n",
              "      <th>DPHI</th>\n",
              "      <th>PHIND</th>\n",
              "      <th>PE</th>\n",
              "      <th>NM_M</th>\n",
              "      <th>RELPOS</th>\n",
              "      <th>FACIES</th>\n",
              "    </tr>\n",
              "  </thead>\n",
              "  <tbody>\n",
              "    <tr>\n",
              "      <th>DEPTH</th>\n",
              "      <td>1.000000</td>\n",
              "      <td>-0.198123</td>\n",
              "      <td>0.206847</td>\n",
              "      <td>-0.142691</td>\n",
              "      <td>-0.110336</td>\n",
              "      <td>0.290350</td>\n",
              "      <td>0.321338</td>\n",
              "      <td>-0.018086</td>\n",
              "      <td>0.382700</td>\n",
              "    </tr>\n",
              "    <tr>\n",
              "      <th>GR</th>\n",
              "      <td>-0.198123</td>\n",
              "      <td>1.000000</td>\n",
              "      <td>-0.279949</td>\n",
              "      <td>0.339476</td>\n",
              "      <td>0.436891</td>\n",
              "      <td>-0.430581</td>\n",
              "      <td>-0.467813</td>\n",
              "      <td>-0.179338</td>\n",
              "      <td>-0.448357</td>\n",
              "    </tr>\n",
              "    <tr>\n",
              "      <th>ILD_LOG10</th>\n",
              "      <td>0.206847</td>\n",
              "      <td>-0.279949</td>\n",
              "      <td>1.000000</td>\n",
              "      <td>-0.190011</td>\n",
              "      <td>-0.728861</td>\n",
              "      <td>0.533429</td>\n",
              "      <td>0.571912</td>\n",
              "      <td>0.107194</td>\n",
              "      <td>0.473407</td>\n",
              "    </tr>\n",
              "    <tr>\n",
              "      <th>DPHI</th>\n",
              "      <td>-0.142691</td>\n",
              "      <td>0.339476</td>\n",
              "      <td>-0.190011</td>\n",
              "      <td>1.000000</td>\n",
              "      <td>0.040907</td>\n",
              "      <td>-0.048015</td>\n",
              "      <td>-0.238085</td>\n",
              "      <td>0.040708</td>\n",
              "      <td>-0.290002</td>\n",
              "    </tr>\n",
              "    <tr>\n",
              "      <th>PHIND</th>\n",
              "      <td>-0.110336</td>\n",
              "      <td>0.436891</td>\n",
              "      <td>-0.728861</td>\n",
              "      <td>0.040907</td>\n",
              "      <td>1.000000</td>\n",
              "      <td>-0.648844</td>\n",
              "      <td>-0.581239</td>\n",
              "      <td>-0.059798</td>\n",
              "      <td>-0.431335</td>\n",
              "    </tr>\n",
              "    <tr>\n",
              "      <th>PE</th>\n",
              "      <td>0.290350</td>\n",
              "      <td>-0.430581</td>\n",
              "      <td>0.533429</td>\n",
              "      <td>-0.048015</td>\n",
              "      <td>-0.648844</td>\n",
              "      <td>1.000000</td>\n",
              "      <td>0.688337</td>\n",
              "      <td>0.040792</td>\n",
              "      <td>0.705052</td>\n",
              "    </tr>\n",
              "    <tr>\n",
              "      <th>NM_M</th>\n",
              "      <td>0.321338</td>\n",
              "      <td>-0.467813</td>\n",
              "      <td>0.571912</td>\n",
              "      <td>-0.238085</td>\n",
              "      <td>-0.581239</td>\n",
              "      <td>0.688337</td>\n",
              "      <td>1.000000</td>\n",
              "      <td>0.025772</td>\n",
              "      <td>0.860635</td>\n",
              "    </tr>\n",
              "    <tr>\n",
              "      <th>RELPOS</th>\n",
              "      <td>-0.018086</td>\n",
              "      <td>-0.179338</td>\n",
              "      <td>0.107194</td>\n",
              "      <td>0.040708</td>\n",
              "      <td>-0.059798</td>\n",
              "      <td>0.040792</td>\n",
              "      <td>0.025772</td>\n",
              "      <td>1.000000</td>\n",
              "      <td>0.070063</td>\n",
              "    </tr>\n",
              "    <tr>\n",
              "      <th>FACIES</th>\n",
              "      <td>0.382700</td>\n",
              "      <td>-0.448357</td>\n",
              "      <td>0.473407</td>\n",
              "      <td>-0.290002</td>\n",
              "      <td>-0.431335</td>\n",
              "      <td>0.705052</td>\n",
              "      <td>0.860635</td>\n",
              "      <td>0.070063</td>\n",
              "      <td>1.000000</td>\n",
              "    </tr>\n",
              "  </tbody>\n",
              "</table>\n",
              "</div>\n",
              "      <button class=\"colab-df-convert\" onclick=\"convertToInteractive('df-ffa352e1-1a79-4664-8abb-cb8a139426eb')\"\n",
              "              title=\"Convert this dataframe to an interactive table.\"\n",
              "              style=\"display:none;\">\n",
              "        \n",
              "  <svg xmlns=\"http://www.w3.org/2000/svg\" height=\"24px\"viewBox=\"0 0 24 24\"\n",
              "       width=\"24px\">\n",
              "    <path d=\"M0 0h24v24H0V0z\" fill=\"none\"/>\n",
              "    <path d=\"M18.56 5.44l.94 2.06.94-2.06 2.06-.94-2.06-.94-.94-2.06-.94 2.06-2.06.94zm-11 1L8.5 8.5l.94-2.06 2.06-.94-2.06-.94L8.5 2.5l-.94 2.06-2.06.94zm10 10l.94 2.06.94-2.06 2.06-.94-2.06-.94-.94-2.06-.94 2.06-2.06.94z\"/><path d=\"M17.41 7.96l-1.37-1.37c-.4-.4-.92-.59-1.43-.59-.52 0-1.04.2-1.43.59L10.3 9.45l-7.72 7.72c-.78.78-.78 2.05 0 2.83L4 21.41c.39.39.9.59 1.41.59.51 0 1.02-.2 1.41-.59l7.78-7.78 2.81-2.81c.8-.78.8-2.07 0-2.86zM5.41 20L4 18.59l7.72-7.72 1.47 1.35L5.41 20z\"/>\n",
              "  </svg>\n",
              "      </button>\n",
              "      \n",
              "  <style>\n",
              "    .colab-df-container {\n",
              "      display:flex;\n",
              "      flex-wrap:wrap;\n",
              "      gap: 12px;\n",
              "    }\n",
              "\n",
              "    .colab-df-convert {\n",
              "      background-color: #E8F0FE;\n",
              "      border: none;\n",
              "      border-radius: 50%;\n",
              "      cursor: pointer;\n",
              "      display: none;\n",
              "      fill: #1967D2;\n",
              "      height: 32px;\n",
              "      padding: 0 0 0 0;\n",
              "      width: 32px;\n",
              "    }\n",
              "\n",
              "    .colab-df-convert:hover {\n",
              "      background-color: #E2EBFA;\n",
              "      box-shadow: 0px 1px 2px rgba(60, 64, 67, 0.3), 0px 1px 3px 1px rgba(60, 64, 67, 0.15);\n",
              "      fill: #174EA6;\n",
              "    }\n",
              "\n",
              "    [theme=dark] .colab-df-convert {\n",
              "      background-color: #3B4455;\n",
              "      fill: #D2E3FC;\n",
              "    }\n",
              "\n",
              "    [theme=dark] .colab-df-convert:hover {\n",
              "      background-color: #434B5C;\n",
              "      box-shadow: 0px 1px 3px 1px rgba(0, 0, 0, 0.15);\n",
              "      filter: drop-shadow(0px 1px 2px rgba(0, 0, 0, 0.3));\n",
              "      fill: #FFFFFF;\n",
              "    }\n",
              "  </style>\n",
              "\n",
              "      <script>\n",
              "        const buttonEl =\n",
              "          document.querySelector('#df-ffa352e1-1a79-4664-8abb-cb8a139426eb button.colab-df-convert');\n",
              "        buttonEl.style.display =\n",
              "          google.colab.kernel.accessAllowed ? 'block' : 'none';\n",
              "\n",
              "        async function convertToInteractive(key) {\n",
              "          const element = document.querySelector('#df-ffa352e1-1a79-4664-8abb-cb8a139426eb');\n",
              "          const dataTable =\n",
              "            await google.colab.kernel.invokeFunction('convertToInteractive',\n",
              "                                                     [key], {});\n",
              "          if (!dataTable) return;\n",
              "\n",
              "          const docLinkHtml = 'Like what you see? Visit the ' +\n",
              "            '<a target=\"_blank\" href=https://colab.research.google.com/notebooks/data_table.ipynb>data table notebook</a>'\n",
              "            + ' to learn more about interactive tables.';\n",
              "          element.innerHTML = '';\n",
              "          dataTable['output_type'] = 'display_data';\n",
              "          await google.colab.output.renderOutput(dataTable, element);\n",
              "          const docLink = document.createElement('div');\n",
              "          docLink.innerHTML = docLinkHtml;\n",
              "          element.appendChild(docLink);\n",
              "        }\n",
              "      </script>\n",
              "    </div>\n",
              "  </div>\n",
              "  "
            ]
          },
          "metadata": {},
          "execution_count": 18
        }
      ]
    },
    {
      "cell_type": "code",
      "source": [
        "import seaborn as sns\n",
        "plt.figure(figsize=(14,8))\n",
        "sns.heatmap(training.corr('spearman'), annot=True, fmt='.0%')"
      ],
      "metadata": {
        "colab": {
          "base_uri": "https://localhost:8080/",
          "height": 505
        },
        "id": "7h4R33TmgaGK",
        "outputId": "5cc4a8ae-5a9c-4c8f-9451-84aa8deb4d90"
      },
      "execution_count": null,
      "outputs": [
        {
          "output_type": "execute_result",
          "data": {
            "text/plain": [
              "<matplotlib.axes._subplots.AxesSubplot at 0x7fa8017012e0>"
            ]
          },
          "metadata": {},
          "execution_count": 19
        },
        {
          "output_type": "display_data",
          "data": {
            "text/plain": [
              "<Figure size 1008x576 with 2 Axes>"
            ],
            "image/png": "[encoded data removed]"
          },
          "metadata": {
            "needs_background": "light"
          }
        }
      ]
    },
    {
      "cell_type": "markdown",
      "metadata": {
        "id": "K9YMEgWS-lqz"
      },
      "source": [
        "It seems that the best correlation of target label(facies) belongs to geological factor of NM_M with 86% agreement. PE, which is lithology loging tools shows 70%."
      ]
    },
    {
      "cell_type": "markdown",
      "source": [
        "## Data Preprocessing"
      ],
      "metadata": {
        "id": "r8FlTpzOh4eS"
      }
    },
    {
      "cell_type": "markdown",
      "source": [
        "We need to prepare feature matrix and target matrix. **Feature matrix** `x` will include 5 wireline readings (GR, ILD_LOG10, DPHI, PHIND, RELPOS) and 2 geological constraining variables. **Target matrix** `y` will include FACIES category."
      ],
      "metadata": {
        "id": "WU6m1iZVh-UV"
      }
    },
    {
      "cell_type": "code",
      "source": [
        "y = training['FACIES'].values\n",
        "X = training.drop(['FORMATION', 'WELL', 'DEPTH', 'FACIES'], axis=1)"
      ],
      "metadata": {
        "id": "RAJtfMaxi30C"
      },
      "execution_count": null,
      "outputs": []
    },
    {
      "cell_type": "code",
      "source": [
        "X.columns"
      ],
      "metadata": {
        "colab": {
          "base_uri": "https://localhost:8080/"
        },
        "id": "lT84j0TunVsb",
        "outputId": "ec12a288-5748-4143-efa0-674cce7a9dfa"
      },
      "execution_count": null,
      "outputs": [
        {
          "output_type": "execute_result",
          "data": {
            "text/plain": [
              "Index(['GR', 'ILD_LOG10', 'DPHI', 'PHIND', 'PE', 'NM_M', 'RELPOS'], dtype='object')"
            ]
          },
          "metadata": {},
          "execution_count": 21
        }
      ]
    },
    {
      "cell_type": "code",
      "source": [
        "plt.figure(figsize=(14,8))\n",
        "X.boxplot()"
      ],
      "metadata": {
        "colab": {
          "base_uri": "https://localhost:8080/",
          "height": 477
        },
        "id": "Pg5RhCkukgqk",
        "outputId": "cbf186de-35a5-471f-976c-d2e52a3bf851"
      },
      "execution_count": null,
      "outputs": [
        {
          "output_type": "execute_result",
          "data": {
            "text/plain": [
              "<matplotlib.axes._subplots.AxesSubplot at 0x7fa8016f45e0>"
            ]
          },
          "metadata": {},
          "execution_count": 22
        },
        {
          "output_type": "display_data",
          "data": {
            "text/plain": [
              "<Figure size 1008x576 with 1 Axes>"
            ],
            "image/png": "[encoded data removed]"
          },
          "metadata": {
            "needs_background": "light"
          }
        }
      ]
    },
    {
      "cell_type": "markdown",
      "source": [
        "### Data splitting\n",
        "\n",
        "Using Scikit data split function, we may randomly split the training data into training and test sets. We select 20% of the data for the test set.\n",
        "\n",
        "Note:\n",
        "*   It is suggested to perform splitting before standardization to prevent information leakage\n",
        "*   Since we already have the \"blind set\", we may skip `train_test_split` to create test set (as a blind set) and use cross validation during model selection\n",
        "\n"
      ],
      "metadata": {
        "id": "wCcb9bdH5rS9"
      }
    },
    {
      "cell_type": "code",
      "source": [
        "from sklearn.model_selection import train_test_split\n",
        "\n",
        "X_train, X_test, y_train, y_test = train_test_split(X, y, test_size=0.2)"
      ],
      "metadata": {
        "id": "F3dO-CxK5xUc"
      },
      "execution_count": null,
      "outputs": []
    },
    {
      "cell_type": "code",
      "source": [
        "X_test.describe()"
      ],
      "metadata": {
        "colab": {
          "base_uri": "https://localhost:8080/",
          "height": 300
        },
        "id": "tePYTfX_7xFp",
        "outputId": "ee5f580f-73f2-4de3-de73-2a31e7c11187"
      },
      "execution_count": null,
      "outputs": [
        {
          "output_type": "execute_result",
          "data": {
            "text/plain": [
              "               GR   ILD_LOG10        DPHI       PHIND          PE        NM_M  \\\n",
              "count  564.000000  564.000000  564.000000  564.000000  564.000000  564.000000   \n",
              "mean    66.633780    0.634056    3.683970   14.087379    3.665124    1.501773   \n",
              "std     32.877957    0.249133    5.586356    8.609591    0.853444    0.500441   \n",
              "min     13.530000   -0.025949  -19.900000    0.550000    0.646000    1.000000   \n",
              "25%     47.047250    0.465844    1.200000    8.587750    3.100000    1.000000   \n",
              "50%     65.155000    0.620724    3.900000   12.467500    3.554500    2.000000   \n",
              "75%     78.955000    0.810000    6.700000   17.175000    4.249250    2.000000   \n",
              "max    361.150000    1.360000   18.500000   84.400000    6.941000    2.000000   \n",
              "\n",
              "           RELPOS  \n",
              "count  564.000000  \n",
              "mean     0.518041  \n",
              "std      0.295755  \n",
              "min      0.015000  \n",
              "25%      0.263000  \n",
              "50%      0.527500  \n",
              "75%      0.787500  \n",
              "max      1.000000  "
            ],
            "text/html": [
              "\n",
              "  <div id=\"df-b8ba6d89-6864-481f-8c67-3f7d8f2b21b2\">\n",
              "    <div class=\"colab-df-container\">\n",
              "      <div>\n",
              "<style scoped>\n",
              "    .dataframe tbody tr th:only-of-type {\n",
              "        vertical-align: middle;\n",
              "    }\n",
              "\n",
              "    .dataframe tbody tr th {\n",
              "        vertical-align: top;\n",
              "    }\n",
              "\n",
              "    .dataframe thead th {\n",
              "        text-align: right;\n",
              "    }\n",
              "</style>\n",
              "<table border=\"1\" class=\"dataframe\">\n",
              "  <thead>\n",
              "    <tr style=\"text-align: right;\">\n",
              "      <th></th>\n",
              "      <th>GR</th>\n",
              "      <th>ILD_LOG10</th>\n",
              "      <th>DPHI</th>\n",
              "      <th>PHIND</th>\n",
              "      <th>PE</th>\n",
              "      <th>NM_M</th>\n",
              "      <th>RELPOS</th>\n",
              "    </tr>\n",
              "  </thead>\n",
              "  <tbody>\n",
              "    <tr>\n",
              "      <th>count</th>\n",
              "      <td>564.000000</td>\n",
              "      <td>564.000000</td>\n",
              "      <td>564.000000</td>\n",
              "      <td>564.000000</td>\n",
              "      <td>564.000000</td>\n",
              "      <td>564.000000</td>\n",
              "      <td>564.000000</td>\n",
              "    </tr>\n",
              "    <tr>\n",
              "      <th>mean</th>\n",
              "      <td>66.633780</td>\n",
              "      <td>0.634056</td>\n",
              "      <td>3.683970</td>\n",
              "      <td>14.087379</td>\n",
              "      <td>3.665124</td>\n",
              "      <td>1.501773</td>\n",
              "      <td>0.518041</td>\n",
              "    </tr>\n",
              "    <tr>\n",
              "      <th>std</th>\n",
              "      <td>32.877957</td>\n",
              "      <td>0.249133</td>\n",
              "      <td>5.586356</td>\n",
              "      <td>8.609591</td>\n",
              "      <td>0.853444</td>\n",
              "      <td>0.500441</td>\n",
              "      <td>0.295755</td>\n",
              "    </tr>\n",
              "    <tr>\n",
              "      <th>min</th>\n",
              "      <td>13.530000</td>\n",
              "      <td>-0.025949</td>\n",
              "      <td>-19.900000</td>\n",
              "      <td>0.550000</td>\n",
              "      <td>0.646000</td>\n",
              "      <td>1.000000</td>\n",
              "      <td>0.015000</td>\n",
              "    </tr>\n",
              "    <tr>\n",
              "      <th>25%</th>\n",
              "      <td>47.047250</td>\n",
              "      <td>0.465844</td>\n",
              "      <td>1.200000</td>\n",
              "      <td>8.587750</td>\n",
              "      <td>3.100000</td>\n",
              "      <td>1.000000</td>\n",
              "      <td>0.263000</td>\n",
              "    </tr>\n",
              "    <tr>\n",
              "      <th>50%</th>\n",
              "      <td>65.155000</td>\n",
              "      <td>0.620724</td>\n",
              "      <td>3.900000</td>\n",
              "      <td>12.467500</td>\n",
              "      <td>3.554500</td>\n",
              "      <td>2.000000</td>\n",
              "      <td>0.527500</td>\n",
              "    </tr>\n",
              "    <tr>\n",
              "      <th>75%</th>\n",
              "      <td>78.955000</td>\n",
              "      <td>0.810000</td>\n",
              "      <td>6.700000</td>\n",
              "      <td>17.175000</td>\n",
              "      <td>4.249250</td>\n",
              "      <td>2.000000</td>\n",
              "      <td>0.787500</td>\n",
              "    </tr>\n",
              "    <tr>\n",
              "      <th>max</th>\n",
              "      <td>361.150000</td>\n",
              "      <td>1.360000</td>\n",
              "      <td>18.500000</td>\n",
              "      <td>84.400000</td>\n",
              "      <td>6.941000</td>\n",
              "      <td>2.000000</td>\n",
              "      <td>1.000000</td>\n",
              "    </tr>\n",
              "  </tbody>\n",
              "</table>\n",
              "</div>\n",
              "      <button class=\"colab-df-convert\" onclick=\"convertToInteractive('df-b8ba6d89-6864-481f-8c67-3f7d8f2b21b2')\"\n",
              "              title=\"Convert this dataframe to an interactive table.\"\n",
              "              style=\"display:none;\">\n",
              "        \n",
              "  <svg xmlns=\"http://www.w3.org/2000/svg\" height=\"24px\"viewBox=\"0 0 24 24\"\n",
              "       width=\"24px\">\n",
              "    <path d=\"M0 0h24v24H0V0z\" fill=\"none\"/>\n",
              "    <path d=\"M18.56 5.44l.94 2.06.94-2.06 2.06-.94-2.06-.94-.94-2.06-.94 2.06-2.06.94zm-11 1L8.5 8.5l.94-2.06 2.06-.94-2.06-.94L8.5 2.5l-.94 2.06-2.06.94zm10 10l.94 2.06.94-2.06 2.06-.94-2.06-.94-.94-2.06-.94 2.06-2.06.94z\"/><path d=\"M17.41 7.96l-1.37-1.37c-.4-.4-.92-.59-1.43-.59-.52 0-1.04.2-1.43.59L10.3 9.45l-7.72 7.72c-.78.78-.78 2.05 0 2.83L4 21.41c.39.39.9.59 1.41.59.51 0 1.02-.2 1.41-.59l7.78-7.78 2.81-2.81c.8-.78.8-2.07 0-2.86zM5.41 20L4 18.59l7.72-7.72 1.47 1.35L5.41 20z\"/>\n",
              "  </svg>\n",
              "      </button>\n",
              "      \n",
              "  <style>\n",
              "    .colab-df-container {\n",
              "      display:flex;\n",
              "      flex-wrap:wrap;\n",
              "      gap: 12px;\n",
              "    }\n",
              "\n",
              "    .colab-df-convert {\n",
              "      background-color: #E8F0FE;\n",
              "      border: none;\n",
              "      border-radius: 50%;\n",
              "      cursor: pointer;\n",
              "      display: none;\n",
              "      fill: #1967D2;\n",
              "      height: 32px;\n",
              "      padding: 0 0 0 0;\n",
              "      width: 32px;\n",
              "    }\n",
              "\n",
              "    .colab-df-convert:hover {\n",
              "      background-color: #E2EBFA;\n",
              "      box-shadow: 0px 1px 2px rgba(60, 64, 67, 0.3), 0px 1px 3px 1px rgba(60, 64, 67, 0.15);\n",
              "      fill: #174EA6;\n",
              "    }\n",
              "\n",
              "    [theme=dark] .colab-df-convert {\n",
              "      background-color: #3B4455;\n",
              "      fill: #D2E3FC;\n",
              "    }\n",
              "\n",
              "    [theme=dark] .colab-df-convert:hover {\n",
              "      background-color: #434B5C;\n",
              "      box-shadow: 0px 1px 3px 1px rgba(0, 0, 0, 0.15);\n",
              "      filter: drop-shadow(0px 1px 2px rgba(0, 0, 0, 0.3));\n",
              "      fill: #FFFFFF;\n",
              "    }\n",
              "  </style>\n",
              "\n",
              "      <script>\n",
              "        const buttonEl =\n",
              "          document.querySelector('#df-b8ba6d89-6864-481f-8c67-3f7d8f2b21b2 button.colab-df-convert');\n",
              "        buttonEl.style.display =\n",
              "          google.colab.kernel.accessAllowed ? 'block' : 'none';\n",
              "\n",
              "        async function convertToInteractive(key) {\n",
              "          const element = document.querySelector('#df-b8ba6d89-6864-481f-8c67-3f7d8f2b21b2');\n",
              "          const dataTable =\n",
              "            await google.colab.kernel.invokeFunction('convertToInteractive',\n",
              "                                                     [key], {});\n",
              "          if (!dataTable) return;\n",
              "\n",
              "          const docLinkHtml = 'Like what you see? Visit the ' +\n",
              "            '<a target=\"_blank\" href=https://colab.research.google.com/notebooks/data_table.ipynb>data table notebook</a>'\n",
              "            + ' to learn more about interactive tables.';\n",
              "          element.innerHTML = '';\n",
              "          dataTable['output_type'] = 'display_data';\n",
              "          await google.colab.output.renderOutput(dataTable, element);\n",
              "          const docLink = document.createElement('div');\n",
              "          docLink.innerHTML = docLinkHtml;\n",
              "          element.appendChild(docLink);\n",
              "        }\n",
              "      </script>\n",
              "    </div>\n",
              "  </div>\n",
              "  "
            ]
          },
          "metadata": {},
          "execution_count": 24
        }
      ]
    },
    {
      "cell_type": "markdown",
      "source": [
        "Compare the boxplot for feature matrix before and after standardization. **Before standardization**, features have different scale."
      ],
      "metadata": {
        "id": "ngaGMLF6981Y"
      }
    },
    {
      "cell_type": "code",
      "source": [
        "plt.figure(figsize=(14,8))\n",
        "X_train.boxplot()"
      ],
      "metadata": {
        "colab": {
          "base_uri": "https://localhost:8080/",
          "height": 477
        },
        "id": "xCA0gO9P8IXb",
        "outputId": "31f20fac-f991-4595-8404-41d6cace5627"
      },
      "execution_count": null,
      "outputs": [
        {
          "output_type": "execute_result",
          "data": {
            "text/plain": [
              "<matplotlib.axes._subplots.AxesSubplot at 0x7fa7fe3afd00>"
            ]
          },
          "metadata": {},
          "execution_count": 25
        },
        {
          "output_type": "display_data",
          "data": {
            "text/plain": [
              "<Figure size 1008x576 with 1 Axes>"
            ],
            "image/png": "[encoded data removed]"
          },
          "metadata": {
            "needs_background": "light"
          }
        }
      ]
    },
    {
      "cell_type": "markdown",
      "source": [
        "### Standardization\n",
        "\n",
        "Almost all machine learning models work efficenctly when data is standardized for zero mean and unit variance. Using Scikit preprocessing module:"
      ],
      "metadata": {
        "id": "Cf3LYQdtjskI"
      }
    },
    {
      "cell_type": "code",
      "source": [
        "from sklearn.preprocessing import StandardScaler\n",
        "\n",
        "# create StandardScaler instance\n",
        "scaler = StandardScaler()\n",
        "\n",
        "# train the scaler to fit X_train\n",
        "scaler.fit(X_train)\n",
        "\n",
        "# create transformed X_train_scaled\n",
        "X_train_scaled = scaler.transform(X_train)\n",
        "X_train_scaled = pd.DataFrame(X_train_scaled, columns=X.columns)"
      ],
      "metadata": {
        "id": "w5KOuVjYjvY2"
      },
      "execution_count": null,
      "outputs": []
    },
    {
      "cell_type": "markdown",
      "source": [
        "Compare the boxplot for feature matrix before and after standardization. **After standardization**, features have similar scale."
      ],
      "metadata": {
        "id": "Hs7jKS9a-ThI"
      }
    },
    {
      "cell_type": "code",
      "source": [
        "plt.figure(figsize=(14,8))\n",
        "X_train_scaled.boxplot()"
      ],
      "metadata": {
        "colab": {
          "base_uri": "https://localhost:8080/",
          "height": 479
        },
        "id": "dkWCrUzu-aKq",
        "outputId": "c8c3cef6-de0d-42be-ad28-f039d2177b65"
      },
      "execution_count": null,
      "outputs": [
        {
          "output_type": "execute_result",
          "data": {
            "text/plain": [
              "<matplotlib.axes._subplots.AxesSubplot at 0x7fa7fe3af400>"
            ]
          },
          "metadata": {},
          "execution_count": 27
        },
        {
          "output_type": "display_data",
          "data": {
            "text/plain": [
              "<Figure size 1008x576 with 1 Axes>"
            ],
            "image/png": "[encoded data removed]"
          },
          "metadata": {
            "needs_background": "light"
          }
        }
      ]
    },
    {
      "cell_type": "code",
      "source": [
        "# some attributes of StandardScaler\n",
        "scaler.mean_  # mean\n",
        "scaler.var_   # variance\n",
        "scaler.n_samples_seen_  # sample number\n",
        "scaler.scale_ # feature relative scaling to achieve zero mean and unit variance"
      ],
      "metadata": {
        "colab": {
          "base_uri": "https://localhost:8080/"
        },
        "id": "Nq3Y91hQ87oz",
        "outputId": "7433bc0a-fd39-4ce8-8e58-4c77a028e12d"
      },
      "execution_count": null,
      "outputs": [
        {
          "output_type": "execute_result",
          "data": {
            "text/plain": [
              "array([29.94473984,  0.24440613,  5.50339438,  7.85949078,  0.90768729,\n",
              "        0.49993966,  0.28449084])"
            ]
          },
          "metadata": {},
          "execution_count": 28
        }
      ]
    },
    {
      "cell_type": "markdown",
      "source": [
        "# MODELING USING SUPPORT VECTOR"
      ],
      "metadata": {
        "id": "N-gibg30mZlZ"
      }
    },
    {
      "cell_type": "markdown",
      "source": [
        "## Modeling (Simple)\n",
        "\n",
        "There are [several](https://scikit-learn.org/stable/supervised_learning.html#supervised-learning) model approaches/ algorithms that can be used for Facies classificaiton. Explanation the basic concept behind each methods and pros/cons of them can be found in sklearn documentation."
      ],
      "metadata": {
        "id": "K8JLHXzDoY1q"
      }
    },
    {
      "cell_type": "code",
      "source": [
        "from sklearn.svm import SVC\n",
        "\n",
        "# create Support Vector Classifier model, use default parameter\n",
        "model = SVC()\n",
        "\n",
        "# training using train data\n",
        "model.fit(X_train_scaled, y_train)\n",
        "\n",
        "# don't forget to standardize the X_test first\n",
        "X_test_scaled = scaler.transform(X_test)\n",
        "X_test_scaled = pd.DataFrame(X_test_scaled, columns=X.columns)\n",
        "\n",
        "# predict result\n",
        "y_pred = model.predict(X_test_scaled)"
      ],
      "metadata": {
        "id": "8ByMTbQbog8K"
      },
      "execution_count": null,
      "outputs": []
    },
    {
      "cell_type": "markdown",
      "source": [
        "Sometimes, we want to know the score/ model performed using training dataset"
      ],
      "metadata": {
        "id": "6N2F0InOsjGm"
      }
    },
    {
      "cell_type": "code",
      "source": [
        "from sklearn.metrics import accuracy_score\n",
        "\n",
        "# score on training set (seen by model during training)\n",
        "accuracy_score(y_train, model.predict(X_train_scaled))"
      ],
      "metadata": {
        "colab": {
          "base_uri": "https://localhost:8080/"
        },
        "id": "p6ECohQAspUy",
        "outputId": "4cf06f55-2e51-4efe-bfab-52931f82e8aa"
      },
      "execution_count": null,
      "outputs": [
        {
          "output_type": "execute_result",
          "data": {
            "text/plain": [
              "0.6750998668442078"
            ]
          },
          "metadata": {},
          "execution_count": 30
        }
      ]
    },
    {
      "cell_type": "markdown",
      "source": [
        "### Model Evaluation\n",
        "To see how our model perform during prediction\n",
        "\n",
        "Reference: [Metric and Scoring](https://scikit-learn.org/stable/modules/model_evaluation.html#classification-metrics)"
      ],
      "metadata": {
        "id": "fzcswmpsBuUx"
      }
    },
    {
      "cell_type": "markdown",
      "source": [
        "**Accuracy**\n",
        "\n",
        "Compared with score on training set, test set usually has lower score"
      ],
      "metadata": {
        "id": "_4-9-RO-C6lS"
      }
    },
    {
      "cell_type": "code",
      "source": [
        "from sklearn.metrics import accuracy_score\n",
        "\n",
        "# score on test set (never seen by model during training)\n",
        "accuracy_score(y_test, y_pred)"
      ],
      "metadata": {
        "colab": {
          "base_uri": "https://localhost:8080/"
        },
        "id": "gwrg8Q2WC9yO",
        "outputId": "4b7da622-0e8d-42ba-a5ca-01b532b1e50f"
      },
      "execution_count": null,
      "outputs": [
        {
          "output_type": "execute_result",
          "data": {
            "text/plain": [
              "0.6400709219858156"
            ]
          },
          "metadata": {},
          "execution_count": 31
        }
      ]
    },
    {
      "cell_type": "markdown",
      "source": [
        "**Confusion Matrix**"
      ],
      "metadata": {
        "id": "n-Fu2Q9KCQ7D"
      }
    },
    {
      "cell_type": "code",
      "source": [
        "from sklearn.metrics import confusion_matrix\n",
        "from sklearn.metrics import ConfusionMatrixDisplay\n",
        "\n",
        "cm = confusion_matrix(y_test, y_pred)\n",
        "ConfusionMatrixDisplay(cm).plot()"
      ],
      "metadata": {
        "colab": {
          "base_uri": "https://localhost:8080/",
          "height": 296
        },
        "id": "hz0NqWhHCaHp",
        "outputId": "a9e14e35-7292-4277-800a-c8278448727e"
      },
      "execution_count": null,
      "outputs": [
        {
          "output_type": "execute_result",
          "data": {
            "text/plain": [
              "<sklearn.metrics._plot.confusion_matrix.ConfusionMatrixDisplay at 0x7fa7fde367c0>"
            ]
          },
          "metadata": {},
          "execution_count": 32
        },
        {
          "output_type": "display_data",
          "data": {
            "text/plain": [
              "<Figure size 432x288 with 2 Axes>"
            ],
            "image/png": "[encoded data removed]"
          },
          "metadata": {
            "needs_background": "light"
          }
        }
      ]
    },
    {
      "cell_type": "markdown",
      "source": [
        "The confusion matrix has rows and columns. The rows correspond to actual facies labels and columns show model prediction results. As high value as a possible outcome of the model in diagonal of the matrix, as good as model prediction perfromance."
      ],
      "metadata": {
        "id": "J26Vg2uMCxpX"
      }
    },
    {
      "cell_type": "markdown",
      "source": [
        "**Classification Report**"
      ],
      "metadata": {
        "id": "5rXZDfPrEMlA"
      }
    },
    {
      "cell_type": "code",
      "source": [
        "from sklearn.metrics import classification_report\n",
        "\n",
        "print(classification_report(y_test, y_pred))"
      ],
      "metadata": {
        "colab": {
          "base_uri": "https://localhost:8080/"
        },
        "id": "jU7O62IMEOxb",
        "outputId": "29a021f0-61a1-4595-da25-7a606eacf034"
      },
      "execution_count": null,
      "outputs": [
        {
          "output_type": "stream",
          "name": "stdout",
          "text": [
            "              precision    recall  f1-score   support\n",
            "\n",
            "           1       0.81      0.56      0.66        61\n",
            "           2       0.66      0.71      0.68       119\n",
            "           3       0.70      0.80      0.74        98\n",
            "           4       0.71      0.58      0.64        43\n",
            "           5       0.50      0.07      0.12        29\n",
            "           6       0.52      0.68      0.59        85\n",
            "           7       0.41      0.47      0.44        19\n",
            "           8       0.60      0.63      0.62        82\n",
            "           9       0.83      0.68      0.75        28\n",
            "\n",
            "    accuracy                           0.64       564\n",
            "   macro avg       0.64      0.58      0.58       564\n",
            "weighted avg       0.65      0.64      0.63       564\n",
            "\n"
          ]
        }
      ]
    },
    {
      "cell_type": "markdown",
      "source": [
        "**Cross Validation Score**\n",
        "\n",
        "We've used the data only once for training based on a single randomly selected X_train data from X. Let's explore other possibility for different set of X and y data splitting.\n",
        "\n",
        "`cross_val_score` from `model_selection` can be used to display various cross validation score, including:\n",
        "* `f1`, `f1_micro`, and `f1_macro`\n",
        "* `accuracy`\n",
        "* `precision`\n",
        "* `recall`\n",
        "* `roc_auc`\n",
        "\n",
        "Note: differentiate which metrics is applicable for multiclass/ single class classification\n",
        "\n",
        "Reference: [sklearn.model_selection.cross_val_score](https://scikit-learn.org/stable/modules/generated/sklearn.model_selection.cross_val_score.html)"
      ],
      "metadata": {
        "id": "_IGPQ4ZhDhwy"
      }
    },
    {
      "cell_type": "code",
      "source": [
        "from sklearn.model_selection import cross_val_score\n",
        "\n",
        "scores = cross_val_score(model, scaler.transform(X), y, scoring='accuracy', cv=5)\n",
        "scores"
      ],
      "metadata": {
        "colab": {
          "base_uri": "https://localhost:8080/"
        },
        "id": "-pdDr4pKDyGz",
        "outputId": "203f16fb-c9e2-4a61-fddc-2a4cbfdbc042"
      },
      "execution_count": null,
      "outputs": [
        {
          "output_type": "execute_result",
          "data": {
            "text/plain": [
              "array([0.54078014, 0.62765957, 0.53641208, 0.43161634, 0.57904085])"
            ]
          },
          "metadata": {},
          "execution_count": 34
        }
      ]
    },
    {
      "cell_type": "code",
      "source": [
        "scores.mean()"
      ],
      "metadata": {
        "colab": {
          "base_uri": "https://localhost:8080/"
        },
        "id": "LLvMPP25HkjC",
        "outputId": "9bd4e84e-6d67-40de-c26d-be1812b3d2de"
      },
      "execution_count": null,
      "outputs": [
        {
          "output_type": "execute_result",
          "data": {
            "text/plain": [
              "0.5431017976140986"
            ]
          },
          "metadata": {},
          "execution_count": 35
        }
      ]
    },
    {
      "cell_type": "code",
      "source": [
        "scores.std()"
      ],
      "metadata": {
        "colab": {
          "base_uri": "https://localhost:8080/"
        },
        "id": "EIzxRWXHHu7x",
        "outputId": "c7ac3dea-41dc-4ebf-c160-4c3483c78d2f"
      },
      "execution_count": null,
      "outputs": [
        {
          "output_type": "execute_result",
          "data": {
            "text/plain": [
              "0.06468505663553864"
            ]
          },
          "metadata": {},
          "execution_count": 36
        }
      ]
    },
    {
      "cell_type": "markdown",
      "source": [
        "## Modeling (with Hyperparameter Tuning)\n",
        "\n",
        "So far, we've explore the simple Support Vector Classifier model using default hyperparameter setup. What if we can optimize the hyperparameter setup?\n",
        "\n",
        "Reference about grid search: [sklearn.model_selection.GridSearchCV](https://scikit-learn.org/stable/modules/generated/sklearn.model_selection.GridSearchCV.html)\n",
        "\n",
        "Reference about SVC model: [sklearn.svm.SVC](https://scikit-learn.org/stable/modules/generated/sklearn.svm.SVC.html)"
      ],
      "metadata": {
        "id": "jz8kMrM4IMPf"
      }
    },
    {
      "cell_type": "markdown",
      "source": [
        "### Hyperparameter Tuning"
      ],
      "metadata": {
        "id": "FhJjlgKvQira"
      }
    },
    {
      "cell_type": "code",
      "source": [
        "from sklearn.model_selection import GridSearchCV\n",
        "\n",
        "param_distributions = {'C': np.arange(1, 11, 2),\n",
        "                       'kernel': ['linear', 'poly', 'rbf']}\n",
        "grid_search = GridSearchCV(SVC(),\n",
        "                           param_distributions,\n",
        "                           scoring='accuracy',\n",
        "                           cv=10)\n",
        "grid_search.fit(X_train_scaled, y_train)"
      ],
      "metadata": {
        "colab": {
          "base_uri": "https://localhost:8080/"
        },
        "id": "UwTJ0Gl0JOh0",
        "outputId": "1a52d5a4-9931-4b76-ebf4-0ea587c6a601"
      },
      "execution_count": null,
      "outputs": [
        {
          "output_type": "execute_result",
          "data": {
            "text/plain": [
              "GridSearchCV(cv=10, estimator=SVC(),\n",
              "             param_grid={'C': array([1, 3, 5, 7, 9]),\n",
              "                         'kernel': ['linear', 'poly', 'rbf']},\n",
              "             scoring='accuracy')"
            ]
          },
          "metadata": {},
          "execution_count": 37
        }
      ]
    },
    {
      "cell_type": "code",
      "source": [
        "# display best hyperparameter configuration\n",
        "grid_search.best_params_"
      ],
      "metadata": {
        "colab": {
          "base_uri": "https://localhost:8080/"
        },
        "id": "tgs_whS3NuDw",
        "outputId": "0daf3d86-8854-409a-d5a6-fbc6c0969dde"
      },
      "execution_count": null,
      "outputs": [
        {
          "output_type": "execute_result",
          "data": {
            "text/plain": [
              "{'C': 7, 'kernel': 'rbf'}"
            ]
          },
          "metadata": {},
          "execution_count": 38
        }
      ]
    },
    {
      "cell_type": "code",
      "source": [
        "# display result\n",
        "pd.DataFrame(grid_search.cv_results_).transpose()"
      ],
      "metadata": {
        "colab": {
          "base_uri": "https://localhost:8080/",
          "height": 775
        },
        "id": "EVsl1fnVNf10",
        "outputId": "d19999b6-c49e-4754-a51d-031d2298e0ff"
      },
      "execution_count": null,
      "outputs": [
        {
          "output_type": "execute_result",
          "data": {
            "text/plain": [
              "                                             0                           1   \\\n",
              "mean_fit_time                           0.23169                    0.261081   \n",
              "std_fit_time                           0.050209                    0.044364   \n",
              "mean_score_time                        0.029841                    0.034434   \n",
              "std_score_time                         0.011175                    0.012641   \n",
              "param_C                                       1                           1   \n",
              "param_kernel                             linear                        poly   \n",
              "params             {'C': 1, 'kernel': 'linear'}  {'C': 1, 'kernel': 'poly'}   \n",
              "split0_test_score                      0.584071                    0.575221   \n",
              "split1_test_score                      0.570796                    0.623894   \n",
              "split2_test_score                      0.504425                    0.561947   \n",
              "split3_test_score                      0.533333                    0.555556   \n",
              "split4_test_score                      0.617778                    0.631111   \n",
              "split5_test_score                      0.582222                    0.617778   \n",
              "split6_test_score                          0.56                    0.577778   \n",
              "split7_test_score                      0.631111                    0.582222   \n",
              "split8_test_score                      0.608889                    0.631111   \n",
              "split9_test_score                      0.626667                    0.662222   \n",
              "mean_test_score                        0.581929                    0.601884   \n",
              "std_test_score                         0.039256                    0.033921   \n",
              "rank_test_score                              15                          10   \n",
              "\n",
              "                                          2                             3   \\\n",
              "mean_fit_time                        0.19192                      0.139918   \n",
              "std_fit_time                        0.060989                      0.008286   \n",
              "mean_score_time                     0.042866                      0.014973   \n",
              "std_score_time                      0.020551                      0.000997   \n",
              "param_C                                    1                             3   \n",
              "param_kernel                             rbf                        linear   \n",
              "params             {'C': 1, 'kernel': 'rbf'}  {'C': 3, 'kernel': 'linear'}   \n",
              "split0_test_score                   0.641593                       0.59292   \n",
              "split1_test_score                   0.659292                      0.570796   \n",
              "split2_test_score                   0.579646                       0.50885   \n",
              "split3_test_score                   0.604444                      0.528889   \n",
              "split4_test_score                       0.64                      0.617778   \n",
              "split5_test_score                   0.648889                      0.586667   \n",
              "split6_test_score                   0.617778                      0.555556   \n",
              "split7_test_score                   0.657778                      0.635556   \n",
              "split8_test_score                   0.671111                      0.608889   \n",
              "split9_test_score                   0.662222                      0.626667   \n",
              "mean_test_score                     0.638275                      0.583257   \n",
              "std_test_score                      0.027572                      0.039985   \n",
              "rank_test_score                            9                            14   \n",
              "\n",
              "                                           4                          5   \\\n",
              "mean_fit_time                        0.118568                   0.145975   \n",
              "std_fit_time                         0.004593                   0.034183   \n",
              "mean_score_time                      0.014982                   0.034547   \n",
              "std_score_time                       0.000996                   0.013202   \n",
              "param_C                                     3                          3   \n",
              "param_kernel                             poly                        rbf   \n",
              "params             {'C': 3, 'kernel': 'poly'}  {'C': 3, 'kernel': 'rbf'}   \n",
              "split0_test_score                    0.623894                    0.69469   \n",
              "split1_test_score                    0.685841                   0.681416   \n",
              "split2_test_score                    0.584071                    0.60177   \n",
              "split3_test_score                    0.591111                   0.635556   \n",
              "split4_test_score                    0.648889                   0.662222   \n",
              "split5_test_score                    0.657778                   0.684444   \n",
              "split6_test_score                    0.671111                   0.671111   \n",
              "split7_test_score                    0.657778                   0.711111   \n",
              "split8_test_score                    0.662222                   0.706667   \n",
              "split9_test_score                    0.684444                       0.68   \n",
              "mean_test_score                      0.646714                   0.672899   \n",
              "std_test_score                       0.034024                   0.031468   \n",
              "rank_test_score                             8                          4   \n",
              "\n",
              "                                             6                           7   \\\n",
              "mean_fit_time                          0.192361                    0.126941   \n",
              "std_fit_time                           0.056216                    0.006795   \n",
              "mean_score_time                        0.014568                    0.014718   \n",
              "std_score_time                         0.000585                    0.001932   \n",
              "param_C                                       5                           5   \n",
              "param_kernel                             linear                        poly   \n",
              "params             {'C': 5, 'kernel': 'linear'}  {'C': 5, 'kernel': 'poly'}   \n",
              "split0_test_score                       0.59292                    0.632743   \n",
              "split1_test_score                      0.579646                    0.690265   \n",
              "split2_test_score                       0.50885                    0.584071   \n",
              "split3_test_score                      0.533333                    0.595556   \n",
              "split4_test_score                      0.617778                    0.653333   \n",
              "split5_test_score                      0.586667                    0.675556   \n",
              "split6_test_score                      0.555556                    0.684444   \n",
              "split7_test_score                      0.631111                    0.662222   \n",
              "split8_test_score                      0.613333                    0.688889   \n",
              "split9_test_score                      0.622222                    0.662222   \n",
              "mean_test_score                        0.584142                     0.65293   \n",
              "std_test_score                         0.038485                    0.035785   \n",
              "rank_test_score                              11                           7   \n",
              "\n",
              "                                          8                             9   \\\n",
              "mean_fit_time                       0.132075                      0.209486   \n",
              "std_fit_time                        0.006528                      0.016632   \n",
              "mean_score_time                     0.027806                      0.015306   \n",
              "std_score_time                      0.003188                      0.001341   \n",
              "param_C                                    5                             7   \n",
              "param_kernel                             rbf                        linear   \n",
              "params             {'C': 5, 'kernel': 'rbf'}  {'C': 7, 'kernel': 'linear'}   \n",
              "split0_test_score                   0.699115                       0.59292   \n",
              "split1_test_score                    0.70354                      0.579646   \n",
              "split2_test_score                   0.615044                      0.513274   \n",
              "split3_test_score                   0.644444                      0.528889   \n",
              "split4_test_score                   0.662222                      0.613333   \n",
              "split5_test_score                   0.671111                      0.586667   \n",
              "split6_test_score                   0.684444                      0.555556   \n",
              "split7_test_score                   0.715556                      0.631111   \n",
              "split8_test_score                   0.733333                      0.613333   \n",
              "split9_test_score                   0.688889                      0.622222   \n",
              "mean_test_score                      0.68177                      0.583695   \n",
              "std_test_score                      0.033127                      0.037887   \n",
              "rank_test_score                            3                            13   \n",
              "\n",
              "                                           10                         11  \\\n",
              "mean_fit_time                        0.134126                   0.129596   \n",
              "std_fit_time                         0.005011                   0.003652   \n",
              "mean_score_time                      0.014094                   0.026803   \n",
              "std_score_time                       0.000475                   0.002697   \n",
              "param_C                                     7                          7   \n",
              "param_kernel                             poly                        rbf   \n",
              "params             {'C': 7, 'kernel': 'poly'}  {'C': 7, 'kernel': 'rbf'}   \n",
              "split0_test_score                    0.641593                   0.712389   \n",
              "split1_test_score                     0.69469                   0.716814   \n",
              "split2_test_score                    0.584071                   0.628319   \n",
              "split3_test_score                         0.6                   0.653333   \n",
              "split4_test_score                        0.64                   0.675556   \n",
              "split5_test_score                    0.671111                   0.688889   \n",
              "split6_test_score                    0.688889                   0.684444   \n",
              "split7_test_score                        0.68                   0.702222   \n",
              "split8_test_score                    0.684444                   0.728889   \n",
              "split9_test_score                        0.68                   0.688889   \n",
              "mean_test_score                       0.65648                   0.687974   \n",
              "std_test_score                       0.036796                   0.028691   \n",
              "rank_test_score                             6                          1   \n",
              "\n",
              "                                             12                          13  \\\n",
              "mean_fit_time                          0.236797                    0.148923   \n",
              "std_fit_time                           0.015111                    0.010732   \n",
              "mean_score_time                        0.014369                    0.013679   \n",
              "std_score_time                         0.000634                    0.000184   \n",
              "param_C                                       9                           9   \n",
              "param_kernel                             linear                        poly   \n",
              "params             {'C': 9, 'kernel': 'linear'}  {'C': 9, 'kernel': 'poly'}   \n",
              "split0_test_score                       0.59292                    0.632743   \n",
              "split1_test_score                      0.579646                    0.712389   \n",
              "split2_test_score                      0.513274                    0.579646   \n",
              "split3_test_score                      0.528889                         0.6   \n",
              "split4_test_score                      0.613333                        0.64   \n",
              "split5_test_score                      0.586667                        0.68   \n",
              "split6_test_score                      0.555556                    0.693333   \n",
              "split7_test_score                      0.635556                    0.671111   \n",
              "split8_test_score                      0.613333                    0.684444   \n",
              "split9_test_score                      0.622222                    0.675556   \n",
              "mean_test_score                         0.58414                    0.656922   \n",
              "std_test_score                         0.038463                    0.040403   \n",
              "rank_test_score                              12                           5   \n",
              "\n",
              "                                          14  \n",
              "mean_fit_time                       0.133543  \n",
              "std_fit_time                        0.006945  \n",
              "mean_score_time                     0.025715  \n",
              "std_score_time                      0.000515  \n",
              "param_C                                    9  \n",
              "param_kernel                             rbf  \n",
              "params             {'C': 9, 'kernel': 'rbf'}  \n",
              "split0_test_score                   0.690265  \n",
              "split1_test_score                   0.725664  \n",
              "split2_test_score                   0.628319  \n",
              "split3_test_score                   0.648889  \n",
              "split4_test_score                   0.675556  \n",
              "split5_test_score                   0.675556  \n",
              "split6_test_score                       0.68  \n",
              "split7_test_score                   0.702222  \n",
              "split8_test_score                       0.72  \n",
              "split9_test_score                   0.684444  \n",
              "mean_test_score                     0.683091  \n",
              "std_test_score                      0.028084  \n",
              "rank_test_score                            2  "
            ],
            "text/html": [
              "\n",
              "  <div id=\"df-d01c88a0-213c-45dc-b17f-d44bb7e0443c\">\n",
              "    <div class=\"colab-df-container\">\n",
              "      <div>\n",
              "<style scoped>\n",
              "    .dataframe tbody tr th:only-of-type {\n",
              "        vertical-align: middle;\n",
              "    }\n",
              "\n",
              "    .dataframe tbody tr th {\n",
              "        vertical-align: top;\n",
              "    }\n",
              "\n",
              "    .dataframe thead th {\n",
              "        text-align: right;\n",
              "    }\n",
              "</style>\n",
              "<table border=\"1\" class=\"dataframe\">\n",
              "  <thead>\n",
              "    <tr style=\"text-align: right;\">\n",
              "      <th></th>\n",
              "      <th>0</th>\n",
              "      <th>1</th>\n",
              "      <th>2</th>\n",
              "      <th>3</th>\n",
              "      <th>4</th>\n",
              "      <th>5</th>\n",
              "      <th>6</th>\n",
              "      <th>7</th>\n",
              "      <th>8</th>\n",
              "      <th>9</th>\n",
              "      <th>10</th>\n",
              "      <th>11</th>\n",
              "      <th>12</th>\n",
              "      <th>13</th>\n",
              "      <th>14</th>\n",
              "    </tr>\n",
              "  </thead>\n",
              "  <tbody>\n",
              "    <tr>\n",
              "      <th>mean_fit_time</th>\n",
              "      <td>0.23169</td>\n",
              "      <td>0.261081</td>\n",
              "      <td>0.19192</td>\n",
              "      <td>0.139918</td>\n",
              "      <td>0.118568</td>\n",
              "      <td>0.145975</td>\n",
              "      <td>0.192361</td>\n",
              "      <td>0.126941</td>\n",
              "      <td>0.132075</td>\n",
              "      <td>0.209486</td>\n",
              "      <td>0.134126</td>\n",
              "      <td>0.129596</td>\n",
              "      <td>0.236797</td>\n",
              "      <td>0.148923</td>\n",
              "      <td>0.133543</td>\n",
              "    </tr>\n",
              "    <tr>\n",
              "      <th>std_fit_time</th>\n",
              "      <td>0.050209</td>\n",
              "      <td>0.044364</td>\n",
              "      <td>0.060989</td>\n",
              "      <td>0.008286</td>\n",
              "      <td>0.004593</td>\n",
              "      <td>0.034183</td>\n",
              "      <td>0.056216</td>\n",
              "      <td>0.006795</td>\n",
              "      <td>0.006528</td>\n",
              "      <td>0.016632</td>\n",
              "      <td>0.005011</td>\n",
              "      <td>0.003652</td>\n",
              "      <td>0.015111</td>\n",
              "      <td>0.010732</td>\n",
              "      <td>0.006945</td>\n",
              "    </tr>\n",
              "    <tr>\n",
              "      <th>mean_score_time</th>\n",
              "      <td>0.029841</td>\n",
              "      <td>0.034434</td>\n",
              "      <td>0.042866</td>\n",
              "      <td>0.014973</td>\n",
              "      <td>0.014982</td>\n",
              "      <td>0.034547</td>\n",
              "      <td>0.014568</td>\n",
              "      <td>0.014718</td>\n",
              "      <td>0.027806</td>\n",
              "      <td>0.015306</td>\n",
              "      <td>0.014094</td>\n",
              "      <td>0.026803</td>\n",
              "      <td>0.014369</td>\n",
              "      <td>0.013679</td>\n",
              "      <td>0.025715</td>\n",
              "    </tr>\n",
              "    <tr>\n",
              "      <th>std_score_time</th>\n",
              "      <td>0.011175</td>\n",
              "      <td>0.012641</td>\n",
              "      <td>0.020551</td>\n",
              "      <td>0.000997</td>\n",
              "      <td>0.000996</td>\n",
              "      <td>0.013202</td>\n",
              "      <td>0.000585</td>\n",
              "      <td>0.001932</td>\n",
              "      <td>0.003188</td>\n",
              "      <td>0.001341</td>\n",
              "      <td>0.000475</td>\n",
              "      <td>0.002697</td>\n",
              "      <td>0.000634</td>\n",
              "      <td>0.000184</td>\n",
              "      <td>0.000515</td>\n",
              "    </tr>\n",
              "    <tr>\n",
              "      <th>param_C</th>\n",
              "      <td>1</td>\n",
              "      <td>1</td>\n",
              "      <td>1</td>\n",
              "      <td>3</td>\n",
              "      <td>3</td>\n",
              "      <td>3</td>\n",
              "      <td>5</td>\n",
              "      <td>5</td>\n",
              "      <td>5</td>\n",
              "      <td>7</td>\n",
              "      <td>7</td>\n",
              "      <td>7</td>\n",
              "      <td>9</td>\n",
              "      <td>9</td>\n",
              "      <td>9</td>\n",
              "    </tr>\n",
              "    <tr>\n",
              "      <th>param_kernel</th>\n",
              "      <td>linear</td>\n",
              "      <td>poly</td>\n",
              "      <td>rbf</td>\n",
              "      <td>linear</td>\n",
              "      <td>poly</td>\n",
              "      <td>rbf</td>\n",
              "      <td>linear</td>\n",
              "      <td>poly</td>\n",
              "      <td>rbf</td>\n",
              "      <td>linear</td>\n",
              "      <td>poly</td>\n",
              "      <td>rbf</td>\n",
              "      <td>linear</td>\n",
              "      <td>poly</td>\n",
              "      <td>rbf</td>\n",
              "    </tr>\n",
              "    <tr>\n",
              "      <th>params</th>\n",
              "      <td>{'C': 1, 'kernel': 'linear'}</td>\n",
              "      <td>{'C': 1, 'kernel': 'poly'}</td>\n",
              "      <td>{'C': 1, 'kernel': 'rbf'}</td>\n",
              "      <td>{'C': 3, 'kernel': 'linear'}</td>\n",
              "      <td>{'C': 3, 'kernel': 'poly'}</td>\n",
              "      <td>{'C': 3, 'kernel': 'rbf'}</td>\n",
              "      <td>{'C': 5, 'kernel': 'linear'}</td>\n",
              "      <td>{'C': 5, 'kernel': 'poly'}</td>\n",
              "      <td>{'C': 5, 'kernel': 'rbf'}</td>\n",
              "      <td>{'C': 7, 'kernel': 'linear'}</td>\n",
              "      <td>{'C': 7, 'kernel': 'poly'}</td>\n",
              "      <td>{'C': 7, 'kernel': 'rbf'}</td>\n",
              "      <td>{'C': 9, 'kernel': 'linear'}</td>\n",
              "      <td>{'C': 9, 'kernel': 'poly'}</td>\n",
              "      <td>{'C': 9, 'kernel': 'rbf'}</td>\n",
              "    </tr>\n",
              "    <tr>\n",
              "      <th>split0_test_score</th>\n",
              "      <td>0.584071</td>\n",
              "      <td>0.575221</td>\n",
              "      <td>0.641593</td>\n",
              "      <td>0.59292</td>\n",
              "      <td>0.623894</td>\n",
              "      <td>0.69469</td>\n",
              "      <td>0.59292</td>\n",
              "      <td>0.632743</td>\n",
              "      <td>0.699115</td>\n",
              "      <td>0.59292</td>\n",
              "      <td>0.641593</td>\n",
              "      <td>0.712389</td>\n",
              "      <td>0.59292</td>\n",
              "      <td>0.632743</td>\n",
              "      <td>0.690265</td>\n",
              "    </tr>\n",
              "    <tr>\n",
              "      <th>split1_test_score</th>\n",
              "      <td>0.570796</td>\n",
              "      <td>0.623894</td>\n",
              "      <td>0.659292</td>\n",
              "      <td>0.570796</td>\n",
              "      <td>0.685841</td>\n",
              "      <td>0.681416</td>\n",
              "      <td>0.579646</td>\n",
              "      <td>0.690265</td>\n",
              "      <td>0.70354</td>\n",
              "      <td>0.579646</td>\n",
              "      <td>0.69469</td>\n",
              "      <td>0.716814</td>\n",
              "      <td>0.579646</td>\n",
              "      <td>0.712389</td>\n",
              "      <td>0.725664</td>\n",
              "    </tr>\n",
              "    <tr>\n",
              "      <th>split2_test_score</th>\n",
              "      <td>0.504425</td>\n",
              "      <td>0.561947</td>\n",
              "      <td>0.579646</td>\n",
              "      <td>0.50885</td>\n",
              "      <td>0.584071</td>\n",
              "      <td>0.60177</td>\n",
              "      <td>0.50885</td>\n",
              "      <td>0.584071</td>\n",
              "      <td>0.615044</td>\n",
              "      <td>0.513274</td>\n",
              "      <td>0.584071</td>\n",
              "      <td>0.628319</td>\n",
              "      <td>0.513274</td>\n",
              "      <td>0.579646</td>\n",
              "      <td>0.628319</td>\n",
              "    </tr>\n",
              "    <tr>\n",
              "      <th>split3_test_score</th>\n",
              "      <td>0.533333</td>\n",
              "      <td>0.555556</td>\n",
              "      <td>0.604444</td>\n",
              "      <td>0.528889</td>\n",
              "      <td>0.591111</td>\n",
              "      <td>0.635556</td>\n",
              "      <td>0.533333</td>\n",
              "      <td>0.595556</td>\n",
              "      <td>0.644444</td>\n",
              "      <td>0.528889</td>\n",
              "      <td>0.6</td>\n",
              "      <td>0.653333</td>\n",
              "      <td>0.528889</td>\n",
              "      <td>0.6</td>\n",
              "      <td>0.648889</td>\n",
              "    </tr>\n",
              "    <tr>\n",
              "      <th>split4_test_score</th>\n",
              "      <td>0.617778</td>\n",
              "      <td>0.631111</td>\n",
              "      <td>0.64</td>\n",
              "      <td>0.617778</td>\n",
              "      <td>0.648889</td>\n",
              "      <td>0.662222</td>\n",
              "      <td>0.617778</td>\n",
              "      <td>0.653333</td>\n",
              "      <td>0.662222</td>\n",
              "      <td>0.613333</td>\n",
              "      <td>0.64</td>\n",
              "      <td>0.675556</td>\n",
              "      <td>0.613333</td>\n",
              "      <td>0.64</td>\n",
              "      <td>0.675556</td>\n",
              "    </tr>\n",
              "    <tr>\n",
              "      <th>split5_test_score</th>\n",
              "      <td>0.582222</td>\n",
              "      <td>0.617778</td>\n",
              "      <td>0.648889</td>\n",
              "      <td>0.586667</td>\n",
              "      <td>0.657778</td>\n",
              "      <td>0.684444</td>\n",
              "      <td>0.586667</td>\n",
              "      <td>0.675556</td>\n",
              "      <td>0.671111</td>\n",
              "      <td>0.586667</td>\n",
              "      <td>0.671111</td>\n",
              "      <td>0.688889</td>\n",
              "      <td>0.586667</td>\n",
              "      <td>0.68</td>\n",
              "      <td>0.675556</td>\n",
              "    </tr>\n",
              "    <tr>\n",
              "      <th>split6_test_score</th>\n",
              "      <td>0.56</td>\n",
              "      <td>0.577778</td>\n",
              "      <td>0.617778</td>\n",
              "      <td>0.555556</td>\n",
              "      <td>0.671111</td>\n",
              "      <td>0.671111</td>\n",
              "      <td>0.555556</td>\n",
              "      <td>0.684444</td>\n",
              "      <td>0.684444</td>\n",
              "      <td>0.555556</td>\n",
              "      <td>0.688889</td>\n",
              "      <td>0.684444</td>\n",
              "      <td>0.555556</td>\n",
              "      <td>0.693333</td>\n",
              "      <td>0.68</td>\n",
              "    </tr>\n",
              "    <tr>\n",
              "      <th>split7_test_score</th>\n",
              "      <td>0.631111</td>\n",
              "      <td>0.582222</td>\n",
              "      <td>0.657778</td>\n",
              "      <td>0.635556</td>\n",
              "      <td>0.657778</td>\n",
              "      <td>0.711111</td>\n",
              "      <td>0.631111</td>\n",
              "      <td>0.662222</td>\n",
              "      <td>0.715556</td>\n",
              "      <td>0.631111</td>\n",
              "      <td>0.68</td>\n",
              "      <td>0.702222</td>\n",
              "      <td>0.635556</td>\n",
              "      <td>0.671111</td>\n",
              "      <td>0.702222</td>\n",
              "    </tr>\n",
              "    <tr>\n",
              "      <th>split8_test_score</th>\n",
              "      <td>0.608889</td>\n",
              "      <td>0.631111</td>\n",
              "      <td>0.671111</td>\n",
              "      <td>0.608889</td>\n",
              "      <td>0.662222</td>\n",
              "      <td>0.706667</td>\n",
              "      <td>0.613333</td>\n",
              "      <td>0.688889</td>\n",
              "      <td>0.733333</td>\n",
              "      <td>0.613333</td>\n",
              "      <td>0.684444</td>\n",
              "      <td>0.728889</td>\n",
              "      <td>0.613333</td>\n",
              "      <td>0.684444</td>\n",
              "      <td>0.72</td>\n",
              "    </tr>\n",
              "    <tr>\n",
              "      <th>split9_test_score</th>\n",
              "      <td>0.626667</td>\n",
              "      <td>0.662222</td>\n",
              "      <td>0.662222</td>\n",
              "      <td>0.626667</td>\n",
              "      <td>0.684444</td>\n",
              "      <td>0.68</td>\n",
              "      <td>0.622222</td>\n",
              "      <td>0.662222</td>\n",
              "      <td>0.688889</td>\n",
              "      <td>0.622222</td>\n",
              "      <td>0.68</td>\n",
              "      <td>0.688889</td>\n",
              "      <td>0.622222</td>\n",
              "      <td>0.675556</td>\n",
              "      <td>0.684444</td>\n",
              "    </tr>\n",
              "    <tr>\n",
              "      <th>mean_test_score</th>\n",
              "      <td>0.581929</td>\n",
              "      <td>0.601884</td>\n",
              "      <td>0.638275</td>\n",
              "      <td>0.583257</td>\n",
              "      <td>0.646714</td>\n",
              "      <td>0.672899</td>\n",
              "      <td>0.584142</td>\n",
              "      <td>0.65293</td>\n",
              "      <td>0.68177</td>\n",
              "      <td>0.583695</td>\n",
              "      <td>0.65648</td>\n",
              "      <td>0.687974</td>\n",
              "      <td>0.58414</td>\n",
              "      <td>0.656922</td>\n",
              "      <td>0.683091</td>\n",
              "    </tr>\n",
              "    <tr>\n",
              "      <th>std_test_score</th>\n",
              "      <td>0.039256</td>\n",
              "      <td>0.033921</td>\n",
              "      <td>0.027572</td>\n",
              "      <td>0.039985</td>\n",
              "      <td>0.034024</td>\n",
              "      <td>0.031468</td>\n",
              "      <td>0.038485</td>\n",
              "      <td>0.035785</td>\n",
              "      <td>0.033127</td>\n",
              "      <td>0.037887</td>\n",
              "      <td>0.036796</td>\n",
              "      <td>0.028691</td>\n",
              "      <td>0.038463</td>\n",
              "      <td>0.040403</td>\n",
              "      <td>0.028084</td>\n",
              "    </tr>\n",
              "    <tr>\n",
              "      <th>rank_test_score</th>\n",
              "      <td>15</td>\n",
              "      <td>10</td>\n",
              "      <td>9</td>\n",
              "      <td>14</td>\n",
              "      <td>8</td>\n",
              "      <td>4</td>\n",
              "      <td>11</td>\n",
              "      <td>7</td>\n",
              "      <td>3</td>\n",
              "      <td>13</td>\n",
              "      <td>6</td>\n",
              "      <td>1</td>\n",
              "      <td>12</td>\n",
              "      <td>5</td>\n",
              "      <td>2</td>\n",
              "    </tr>\n",
              "  </tbody>\n",
              "</table>\n",
              "</div>\n",
              "      <button class=\"colab-df-convert\" onclick=\"convertToInteractive('df-d01c88a0-213c-45dc-b17f-d44bb7e0443c')\"\n",
              "              title=\"Convert this dataframe to an interactive table.\"\n",
              "              style=\"display:none;\">\n",
              "        \n",
              "  <svg xmlns=\"http://www.w3.org/2000/svg\" height=\"24px\"viewBox=\"0 0 24 24\"\n",
              "       width=\"24px\">\n",
              "    <path d=\"M0 0h24v24H0V0z\" fill=\"none\"/>\n",
              "    <path d=\"M18.56 5.44l.94 2.06.94-2.06 2.06-.94-2.06-.94-.94-2.06-.94 2.06-2.06.94zm-11 1L8.5 8.5l.94-2.06 2.06-.94-2.06-.94L8.5 2.5l-.94 2.06-2.06.94zm10 10l.94 2.06.94-2.06 2.06-.94-2.06-.94-.94-2.06-.94 2.06-2.06.94z\"/><path d=\"M17.41 7.96l-1.37-1.37c-.4-.4-.92-.59-1.43-.59-.52 0-1.04.2-1.43.59L10.3 9.45l-7.72 7.72c-.78.78-.78 2.05 0 2.83L4 21.41c.39.39.9.59 1.41.59.51 0 1.02-.2 1.41-.59l7.78-7.78 2.81-2.81c.8-.78.8-2.07 0-2.86zM5.41 20L4 18.59l7.72-7.72 1.47 1.35L5.41 20z\"/>\n",
              "  </svg>\n",
              "      </button>\n",
              "      \n",
              "  <style>\n",
              "    .colab-df-container {\n",
              "      display:flex;\n",
              "      flex-wrap:wrap;\n",
              "      gap: 12px;\n",
              "    }\n",
              "\n",
              "    .colab-df-convert {\n",
              "      background-color: #E8F0FE;\n",
              "      border: none;\n",
              "      border-radius: 50%;\n",
              "      cursor: pointer;\n",
              "      display: none;\n",
              "      fill: #1967D2;\n",
              "      height: 32px;\n",
              "      padding: 0 0 0 0;\n",
              "      width: 32px;\n",
              "    }\n",
              "\n",
              "    .colab-df-convert:hover {\n",
              "      background-color: #E2EBFA;\n",
              "      box-shadow: 0px 1px 2px rgba(60, 64, 67, 0.3), 0px 1px 3px 1px rgba(60, 64, 67, 0.15);\n",
              "      fill: #174EA6;\n",
              "    }\n",
              "\n",
              "    [theme=dark] .colab-df-convert {\n",
              "      background-color: #3B4455;\n",
              "      fill: #D2E3FC;\n",
              "    }\n",
              "\n",
              "    [theme=dark] .colab-df-convert:hover {\n",
              "      background-color: #434B5C;\n",
              "      box-shadow: 0px 1px 3px 1px rgba(0, 0, 0, 0.15);\n",
              "      filter: drop-shadow(0px 1px 2px rgba(0, 0, 0, 0.3));\n",
              "      fill: #FFFFFF;\n",
              "    }\n",
              "  </style>\n",
              "\n",
              "      <script>\n",
              "        const buttonEl =\n",
              "          document.querySelector('#df-d01c88a0-213c-45dc-b17f-d44bb7e0443c button.colab-df-convert');\n",
              "        buttonEl.style.display =\n",
              "          google.colab.kernel.accessAllowed ? 'block' : 'none';\n",
              "\n",
              "        async function convertToInteractive(key) {\n",
              "          const element = document.querySelector('#df-d01c88a0-213c-45dc-b17f-d44bb7e0443c');\n",
              "          const dataTable =\n",
              "            await google.colab.kernel.invokeFunction('convertToInteractive',\n",
              "                                                     [key], {});\n",
              "          if (!dataTable) return;\n",
              "\n",
              "          const docLinkHtml = 'Like what you see? Visit the ' +\n",
              "            '<a target=\"_blank\" href=https://colab.research.google.com/notebooks/data_table.ipynb>data table notebook</a>'\n",
              "            + ' to learn more about interactive tables.';\n",
              "          element.innerHTML = '';\n",
              "          dataTable['output_type'] = 'display_data';\n",
              "          await google.colab.output.renderOutput(dataTable, element);\n",
              "          const docLink = document.createElement('div');\n",
              "          docLink.innerHTML = docLinkHtml;\n",
              "          element.appendChild(docLink);\n",
              "        }\n",
              "      </script>\n",
              "    </div>\n",
              "  </div>\n",
              "  "
            ]
          },
          "metadata": {},
          "execution_count": 39
        }
      ]
    },
    {
      "cell_type": "markdown",
      "source": [
        "### Model Evaluation (on Test Set using Tuned Model)\n",
        "\n",
        "After we know the best recipe of hyperparameter setup for our SVC model, we'll use the C and kernel type on Test Set"
      ],
      "metadata": {
        "id": "-NsuNWoaOaty"
      }
    },
    {
      "cell_type": "code",
      "source": [
        "# obtain tuned model\n",
        "model_tuned = grid_search.best_estimator_\n",
        "\n",
        "# train (because we can't predict without training; tuning is not considered as training)\n",
        "model_tuned.fit(X_train_scaled, y_train)\n",
        "y_pred = model_tuned.predict(scaler.transform(X_test))"
      ],
      "metadata": {
        "colab": {
          "base_uri": "https://localhost:8080/"
        },
        "id": "ox-tlSpmOzdS",
        "outputId": "3dd6b5ee-8d20-48fe-93e6-f9940b85ad7f"
      },
      "execution_count": null,
      "outputs": [
        {
          "output_type": "stream",
          "name": "stderr",
          "text": [
            "/usr/local/lib/python3.8/dist-packages/sklearn/base.py:450: UserWarning: X does not have valid feature names, but SVC was fitted with feature names\n",
            "  warnings.warn(\n"
          ]
        }
      ]
    },
    {
      "cell_type": "markdown",
      "source": [
        "**Accuracy**"
      ],
      "metadata": {
        "id": "OKIAVNy9QK_Y"
      }
    },
    {
      "cell_type": "code",
      "source": [
        "from sklearn.metrics import accuracy_score\n",
        "\n",
        "accuracy_score(y_test, y_pred)"
      ],
      "metadata": {
        "colab": {
          "base_uri": "https://localhost:8080/"
        },
        "id": "oEusyaqfQMU8",
        "outputId": "476cb0c6-27e5-4e2e-edd6-c1fc6809a3af"
      },
      "execution_count": null,
      "outputs": [
        {
          "output_type": "execute_result",
          "data": {
            "text/plain": [
              "0.6453900709219859"
            ]
          },
          "metadata": {},
          "execution_count": 41
        }
      ]
    },
    {
      "cell_type": "markdown",
      "source": [
        "**Confusion Matrix**"
      ],
      "metadata": {
        "id": "eWAQdjXLQBnf"
      }
    },
    {
      "cell_type": "code",
      "source": [
        "from sklearn.metrics import confusion_matrix\n",
        "from sklearn.metrics import ConfusionMatrixDisplay\n",
        "\n",
        "cm = confusion_matrix(y_test, y_pred)\n",
        "ConfusionMatrixDisplay(cm).plot()"
      ],
      "metadata": {
        "colab": {
          "base_uri": "https://localhost:8080/",
          "height": 296
        },
        "id": "in988xd8PkgC",
        "outputId": "5637e632-1092-4c01-c8ad-607ea915152d"
      },
      "execution_count": null,
      "outputs": [
        {
          "output_type": "execute_result",
          "data": {
            "text/plain": [
              "<sklearn.metrics._plot.confusion_matrix.ConfusionMatrixDisplay at 0x7fa7fe2c62e0>"
            ]
          },
          "metadata": {},
          "execution_count": 42
        },
        {
          "output_type": "display_data",
          "data": {
            "text/plain": [
              "<Figure size 432x288 with 2 Axes>"
            ],
            "image/png": "[encoded data removed]"
          },
          "metadata": {
            "needs_background": "light"
          }
        }
      ]
    },
    {
      "cell_type": "markdown",
      "source": [
        "**Classification Report**"
      ],
      "metadata": {
        "id": "ezZl7FcJQV_H"
      }
    },
    {
      "cell_type": "code",
      "source": [
        "from sklearn.metrics import classification_report\n",
        "\n",
        "print(classification_report(y_test, y_pred))"
      ],
      "metadata": {
        "colab": {
          "base_uri": "https://localhost:8080/"
        },
        "id": "78Q477GBQTtR",
        "outputId": "2fd4de24-43a9-4026-c26f-b906955f354b"
      },
      "execution_count": null,
      "outputs": [
        {
          "output_type": "stream",
          "name": "stdout",
          "text": [
            "              precision    recall  f1-score   support\n",
            "\n",
            "           1       0.78      0.59      0.67        61\n",
            "           2       0.65      0.71      0.68       119\n",
            "           3       0.71      0.78      0.74        98\n",
            "           4       0.76      0.58      0.66        43\n",
            "           5       0.25      0.14      0.18        29\n",
            "           6       0.53      0.66      0.59        85\n",
            "           7       0.53      0.42      0.47        19\n",
            "           8       0.63      0.63      0.63        82\n",
            "           9       0.76      0.79      0.77        28\n",
            "\n",
            "    accuracy                           0.65       564\n",
            "   macro avg       0.62      0.59      0.60       564\n",
            "weighted avg       0.64      0.65      0.64       564\n",
            "\n"
          ]
        }
      ]
    },
    {
      "cell_type": "markdown",
      "source": [
        "### Model Inspection\n",
        "\n",
        "Predictive performance is often the main goal of developing machine learning models. Yet summarizing performance with an evaluation metric is often insufficient: it assumes that the evaluation metric and test dataset perfectly reflect the target domain, which is rarely true. In certain domains, a model needs a certain level of interpretability before it can be deployed. A model that is exhibiting performance issues needs to be debugged for one to understand the model’s underlying issue. The `sklearn.inspection` module provides tools to help understand the predictions from a model and what affects them. This can be used to evaluate assumptions and biases of a model, design a better model, or to diagnose issues with model performance.\n",
        "\n",
        "Reference:\n",
        "* [sklearn.inspection](https://scikit-learn.org/stable/inspection.html)\n",
        "* [sklearn.inspection.permutation_importance](https://scikit-learn.org/stable/modules/generated/sklearn.inspection.permutation_importance.html#sklearn.inspection.permutation_importance)"
      ],
      "metadata": {
        "id": "btNVLXJ4gBal"
      }
    },
    {
      "cell_type": "markdown",
      "source": [
        "**Permulation Feature Importance on Training Set**"
      ],
      "metadata": {
        "id": "OKZXAfI6iQ_e"
      }
    },
    {
      "cell_type": "code",
      "source": [
        "from sklearn.inspection import permutation_importance\n",
        "import matplotlib.pyplot as plt\n",
        "\n",
        "result = permutation_importance(model_tuned, X_train_scaled, y_train, n_repeats=5, scoring='accuracy')\n",
        "feature_names = X.columns\n",
        "model_importances = pd.Series(result.importances_mean, feature_names)\n",
        "\n",
        "fig, ax = plt.subplots()\n",
        "model_importances.plot.bar(ax=ax)\n",
        "ax.set_title('Permutation Feature Importances')\n",
        "ax.set_ylabel('Accuracy Importance')\n",
        "fig.tight_layout()\n",
        "plt.show()"
      ],
      "metadata": {
        "colab": {
          "base_uri": "https://localhost:8080/",
          "height": 297
        },
        "id": "YylCKwhXe8UK",
        "outputId": "e53d0f4c-5612-4bec-fa96-65d5aae8e9fd"
      },
      "execution_count": null,
      "outputs": [
        {
          "output_type": "display_data",
          "data": {
            "text/plain": [
              "<Figure size 432x288 with 1 Axes>"
            ],
            "image/png": "[encoded data removed]"
          },
          "metadata": {
            "needs_background": "light"
          }
        }
      ]
    },
    {
      "cell_type": "markdown",
      "source": [
        "**Permutation Feature Importance on Test Set**"
      ],
      "metadata": {
        "id": "pqY6MEX6iWwe"
      }
    },
    {
      "cell_type": "code",
      "source": [
        "from sklearn.inspection import permutation_importance\n",
        "import matplotlib.pyplot as plt\n",
        "\n",
        "result = permutation_importance(model_tuned, X_test_scaled, y_test, n_repeats=5, scoring='accuracy')\n",
        "feature_names = X.columns\n",
        "model_importances = pd.Series(result.importances_mean, feature_names)\n",
        "\n",
        "fig, ax = plt.subplots()\n",
        "model_importances.plot.bar(ax=ax)\n",
        "ax.set_title('Permutation Feature Importances')\n",
        "ax.set_ylabel('Accuracy Importance')\n",
        "fig.tight_layout()\n",
        "plt.show()"
      ],
      "metadata": {
        "colab": {
          "base_uri": "https://localhost:8080/",
          "height": 297
        },
        "id": "2GlcNHkIiaPp",
        "outputId": "92066c14-eef7-4cb7-96d9-0efd506b094a"
      },
      "execution_count": null,
      "outputs": [
        {
          "output_type": "display_data",
          "data": {
            "text/plain": [
              "<Figure size 432x288 with 1 Axes>"
            ],
            "image/png": "[encoded data removed]"
          },
          "metadata": {
            "needs_background": "light"
          }
        }
      ]
    },
    {
      "cell_type": "markdown",
      "source": [
        "Permutation feature importance is a model inspection technique that can be used for any fitted estimator when the data is tabular. This is especially useful for non-linear or opaque estimators. The permutation feature importance is defined to be the decrease in a model score when a single feature value is randomly shuffled. This procedure breaks the relationship between the feature and the target, thus the drop in the model score is indicative of how much the model depends on the feature. This technique benefits from being model agnostic and can be calculated many times with different permutations of the feature.\n",
        "\n",
        "The ranking of the features is approximately the same for different metrics even if the scales of the importance values are very different. However, this is not guaranteed and different metrics might lead to significantly different feature importances, in particular for models trained for imbalanced classification problems, for which the choice of the classification metric can be critical."
      ],
      "metadata": {
        "id": "h2XjiDu6hLyE"
      }
    },
    {
      "cell_type": "markdown",
      "source": [
        "**Warning:** Features that are deemed of **low importance for a bad model** (low cross-validation score) could be **very important for a good model**. Therefore it is always important to evaluate the predictive power of a model using a held-out set (or better with cross-validation) prior to computing importances. Permutation importance does not reflect to the intrinsic predictive value of a feature by itself **but how important this feature is for a particular model**."
      ],
      "metadata": {
        "id": "YlCQBrx5iAl0"
      }
    },
    {
      "cell_type": "markdown",
      "source": [
        "## Model Deployment on Blind Set"
      ],
      "metadata": {
        "id": "iPvLlBYgQ4XG"
      }
    },
    {
      "cell_type": "markdown",
      "source": [
        "### Prediction using tuned model"
      ],
      "metadata": {
        "id": "swil3Vr8TXZM"
      }
    },
    {
      "cell_type": "code",
      "source": [
        "# create feature matrix and target matrix from blind set\n",
        "y_blind = blind['FACIES'].values\n",
        "X_blind = blind.drop(['FORMATION', 'WELL', 'DEPTH', 'FACIES'], axis=1)"
      ],
      "metadata": {
        "id": "3cC2Nt75Qyrh"
      },
      "execution_count": null,
      "outputs": []
    },
    {
      "cell_type": "code",
      "source": [
        "# don't forget to transform the feature matrix before prediction\n",
        "X_blind_scaled = scaler.transform(X_blind)"
      ],
      "metadata": {
        "id": "5Kw7qeEnSRuO"
      },
      "execution_count": null,
      "outputs": []
    },
    {
      "cell_type": "code",
      "source": [
        "# perform prediction\n",
        "y_blind_pred = model_tuned.predict(X_blind_scaled)"
      ],
      "metadata": {
        "colab": {
          "base_uri": "https://localhost:8080/"
        },
        "id": "BcNFyazkSh_k",
        "outputId": "2c77617a-05b5-461d-a9b5-c4d4bd22d31b"
      },
      "execution_count": null,
      "outputs": [
        {
          "output_type": "stream",
          "name": "stderr",
          "text": [
            "/usr/local/lib/python3.8/dist-packages/sklearn/base.py:450: UserWarning: X does not have valid feature names, but SVC was fitted with feature names\n",
            "  warnings.warn(\n"
          ]
        }
      ]
    },
    {
      "cell_type": "markdown",
      "source": [
        "### Model Evaluation on Blind Set"
      ],
      "metadata": {
        "id": "xXa1ORwMTT4z"
      }
    },
    {
      "cell_type": "markdown",
      "source": [
        "**Accuracy**"
      ],
      "metadata": {
        "id": "LtFiO2uETSRh"
      }
    },
    {
      "cell_type": "code",
      "source": [
        "from sklearn.metrics import accuracy_score\n",
        "\n",
        "accuracy_score(y_blind, y_blind_pred)"
      ],
      "metadata": {
        "colab": {
          "base_uri": "https://localhost:8080/"
        },
        "outputId": "251e7eb5-0bef-4db8-fe32-09b38404b764",
        "id": "yTETVTmnTSRi"
      },
      "execution_count": null,
      "outputs": [
        {
          "output_type": "execute_result",
          "data": {
            "text/plain": [
              "0.4843373493975904"
            ]
          },
          "metadata": {},
          "execution_count": 49
        }
      ]
    },
    {
      "cell_type": "markdown",
      "source": [
        "**Confusion Matrix**"
      ],
      "metadata": {
        "id": "hJKc5CR5TSRi"
      }
    },
    {
      "cell_type": "code",
      "source": [
        "from sklearn.metrics import confusion_matrix\n",
        "from sklearn.metrics import ConfusionMatrixDisplay\n",
        "\n",
        "cm = confusion_matrix(y_blind, y_blind_pred)\n",
        "ConfusionMatrixDisplay(cm).plot()"
      ],
      "metadata": {
        "colab": {
          "base_uri": "https://localhost:8080/",
          "height": 296
        },
        "outputId": "dd14e1eb-fd29-4fe8-bcdf-deded5b070fd",
        "id": "7WcSaa30TSRi"
      },
      "execution_count": null,
      "outputs": [
        {
          "output_type": "execute_result",
          "data": {
            "text/plain": [
              "<sklearn.metrics._plot.confusion_matrix.ConfusionMatrixDisplay at 0x7fa7fd461b50>"
            ]
          },
          "metadata": {},
          "execution_count": 50
        },
        {
          "output_type": "display_data",
          "data": {
            "text/plain": [
              "<Figure size 432x288 with 2 Axes>"
            ],
            "image/png": "[encoded data removed]"
          },
          "metadata": {
            "needs_background": "light"
          }
        }
      ]
    },
    {
      "cell_type": "markdown",
      "source": [
        "**Classification Report**"
      ],
      "metadata": {
        "id": "oVveG39BTSRi"
      }
    },
    {
      "cell_type": "code",
      "source": [
        "from sklearn.metrics import classification_report\n",
        "\n",
        "print(classification_report(y_blind, y_blind_pred))"
      ],
      "metadata": {
        "colab": {
          "base_uri": "https://localhost:8080/"
        },
        "outputId": "e74c56f7-3fe4-4c17-cdcd-9876b6d10a01",
        "id": "vwzgTIGMTSRj"
      },
      "execution_count": null,
      "outputs": [
        {
          "output_type": "stream",
          "name": "stdout",
          "text": [
            "              precision    recall  f1-score   support\n",
            "\n",
            "           1       0.00      0.00      0.00         4\n",
            "           2       0.74      0.69      0.72       118\n",
            "           3       0.64      0.62      0.63        68\n",
            "           4       0.54      0.25      0.34        28\n",
            "           5       0.33      0.02      0.04        47\n",
            "           6       0.07      0.17      0.10        30\n",
            "           7       0.10      0.50      0.16         4\n",
            "           8       0.67      0.53      0.59       116\n",
            "           9       0.00      0.00      0.00         0\n",
            "\n",
            "    accuracy                           0.48       415\n",
            "   macro avg       0.34      0.31      0.29       415\n",
            "weighted avg       0.58      0.48      0.51       415\n",
            "\n"
          ]
        },
        {
          "output_type": "stream",
          "name": "stderr",
          "text": [
            "/usr/local/lib/python3.8/dist-packages/sklearn/metrics/_classification.py:1318: UndefinedMetricWarning: Recall and F-score are ill-defined and being set to 0.0 in labels with no true samples. Use `zero_division` parameter to control this behavior.\n",
            "  _warn_prf(average, modifier, msg_start, len(result))\n",
            "/usr/local/lib/python3.8/dist-packages/sklearn/metrics/_classification.py:1318: UndefinedMetricWarning: Recall and F-score are ill-defined and being set to 0.0 in labels with no true samples. Use `zero_division` parameter to control this behavior.\n",
            "  _warn_prf(average, modifier, msg_start, len(result))\n",
            "/usr/local/lib/python3.8/dist-packages/sklearn/metrics/_classification.py:1318: UndefinedMetricWarning: Recall and F-score are ill-defined and being set to 0.0 in labels with no true samples. Use `zero_division` parameter to control this behavior.\n",
            "  _warn_prf(average, modifier, msg_start, len(result))\n"
          ]
        }
      ]
    },
    {
      "cell_type": "code",
      "source": [
        "figure, ax = plt.subplots(figsize=(5,10))\n",
        "logs = blind.sort_values(by='DEPTH')\n",
        "ax.plot(logs.FACIES, logs.DEPTH, label='Actual Facies')\n",
        "ax.plot(y_blind_pred, logs.DEPTH, label='SVC')\n",
        "ax.invert_yaxis()\n",
        "ax.legend()"
      ],
      "metadata": {
        "colab": {
          "base_uri": "https://localhost:8080/",
          "height": 609
        },
        "id": "zq0RRu1KT1NW",
        "outputId": "14ee5a84-3dfe-40f4-a43c-7aa943a8c732"
      },
      "execution_count": null,
      "outputs": [
        {
          "output_type": "execute_result",
          "data": {
            "text/plain": [
              "<matplotlib.legend.Legend at 0x7fa7fd2ec1c0>"
            ]
          },
          "metadata": {},
          "execution_count": 52
        },
        {
          "output_type": "display_data",
          "data": {
            "text/plain": [
              "<Figure size 360x720 with 1 Axes>"
            ],
            "image/png": "[encoded data removed]"
          },
          "metadata": {
            "needs_background": "light"
          }
        }
      ]
    },
    {
      "cell_type": "markdown",
      "source": [
        "### Model Inspection on Blind Set\n",
        "\n",
        "**Permutation Feature Importance**"
      ],
      "metadata": {
        "id": "8r9h09Vei8Fb"
      }
    },
    {
      "cell_type": "code",
      "source": [
        "from sklearn.inspection import permutation_importance\n",
        "import matplotlib.pyplot as plt\n",
        "\n",
        "result = permutation_importance(model_tuned, X_blind_scaled, y_blind, n_repeats=5, scoring='accuracy')\n",
        "feature_names = X.columns\n",
        "model_importances = pd.Series(result.importances_mean, feature_names)\n",
        "\n",
        "fig, ax = plt.subplots()\n",
        "model_importances.plot.bar(ax=ax)\n",
        "ax.set_title('Permutation Feature Importances')\n",
        "ax.set_ylabel('Accuracy Importance')\n",
        "fig.tight_layout()\n",
        "plt.show()"
      ],
      "metadata": {
        "colab": {
          "base_uri": "https://localhost:8080/",
          "height": 1000
        },
        "id": "B5g3S-wOewZ7",
        "outputId": "8d6ab78e-b386-43ae-f02e-d46c7332e314"
      },
      "execution_count": null,
      "outputs": [
        {
          "output_type": "stream",
          "name": "stderr",
          "text": [
            "/usr/local/lib/python3.8/dist-packages/sklearn/base.py:450: UserWarning: X does not have valid feature names, but SVC was fitted with feature names\n",
            "  warnings.warn(\n",
            "/usr/local/lib/python3.8/dist-packages/sklearn/base.py:450: UserWarning: X does not have valid feature names, but SVC was fitted with feature names\n",
            "  warnings.warn(\n",
            "/usr/local/lib/python3.8/dist-packages/sklearn/base.py:450: UserWarning: X does not have valid feature names, but SVC was fitted with feature names\n",
            "  warnings.warn(\n",
            "/usr/local/lib/python3.8/dist-packages/sklearn/base.py:450: UserWarning: X does not have valid feature names, but SVC was fitted with feature names\n",
            "  warnings.warn(\n",
            "/usr/local/lib/python3.8/dist-packages/sklearn/base.py:450: UserWarning: X does not have valid feature names, but SVC was fitted with feature names\n",
            "  warnings.warn(\n",
            "/usr/local/lib/python3.8/dist-packages/sklearn/base.py:450: UserWarning: X does not have valid feature names, but SVC was fitted with feature names\n",
            "  warnings.warn(\n",
            "/usr/local/lib/python3.8/dist-packages/sklearn/base.py:450: UserWarning: X does not have valid feature names, but SVC was fitted with feature names\n",
            "  warnings.warn(\n",
            "/usr/local/lib/python3.8/dist-packages/sklearn/base.py:450: UserWarning: X does not have valid feature names, but SVC was fitted with feature names\n",
            "  warnings.warn(\n",
            "/usr/local/lib/python3.8/dist-packages/sklearn/base.py:450: UserWarning: X does not have valid feature names, but SVC was fitted with feature names\n",
            "  warnings.warn(\n",
            "/usr/local/lib/python3.8/dist-packages/sklearn/base.py:450: UserWarning: X does not have valid feature names, but SVC was fitted with feature names\n",
            "  warnings.warn(\n",
            "/usr/local/lib/python3.8/dist-packages/sklearn/base.py:450: UserWarning: X does not have valid feature names, but SVC was fitted with feature names\n",
            "  warnings.warn(\n",
            "/usr/local/lib/python3.8/dist-packages/sklearn/base.py:450: UserWarning: X does not have valid feature names, but SVC was fitted with feature names\n",
            "  warnings.warn(\n",
            "/usr/local/lib/python3.8/dist-packages/sklearn/base.py:450: UserWarning: X does not have valid feature names, but SVC was fitted with feature names\n",
            "  warnings.warn(\n",
            "/usr/local/lib/python3.8/dist-packages/sklearn/base.py:450: UserWarning: X does not have valid feature names, but SVC was fitted with feature names\n",
            "  warnings.warn(\n",
            "/usr/local/lib/python3.8/dist-packages/sklearn/base.py:450: UserWarning: X does not have valid feature names, but SVC was fitted with feature names\n",
            "  warnings.warn(\n",
            "/usr/local/lib/python3.8/dist-packages/sklearn/base.py:450: UserWarning: X does not have valid feature names, but SVC was fitted with feature names\n",
            "  warnings.warn(\n",
            "/usr/local/lib/python3.8/dist-packages/sklearn/base.py:450: UserWarning: X does not have valid feature names, but SVC was fitted with feature names\n",
            "  warnings.warn(\n",
            "/usr/local/lib/python3.8/dist-packages/sklearn/base.py:450: UserWarning: X does not have valid feature names, but SVC was fitted with feature names\n",
            "  warnings.warn(\n",
            "/usr/local/lib/python3.8/dist-packages/sklearn/base.py:450: UserWarning: X does not have valid feature names, but SVC was fitted with feature names\n",
            "  warnings.warn(\n",
            "/usr/local/lib/python3.8/dist-packages/sklearn/base.py:450: UserWarning: X does not have valid feature names, but SVC was fitted with feature names\n",
            "  warnings.warn(\n",
            "/usr/local/lib/python3.8/dist-packages/sklearn/base.py:450: UserWarning: X does not have valid feature names, but SVC was fitted with feature names\n",
            "  warnings.warn(\n",
            "/usr/local/lib/python3.8/dist-packages/sklearn/base.py:450: UserWarning: X does not have valid feature names, but SVC was fitted with feature names\n",
            "  warnings.warn(\n",
            "/usr/local/lib/python3.8/dist-packages/sklearn/base.py:450: UserWarning: X does not have valid feature names, but SVC was fitted with feature names\n",
            "  warnings.warn(\n",
            "/usr/local/lib/python3.8/dist-packages/sklearn/base.py:450: UserWarning: X does not have valid feature names, but SVC was fitted with feature names\n",
            "  warnings.warn(\n",
            "/usr/local/lib/python3.8/dist-packages/sklearn/base.py:450: UserWarning: X does not have valid feature names, but SVC was fitted with feature names\n",
            "  warnings.warn(\n",
            "/usr/local/lib/python3.8/dist-packages/sklearn/base.py:450: UserWarning: X does not have valid feature names, but SVC was fitted with feature names\n",
            "  warnings.warn(\n",
            "/usr/local/lib/python3.8/dist-packages/sklearn/base.py:450: UserWarning: X does not have valid feature names, but SVC was fitted with feature names\n",
            "  warnings.warn(\n",
            "/usr/local/lib/python3.8/dist-packages/sklearn/base.py:450: UserWarning: X does not have valid feature names, but SVC was fitted with feature names\n",
            "  warnings.warn(\n",
            "/usr/local/lib/python3.8/dist-packages/sklearn/base.py:450: UserWarning: X does not have valid feature names, but SVC was fitted with feature names\n",
            "  warnings.warn(\n",
            "/usr/local/lib/python3.8/dist-packages/sklearn/base.py:450: UserWarning: X does not have valid feature names, but SVC was fitted with feature names\n",
            "  warnings.warn(\n",
            "/usr/local/lib/python3.8/dist-packages/sklearn/base.py:450: UserWarning: X does not have valid feature names, but SVC was fitted with feature names\n",
            "  warnings.warn(\n",
            "/usr/local/lib/python3.8/dist-packages/sklearn/base.py:450: UserWarning: X does not have valid feature names, but SVC was fitted with feature names\n",
            "  warnings.warn(\n",
            "/usr/local/lib/python3.8/dist-packages/sklearn/base.py:450: UserWarning: X does not have valid feature names, but SVC was fitted with feature names\n",
            "  warnings.warn(\n",
            "/usr/local/lib/python3.8/dist-packages/sklearn/base.py:450: UserWarning: X does not have valid feature names, but SVC was fitted with feature names\n",
            "  warnings.warn(\n",
            "/usr/local/lib/python3.8/dist-packages/sklearn/base.py:450: UserWarning: X does not have valid feature names, but SVC was fitted with feature names\n",
            "  warnings.warn(\n",
            "/usr/local/lib/python3.8/dist-packages/sklearn/base.py:450: UserWarning: X does not have valid feature names, but SVC was fitted with feature names\n",
            "  warnings.warn(\n"
          ]
        },
        {
          "output_type": "display_data",
          "data": {
            "text/plain": [
              "<Figure size 432x288 with 1 Axes>"
            ],
            "image/png": "[encoded data removed]"
          },
          "metadata": {
            "needs_background": "light"
          }
        }
      ]
    },
    {
      "cell_type": "markdown",
      "source": [
        "# MODELING USING K-NEAREST NEIGHBOR"
      ],
      "metadata": {
        "id": "4Pe_f2mXmuBi"
      }
    },
    {
      "cell_type": "markdown",
      "source": [
        "## Modeling (Simple)\n",
        "\n",
        "There are [several](https://scikit-learn.org/stable/supervised_learning.html#supervised-learning) model approaches/ algorithms that can be used for Facies classificaiton. Explanation the basic concept behind each methods and pros/cons of them can be found in sklearn documentation."
      ],
      "metadata": {
        "id": "YU391GhEmuBi"
      }
    },
    {
      "cell_type": "code",
      "source": [
        "from sklearn.neighbors import KNeighborsClassifier\n",
        "\n",
        "# create Support Vector Classifier model, use default parameter\n",
        "model = KNeighborsClassifier()\n",
        "\n",
        "# training using train data\n",
        "model.fit(X_train_scaled, y_train)\n",
        "\n",
        "# don't forget to standardize the X_test first\n",
        "X_test_scaled = scaler.transform(X_test)\n",
        "X_test_scaled = pd.DataFrame(X_test_scaled, columns=X.columns)\n",
        "\n",
        "# predict result\n",
        "y_pred = model.predict(X_test_scaled)"
      ],
      "metadata": {
        "id": "2i6mqIR0muBi"
      },
      "execution_count": null,
      "outputs": []
    },
    {
      "cell_type": "markdown",
      "source": [
        "### Model Evaluation\n",
        "To see how our model perform during prediction\n",
        "\n",
        "Reference: [Metric and Scoring](https://scikit-learn.org/stable/modules/model_evaluation.html#classification-metrics)"
      ],
      "metadata": {
        "id": "V532hdS_muBj"
      }
    },
    {
      "cell_type": "markdown",
      "source": [
        "**Accuracy**"
      ],
      "metadata": {
        "id": "vafWlVu8muBj"
      }
    },
    {
      "cell_type": "code",
      "source": [
        "from sklearn.metrics import accuracy_score\n",
        "\n",
        "accuracy_score(y_test, y_pred)"
      ],
      "metadata": {
        "colab": {
          "base_uri": "https://localhost:8080/"
        },
        "outputId": "bf866d11-97d8-454b-c855-0337bf4d5483",
        "id": "dfCVcanpmuBj"
      },
      "execution_count": null,
      "outputs": [
        {
          "output_type": "execute_result",
          "data": {
            "text/plain": [
              "0.7109929078014184"
            ]
          },
          "metadata": {},
          "execution_count": 54
        }
      ]
    },
    {
      "cell_type": "markdown",
      "source": [
        "**Confusion Matrix**"
      ],
      "metadata": {
        "id": "wLIPw_aqmuBj"
      }
    },
    {
      "cell_type": "code",
      "source": [
        "from sklearn.metrics import confusion_matrix\n",
        "from sklearn.metrics import ConfusionMatrixDisplay\n",
        "\n",
        "cm = confusion_matrix(y_test, y_pred)\n",
        "ConfusionMatrixDisplay(cm).plot()"
      ],
      "metadata": {
        "colab": {
          "base_uri": "https://localhost:8080/",
          "height": 296
        },
        "outputId": "89d8800b-b7ca-42eb-9337-7c848540b1ac",
        "id": "dNixdeQpmuBj"
      },
      "execution_count": null,
      "outputs": [
        {
          "output_type": "execute_result",
          "data": {
            "text/plain": [
              "<sklearn.metrics._plot.confusion_matrix.ConfusionMatrixDisplay at 0x7f5177d06e50>"
            ]
          },
          "metadata": {},
          "execution_count": 55
        },
        {
          "output_type": "display_data",
          "data": {
            "text/plain": [
              "<Figure size 432x288 with 2 Axes>"
            ],
            "image/png": "[encoded data removed]"
          },
          "metadata": {
            "needs_background": "light"
          }
        }
      ]
    },
    {
      "cell_type": "markdown",
      "source": [
        "The confusion matrix has rows and columns. The rows correspond to actual facies labels and columns show model prediction results. As high value as a possible outcome of the model in diagonal of the matrix, as good as model prediction perfromance."
      ],
      "metadata": {
        "id": "dkdwbfukmuBk"
      }
    },
    {
      "cell_type": "markdown",
      "source": [
        "**Classification Report**"
      ],
      "metadata": {
        "id": "gJ4rUvUzmuBk"
      }
    },
    {
      "cell_type": "code",
      "source": [
        "from sklearn.metrics import classification_report\n",
        "\n",
        "print(classification_report(y_test, y_pred))"
      ],
      "metadata": {
        "colab": {
          "base_uri": "https://localhost:8080/"
        },
        "outputId": "3e2f7920-f30a-497f-d4d7-1424f463b8fe",
        "id": "3bS1cbkNmuBk"
      },
      "execution_count": null,
      "outputs": [
        {
          "output_type": "stream",
          "name": "stdout",
          "text": [
            "              precision    recall  f1-score   support\n",
            "\n",
            "           1       0.77      0.79      0.78        58\n",
            "           2       0.76      0.71      0.73       139\n",
            "           3       0.73      0.79      0.76       105\n",
            "           4       0.53      0.94      0.68        18\n",
            "           5       0.68      0.61      0.64        38\n",
            "           6       0.62      0.60      0.61        78\n",
            "           7       0.65      0.61      0.63        18\n",
            "           8       0.73      0.57      0.64        80\n",
            "           9       0.78      0.97      0.87        30\n",
            "\n",
            "    accuracy                           0.71       564\n",
            "   macro avg       0.69      0.73      0.70       564\n",
            "weighted avg       0.71      0.71      0.71       564\n",
            "\n"
          ]
        }
      ]
    },
    {
      "cell_type": "markdown",
      "source": [
        "**Cross Validation Score**\n",
        "\n",
        "We've used the data only once for training based on a single randomly selected X_train data from X. Let's explore other possibility for different set of X and y data splitting.\n",
        "\n",
        "`cross_val_score` from `model_selection` can be used to display various cross validation score, including:\n",
        "* `f1`, `f1_micro`, and `f1_macro`\n",
        "* `accuracy`\n",
        "* `precision`\n",
        "* `recall`\n",
        "* `roc_auc`\n",
        "\n",
        "Note: differentiate which metrics is applicable for multiclass/ single class classification\n",
        "\n",
        "Reference: [sklearn.model_selection.cross_val_score](https://scikit-learn.org/stable/modules/generated/sklearn.model_selection.cross_val_score.html)"
      ],
      "metadata": {
        "id": "W_dVfvlxmuBk"
      }
    },
    {
      "cell_type": "code",
      "source": [
        "from sklearn.model_selection import cross_val_score\n",
        "\n",
        "scores = cross_val_score(model, scaler.transform(X), y, scoring='accuracy', cv=5)\n",
        "scores"
      ],
      "metadata": {
        "colab": {
          "base_uri": "https://localhost:8080/"
        },
        "outputId": "10e6a569-8100-4f3d-9c47-1aabc17bdad6",
        "id": "2wszNWKImuBk"
      },
      "execution_count": null,
      "outputs": [
        {
          "output_type": "execute_result",
          "data": {
            "text/plain": [
              "array([0.47695035, 0.54255319, 0.45115453, 0.39964476, 0.51154529])"
            ]
          },
          "metadata": {},
          "execution_count": 57
        }
      ]
    },
    {
      "cell_type": "code",
      "source": [
        "scores.mean()"
      ],
      "metadata": {
        "colab": {
          "base_uri": "https://localhost:8080/"
        },
        "outputId": "c2eabfa7-6894-4798-834c-c30fb36c94f7",
        "id": "tzwVuIfimuBk"
      },
      "execution_count": null,
      "outputs": [
        {
          "output_type": "execute_result",
          "data": {
            "text/plain": [
              "0.4763696257385083"
            ]
          },
          "metadata": {},
          "execution_count": 58
        }
      ]
    },
    {
      "cell_type": "code",
      "source": [
        "scores.std()"
      ],
      "metadata": {
        "colab": {
          "base_uri": "https://localhost:8080/"
        },
        "outputId": "ec304e60-d643-4228-ed84-5dcf138f45e2",
        "id": "t6Z2KqdLmuBk"
      },
      "execution_count": null,
      "outputs": [
        {
          "output_type": "execute_result",
          "data": {
            "text/plain": [
              "0.04927562332808253"
            ]
          },
          "metadata": {},
          "execution_count": 59
        }
      ]
    },
    {
      "cell_type": "markdown",
      "source": [
        "## Modeling (with Hyperparameter Tuning)\n",
        "\n",
        "So far, we've explore the simple model using default hyperparameter setup. What if we can optimize the hyperparameter setup?\n",
        "\n",
        "Reference about grid search: [sklearn.model_selection.GridSearchCV](https://scikit-learn.org/stable/modules/generated/sklearn.model_selection.GridSearchCV.html)\n",
        "\n",
        "Reference about KNeighborsClassifier model: [sklearn.neighbors.KNeighborsClassifier](https://scikit-learn.org/stable/modules/generated/sklearn.neighbors.KNeighborsClassifier.html)"
      ],
      "metadata": {
        "id": "ThmNtW-tmuBl"
      }
    },
    {
      "cell_type": "markdown",
      "source": [
        "### Hyperparameter Tuning"
      ],
      "metadata": {
        "id": "oPdPqFC7muBl"
      }
    },
    {
      "cell_type": "code",
      "source": [
        "from sklearn.model_selection import GridSearchCV\n",
        "\n",
        "param_distributions = {'n_neighbors': np.arange(5, 21, 5),\n",
        "                       'weights': ['uniform', 'distance']}\n",
        "grid_search = GridSearchCV(KNeighborsClassifier(),\n",
        "                           param_distributions,\n",
        "                           scoring='accuracy',\n",
        "                           cv=10)\n",
        "grid_search.fit(X_train_scaled, y_train)"
      ],
      "metadata": {
        "colab": {
          "base_uri": "https://localhost:8080/"
        },
        "outputId": "83bfa980-0536-4a22-f1dc-e605f613d6ea",
        "id": "XbMWpYu6muBl"
      },
      "execution_count": null,
      "outputs": [
        {
          "output_type": "execute_result",
          "data": {
            "text/plain": [
              "GridSearchCV(cv=10, estimator=KNeighborsClassifier(),\n",
              "             param_grid={'n_neighbors': array([ 5, 10, 15, 20]),\n",
              "                         'weights': ['uniform', 'distance']},\n",
              "             scoring='accuracy')"
            ]
          },
          "metadata": {},
          "execution_count": 60
        }
      ]
    },
    {
      "cell_type": "code",
      "source": [
        "# display best hyperparameter configuration\n",
        "grid_search.best_params_"
      ],
      "metadata": {
        "colab": {
          "base_uri": "https://localhost:8080/"
        },
        "outputId": "464fc934-c994-4906-c7cd-25a4938874b1",
        "id": "rmrjon9fmuBl"
      },
      "execution_count": null,
      "outputs": [
        {
          "output_type": "execute_result",
          "data": {
            "text/plain": [
              "{'n_neighbors': 5, 'weights': 'distance'}"
            ]
          },
          "metadata": {},
          "execution_count": 61
        }
      ]
    },
    {
      "cell_type": "code",
      "source": [
        "# display result\n",
        "pd.DataFrame(grid_search.cv_results_).transpose()"
      ],
      "metadata": {
        "colab": {
          "base_uri": "https://localhost:8080/",
          "height": 775
        },
        "outputId": "6e5e6c9c-19c9-46b9-9a28-60f31696917b",
        "id": "495E-UAXmuBl"
      },
      "execution_count": null,
      "outputs": [
        {
          "output_type": "execute_result",
          "data": {
            "text/plain": [
              "                                                          0  \\\n",
              "mean_fit_time                                      0.004003   \n",
              "std_fit_time                                       0.000887   \n",
              "mean_score_time                                    0.011652   \n",
              "std_score_time                                     0.002655   \n",
              "param_n_neighbors                                         5   \n",
              "param_weights                                       uniform   \n",
              "params             {'n_neighbors': 5, 'weights': 'uniform'}   \n",
              "split0_test_score                                   0.69469   \n",
              "split1_test_score                                  0.712389   \n",
              "split2_test_score                                  0.725664   \n",
              "split3_test_score                                  0.733333   \n",
              "split4_test_score                                  0.688889   \n",
              "split5_test_score                                  0.697778   \n",
              "split6_test_score                                  0.728889   \n",
              "split7_test_score                                  0.697778   \n",
              "split8_test_score                                  0.702222   \n",
              "split9_test_score                                  0.688889   \n",
              "mean_test_score                                    0.707052   \n",
              "std_test_score                                      0.01597   \n",
              "rank_test_score                                           3   \n",
              "\n",
              "                                                           1  \\\n",
              "mean_fit_time                                       0.003394   \n",
              "std_fit_time                                        0.000082   \n",
              "mean_score_time                                     0.004391   \n",
              "std_score_time                                      0.000197   \n",
              "param_n_neighbors                                          5   \n",
              "param_weights                                       distance   \n",
              "params             {'n_neighbors': 5, 'weights': 'distance'}   \n",
              "split0_test_score                                   0.730088   \n",
              "split1_test_score                                   0.756637   \n",
              "split2_test_score                                   0.752212   \n",
              "split3_test_score                                   0.755556   \n",
              "split4_test_score                                   0.733333   \n",
              "split5_test_score                                   0.742222   \n",
              "split6_test_score                                   0.737778   \n",
              "split7_test_score                                   0.711111   \n",
              "split8_test_score                                   0.742222   \n",
              "split9_test_score                                   0.733333   \n",
              "mean_test_score                                     0.739449   \n",
              "std_test_score                                      0.013044   \n",
              "rank_test_score                                            1   \n",
              "\n",
              "                                                           2  \\\n",
              "mean_fit_time                                       0.003635   \n",
              "std_fit_time                                         0.00047   \n",
              "mean_score_time                                     0.010625   \n",
              "std_score_time                                      0.002001   \n",
              "param_n_neighbors                                         10   \n",
              "param_weights                                        uniform   \n",
              "params             {'n_neighbors': 10, 'weights': 'uniform'}   \n",
              "split0_test_score                                   0.615044   \n",
              "split1_test_score                                   0.685841   \n",
              "split2_test_score                                   0.690265   \n",
              "split3_test_score                                   0.764444   \n",
              "split4_test_score                                   0.626667   \n",
              "split5_test_score                                   0.657778   \n",
              "split6_test_score                                       0.64   \n",
              "split7_test_score                                   0.653333   \n",
              "split8_test_score                                   0.666667   \n",
              "split9_test_score                                   0.688889   \n",
              "mean_test_score                                     0.668893   \n",
              "std_test_score                                      0.040202   \n",
              "rank_test_score                                            6   \n",
              "\n",
              "                                                            3  \\\n",
              "mean_fit_time                                        0.004056   \n",
              "std_fit_time                                         0.000985   \n",
              "mean_score_time                                      0.005562   \n",
              "std_score_time                                       0.000826   \n",
              "param_n_neighbors                                          10   \n",
              "param_weights                                        distance   \n",
              "params             {'n_neighbors': 10, 'weights': 'distance'}   \n",
              "split0_test_score                                     0.70354   \n",
              "split1_test_score                                    0.734513   \n",
              "split2_test_score                                    0.721239   \n",
              "split3_test_score                                    0.795556   \n",
              "split4_test_score                                    0.684444   \n",
              "split5_test_score                                        0.72   \n",
              "split6_test_score                                    0.693333   \n",
              "split7_test_score                                    0.715556   \n",
              "split8_test_score                                    0.728889   \n",
              "split9_test_score                                    0.728889   \n",
              "mean_test_score                                      0.722596   \n",
              "std_test_score                                       0.028771   \n",
              "rank_test_score                                             2   \n",
              "\n",
              "                                                           4  \\\n",
              "mean_fit_time                                       0.003694   \n",
              "std_fit_time                                        0.000309   \n",
              "mean_score_time                                     0.010951   \n",
              "std_score_time                                      0.000588   \n",
              "param_n_neighbors                                         15   \n",
              "param_weights                                        uniform   \n",
              "params             {'n_neighbors': 15, 'weights': 'uniform'}   \n",
              "split0_test_score                                   0.623894   \n",
              "split1_test_score                                   0.650442   \n",
              "split2_test_score                                   0.615044   \n",
              "split3_test_score                                   0.733333   \n",
              "split4_test_score                                   0.608889   \n",
              "split5_test_score                                   0.608889   \n",
              "split6_test_score                                   0.626667   \n",
              "split7_test_score                                   0.671111   \n",
              "split8_test_score                                   0.622222   \n",
              "split9_test_score                                       0.68   \n",
              "mean_test_score                                     0.644049   \n",
              "std_test_score                                      0.038126   \n",
              "rank_test_score                                            7   \n",
              "\n",
              "                                                            5  \\\n",
              "mean_fit_time                                        0.003635   \n",
              "std_fit_time                                         0.000375   \n",
              "mean_score_time                                      0.006085   \n",
              "std_score_time                                       0.000533   \n",
              "param_n_neighbors                                          15   \n",
              "param_weights                                        distance   \n",
              "params             {'n_neighbors': 15, 'weights': 'distance'}   \n",
              "split0_test_score                                    0.690265   \n",
              "split1_test_score                                    0.712389   \n",
              "split2_test_score                                    0.676991   \n",
              "split3_test_score                                    0.795556   \n",
              "split4_test_score                                    0.671111   \n",
              "split5_test_score                                    0.693333   \n",
              "split6_test_score                                    0.671111   \n",
              "split7_test_score                                    0.706667   \n",
              "split8_test_score                                    0.706667   \n",
              "split9_test_score                                        0.72   \n",
              "mean_test_score                                      0.704409   \n",
              "std_test_score                                        0.03452   \n",
              "rank_test_score                                             4   \n",
              "\n",
              "                                                           6  \\\n",
              "mean_fit_time                                        0.00412   \n",
              "std_fit_time                                        0.001214   \n",
              "mean_score_time                                       0.0127   \n",
              "std_score_time                                      0.003895   \n",
              "param_n_neighbors                                         20   \n",
              "param_weights                                        uniform   \n",
              "params             {'n_neighbors': 20, 'weights': 'uniform'}   \n",
              "split0_test_score                                   0.632743   \n",
              "split1_test_score                                   0.641593   \n",
              "split2_test_score                                   0.619469   \n",
              "split3_test_score                                   0.706667   \n",
              "split4_test_score                                       0.56   \n",
              "split5_test_score                                        0.6   \n",
              "split6_test_score                                       0.64   \n",
              "split7_test_score                                   0.631111   \n",
              "split8_test_score                                   0.604444   \n",
              "split9_test_score                                   0.666667   \n",
              "mean_test_score                                     0.630269   \n",
              "std_test_score                                      0.037455   \n",
              "rank_test_score                                            8   \n",
              "\n",
              "                                                            7  \n",
              "mean_fit_time                                        0.003946  \n",
              "std_fit_time                                         0.000516  \n",
              "mean_score_time                                      0.007228  \n",
              "std_score_time                                       0.001464  \n",
              "param_n_neighbors                                          20  \n",
              "param_weights                                        distance  \n",
              "params             {'n_neighbors': 20, 'weights': 'distance'}  \n",
              "split0_test_score                                    0.699115  \n",
              "split1_test_score                                    0.707965  \n",
              "split2_test_score                                    0.672566  \n",
              "split3_test_score                                    0.804444  \n",
              "split4_test_score                                    0.626667  \n",
              "split5_test_score                                    0.693333  \n",
              "split6_test_score                                    0.671111  \n",
              "split7_test_score                                    0.684444  \n",
              "split8_test_score                                        0.68  \n",
              "split9_test_score                                    0.715556  \n",
              "mean_test_score                                       0.69552  \n",
              "std_test_score                                       0.043204  \n",
              "rank_test_score                                             5  "
            ],
            "text/html": [
              "\n",
              "  <div id=\"df-49057c84-3514-4666-977d-3710084b8028\">\n",
              "    <div class=\"colab-df-container\">\n",
              "      <div>\n",
              "<style scoped>\n",
              "    .dataframe tbody tr th:only-of-type {\n",
              "        vertical-align: middle;\n",
              "    }\n",
              "\n",
              "    .dataframe tbody tr th {\n",
              "        vertical-align: top;\n",
              "    }\n",
              "\n",
              "    .dataframe thead th {\n",
              "        text-align: right;\n",
              "    }\n",
              "</style>\n",
              "<table border=\"1\" class=\"dataframe\">\n",
              "  <thead>\n",
              "    <tr style=\"text-align: right;\">\n",
              "      <th></th>\n",
              "      <th>0</th>\n",
              "      <th>1</th>\n",
              "      <th>2</th>\n",
              "      <th>3</th>\n",
              "      <th>4</th>\n",
              "      <th>5</th>\n",
              "      <th>6</th>\n",
              "      <th>7</th>\n",
              "    </tr>\n",
              "  </thead>\n",
              "  <tbody>\n",
              "    <tr>\n",
              "      <th>mean_fit_time</th>\n",
              "      <td>0.004003</td>\n",
              "      <td>0.003394</td>\n",
              "      <td>0.003635</td>\n",
              "      <td>0.004056</td>\n",
              "      <td>0.003694</td>\n",
              "      <td>0.003635</td>\n",
              "      <td>0.00412</td>\n",
              "      <td>0.003946</td>\n",
              "    </tr>\n",
              "    <tr>\n",
              "      <th>std_fit_time</th>\n",
              "      <td>0.000887</td>\n",
              "      <td>0.000082</td>\n",
              "      <td>0.00047</td>\n",
              "      <td>0.000985</td>\n",
              "      <td>0.000309</td>\n",
              "      <td>0.000375</td>\n",
              "      <td>0.001214</td>\n",
              "      <td>0.000516</td>\n",
              "    </tr>\n",
              "    <tr>\n",
              "      <th>mean_score_time</th>\n",
              "      <td>0.011652</td>\n",
              "      <td>0.004391</td>\n",
              "      <td>0.010625</td>\n",
              "      <td>0.005562</td>\n",
              "      <td>0.010951</td>\n",
              "      <td>0.006085</td>\n",
              "      <td>0.0127</td>\n",
              "      <td>0.007228</td>\n",
              "    </tr>\n",
              "    <tr>\n",
              "      <th>std_score_time</th>\n",
              "      <td>0.002655</td>\n",
              "      <td>0.000197</td>\n",
              "      <td>0.002001</td>\n",
              "      <td>0.000826</td>\n",
              "      <td>0.000588</td>\n",
              "      <td>0.000533</td>\n",
              "      <td>0.003895</td>\n",
              "      <td>0.001464</td>\n",
              "    </tr>\n",
              "    <tr>\n",
              "      <th>param_n_neighbors</th>\n",
              "      <td>5</td>\n",
              "      <td>5</td>\n",
              "      <td>10</td>\n",
              "      <td>10</td>\n",
              "      <td>15</td>\n",
              "      <td>15</td>\n",
              "      <td>20</td>\n",
              "      <td>20</td>\n",
              "    </tr>\n",
              "    <tr>\n",
              "      <th>param_weights</th>\n",
              "      <td>uniform</td>\n",
              "      <td>distance</td>\n",
              "      <td>uniform</td>\n",
              "      <td>distance</td>\n",
              "      <td>uniform</td>\n",
              "      <td>distance</td>\n",
              "      <td>uniform</td>\n",
              "      <td>distance</td>\n",
              "    </tr>\n",
              "    <tr>\n",
              "      <th>params</th>\n",
              "      <td>{'n_neighbors': 5, 'weights': 'uniform'}</td>\n",
              "      <td>{'n_neighbors': 5, 'weights': 'distance'}</td>\n",
              "      <td>{'n_neighbors': 10, 'weights': 'uniform'}</td>\n",
              "      <td>{'n_neighbors': 10, 'weights': 'distance'}</td>\n",
              "      <td>{'n_neighbors': 15, 'weights': 'uniform'}</td>\n",
              "      <td>{'n_neighbors': 15, 'weights': 'distance'}</td>\n",
              "      <td>{'n_neighbors': 20, 'weights': 'uniform'}</td>\n",
              "      <td>{'n_neighbors': 20, 'weights': 'distance'}</td>\n",
              "    </tr>\n",
              "    <tr>\n",
              "      <th>split0_test_score</th>\n",
              "      <td>0.69469</td>\n",
              "      <td>0.730088</td>\n",
              "      <td>0.615044</td>\n",
              "      <td>0.70354</td>\n",
              "      <td>0.623894</td>\n",
              "      <td>0.690265</td>\n",
              "      <td>0.632743</td>\n",
              "      <td>0.699115</td>\n",
              "    </tr>\n",
              "    <tr>\n",
              "      <th>split1_test_score</th>\n",
              "      <td>0.712389</td>\n",
              "      <td>0.756637</td>\n",
              "      <td>0.685841</td>\n",
              "      <td>0.734513</td>\n",
              "      <td>0.650442</td>\n",
              "      <td>0.712389</td>\n",
              "      <td>0.641593</td>\n",
              "      <td>0.707965</td>\n",
              "    </tr>\n",
              "    <tr>\n",
              "      <th>split2_test_score</th>\n",
              "      <td>0.725664</td>\n",
              "      <td>0.752212</td>\n",
              "      <td>0.690265</td>\n",
              "      <td>0.721239</td>\n",
              "      <td>0.615044</td>\n",
              "      <td>0.676991</td>\n",
              "      <td>0.619469</td>\n",
              "      <td>0.672566</td>\n",
              "    </tr>\n",
              "    <tr>\n",
              "      <th>split3_test_score</th>\n",
              "      <td>0.733333</td>\n",
              "      <td>0.755556</td>\n",
              "      <td>0.764444</td>\n",
              "      <td>0.795556</td>\n",
              "      <td>0.733333</td>\n",
              "      <td>0.795556</td>\n",
              "      <td>0.706667</td>\n",
              "      <td>0.804444</td>\n",
              "    </tr>\n",
              "    <tr>\n",
              "      <th>split4_test_score</th>\n",
              "      <td>0.688889</td>\n",
              "      <td>0.733333</td>\n",
              "      <td>0.626667</td>\n",
              "      <td>0.684444</td>\n",
              "      <td>0.608889</td>\n",
              "      <td>0.671111</td>\n",
              "      <td>0.56</td>\n",
              "      <td>0.626667</td>\n",
              "    </tr>\n",
              "    <tr>\n",
              "      <th>split5_test_score</th>\n",
              "      <td>0.697778</td>\n",
              "      <td>0.742222</td>\n",
              "      <td>0.657778</td>\n",
              "      <td>0.72</td>\n",
              "      <td>0.608889</td>\n",
              "      <td>0.693333</td>\n",
              "      <td>0.6</td>\n",
              "      <td>0.693333</td>\n",
              "    </tr>\n",
              "    <tr>\n",
              "      <th>split6_test_score</th>\n",
              "      <td>0.728889</td>\n",
              "      <td>0.737778</td>\n",
              "      <td>0.64</td>\n",
              "      <td>0.693333</td>\n",
              "      <td>0.626667</td>\n",
              "      <td>0.671111</td>\n",
              "      <td>0.64</td>\n",
              "      <td>0.671111</td>\n",
              "    </tr>\n",
              "    <tr>\n",
              "      <th>split7_test_score</th>\n",
              "      <td>0.697778</td>\n",
              "      <td>0.711111</td>\n",
              "      <td>0.653333</td>\n",
              "      <td>0.715556</td>\n",
              "      <td>0.671111</td>\n",
              "      <td>0.706667</td>\n",
              "      <td>0.631111</td>\n",
              "      <td>0.684444</td>\n",
              "    </tr>\n",
              "    <tr>\n",
              "      <th>split8_test_score</th>\n",
              "      <td>0.702222</td>\n",
              "      <td>0.742222</td>\n",
              "      <td>0.666667</td>\n",
              "      <td>0.728889</td>\n",
              "      <td>0.622222</td>\n",
              "      <td>0.706667</td>\n",
              "      <td>0.604444</td>\n",
              "      <td>0.68</td>\n",
              "    </tr>\n",
              "    <tr>\n",
              "      <th>split9_test_score</th>\n",
              "      <td>0.688889</td>\n",
              "      <td>0.733333</td>\n",
              "      <td>0.688889</td>\n",
              "      <td>0.728889</td>\n",
              "      <td>0.68</td>\n",
              "      <td>0.72</td>\n",
              "      <td>0.666667</td>\n",
              "      <td>0.715556</td>\n",
              "    </tr>\n",
              "    <tr>\n",
              "      <th>mean_test_score</th>\n",
              "      <td>0.707052</td>\n",
              "      <td>0.739449</td>\n",
              "      <td>0.668893</td>\n",
              "      <td>0.722596</td>\n",
              "      <td>0.644049</td>\n",
              "      <td>0.704409</td>\n",
              "      <td>0.630269</td>\n",
              "      <td>0.69552</td>\n",
              "    </tr>\n",
              "    <tr>\n",
              "      <th>std_test_score</th>\n",
              "      <td>0.01597</td>\n",
              "      <td>0.013044</td>\n",
              "      <td>0.040202</td>\n",
              "      <td>0.028771</td>\n",
              "      <td>0.038126</td>\n",
              "      <td>0.03452</td>\n",
              "      <td>0.037455</td>\n",
              "      <td>0.043204</td>\n",
              "    </tr>\n",
              "    <tr>\n",
              "      <th>rank_test_score</th>\n",
              "      <td>3</td>\n",
              "      <td>1</td>\n",
              "      <td>6</td>\n",
              "      <td>2</td>\n",
              "      <td>7</td>\n",
              "      <td>4</td>\n",
              "      <td>8</td>\n",
              "      <td>5</td>\n",
              "    </tr>\n",
              "  </tbody>\n",
              "</table>\n",
              "</div>\n",
              "      <button class=\"colab-df-convert\" onclick=\"convertToInteractive('df-49057c84-3514-4666-977d-3710084b8028')\"\n",
              "              title=\"Convert this dataframe to an interactive table.\"\n",
              "              style=\"display:none;\">\n",
              "        \n",
              "  <svg xmlns=\"http://www.w3.org/2000/svg\" height=\"24px\"viewBox=\"0 0 24 24\"\n",
              "       width=\"24px\">\n",
              "    <path d=\"M0 0h24v24H0V0z\" fill=\"none\"/>\n",
              "    <path d=\"M18.56 5.44l.94 2.06.94-2.06 2.06-.94-2.06-.94-.94-2.06-.94 2.06-2.06.94zm-11 1L8.5 8.5l.94-2.06 2.06-.94-2.06-.94L8.5 2.5l-.94 2.06-2.06.94zm10 10l.94 2.06.94-2.06 2.06-.94-2.06-.94-.94-2.06-.94 2.06-2.06.94z\"/><path d=\"M17.41 7.96l-1.37-1.37c-.4-.4-.92-.59-1.43-.59-.52 0-1.04.2-1.43.59L10.3 9.45l-7.72 7.72c-.78.78-.78 2.05 0 2.83L4 21.41c.39.39.9.59 1.41.59.51 0 1.02-.2 1.41-.59l7.78-7.78 2.81-2.81c.8-.78.8-2.07 0-2.86zM5.41 20L4 18.59l7.72-7.72 1.47 1.35L5.41 20z\"/>\n",
              "  </svg>\n",
              "      </button>\n",
              "      \n",
              "  <style>\n",
              "    .colab-df-container {\n",
              "      display:flex;\n",
              "      flex-wrap:wrap;\n",
              "      gap: 12px;\n",
              "    }\n",
              "\n",
              "    .colab-df-convert {\n",
              "      background-color: #E8F0FE;\n",
              "      border: none;\n",
              "      border-radius: 50%;\n",
              "      cursor: pointer;\n",
              "      display: none;\n",
              "      fill: #1967D2;\n",
              "      height: 32px;\n",
              "      padding: 0 0 0 0;\n",
              "      width: 32px;\n",
              "    }\n",
              "\n",
              "    .colab-df-convert:hover {\n",
              "      background-color: #E2EBFA;\n",
              "      box-shadow: 0px 1px 2px rgba(60, 64, 67, 0.3), 0px 1px 3px 1px rgba(60, 64, 67, 0.15);\n",
              "      fill: #174EA6;\n",
              "    }\n",
              "\n",
              "    [theme=dark] .colab-df-convert {\n",
              "      background-color: #3B4455;\n",
              "      fill: #D2E3FC;\n",
              "    }\n",
              "\n",
              "    [theme=dark] .colab-df-convert:hover {\n",
              "      background-color: #434B5C;\n",
              "      box-shadow: 0px 1px 3px 1px rgba(0, 0, 0, 0.15);\n",
              "      filter: drop-shadow(0px 1px 2px rgba(0, 0, 0, 0.3));\n",
              "      fill: #FFFFFF;\n",
              "    }\n",
              "  </style>\n",
              "\n",
              "      <script>\n",
              "        const buttonEl =\n",
              "          document.querySelector('#df-49057c84-3514-4666-977d-3710084b8028 button.colab-df-convert');\n",
              "        buttonEl.style.display =\n",
              "          google.colab.kernel.accessAllowed ? 'block' : 'none';\n",
              "\n",
              "        async function convertToInteractive(key) {\n",
              "          const element = document.querySelector('#df-49057c84-3514-4666-977d-3710084b8028');\n",
              "          const dataTable =\n",
              "            await google.colab.kernel.invokeFunction('convertToInteractive',\n",
              "                                                     [key], {});\n",
              "          if (!dataTable) return;\n",
              "\n",
              "          const docLinkHtml = 'Like what you see? Visit the ' +\n",
              "            '<a target=\"_blank\" href=https://colab.research.google.com/notebooks/data_table.ipynb>data table notebook</a>'\n",
              "            + ' to learn more about interactive tables.';\n",
              "          element.innerHTML = '';\n",
              "          dataTable['output_type'] = 'display_data';\n",
              "          await google.colab.output.renderOutput(dataTable, element);\n",
              "          const docLink = document.createElement('div');\n",
              "          docLink.innerHTML = docLinkHtml;\n",
              "          element.appendChild(docLink);\n",
              "        }\n",
              "      </script>\n",
              "    </div>\n",
              "  </div>\n",
              "  "
            ]
          },
          "metadata": {},
          "execution_count": 62
        }
      ]
    },
    {
      "cell_type": "markdown",
      "source": [
        "### Model Evaluation (on Test Set using Tuned Model)\n",
        "\n",
        "After we know the best recipe of hyperparameter setup for our SVC model, we'll use the C and kernel type on Test Set"
      ],
      "metadata": {
        "id": "2t8AGET8muBl"
      }
    },
    {
      "cell_type": "code",
      "source": [
        "# obtain tuned model\n",
        "model_tuned = grid_search.best_estimator_\n",
        "\n",
        "# train (because we can't predict without training; tuning is not considered as training)\n",
        "model_tuned.fit(X_train_scaled, y_train)\n",
        "y_pred = model_tuned.predict(scaler.transform(X_test))"
      ],
      "metadata": {
        "colab": {
          "base_uri": "https://localhost:8080/"
        },
        "outputId": "39103163-f3c9-44d6-ba5d-34033ade29ad",
        "id": "Zky9_2lhmuBm"
      },
      "execution_count": null,
      "outputs": [
        {
          "output_type": "stream",
          "name": "stderr",
          "text": [
            "/usr/local/lib/python3.8/dist-packages/sklearn/base.py:450: UserWarning: X does not have valid feature names, but KNeighborsClassifier was fitted with feature names\n",
            "  warnings.warn(\n"
          ]
        }
      ]
    },
    {
      "cell_type": "markdown",
      "source": [
        "**Accuracy**"
      ],
      "metadata": {
        "id": "TfKPqYFtmuBm"
      }
    },
    {
      "cell_type": "code",
      "source": [
        "from sklearn.metrics import accuracy_score\n",
        "\n",
        "accuracy_score(y_test, y_pred)"
      ],
      "metadata": {
        "colab": {
          "base_uri": "https://localhost:8080/"
        },
        "outputId": "d0e02977-0ae0-4e5f-be10-bca08cff37fb",
        "id": "ugfvpKaRmuBm"
      },
      "execution_count": null,
      "outputs": [
        {
          "output_type": "execute_result",
          "data": {
            "text/plain": [
              "0.7304964539007093"
            ]
          },
          "metadata": {},
          "execution_count": 64
        }
      ]
    },
    {
      "cell_type": "markdown",
      "source": [
        "**Confusion Matrix**"
      ],
      "metadata": {
        "id": "HY-rt3XMmuBm"
      }
    },
    {
      "cell_type": "code",
      "source": [
        "from sklearn.metrics import confusion_matrix\n",
        "from sklearn.metrics import ConfusionMatrixDisplay\n",
        "\n",
        "cm = confusion_matrix(y_test, y_pred)\n",
        "ConfusionMatrixDisplay(cm).plot()"
      ],
      "metadata": {
        "colab": {
          "base_uri": "https://localhost:8080/",
          "height": 296
        },
        "outputId": "4474fe24-30e1-4d75-8fc7-dfaba93e89f5",
        "id": "93j4pcmQmuBm"
      },
      "execution_count": null,
      "outputs": [
        {
          "output_type": "execute_result",
          "data": {
            "text/plain": [
              "<sklearn.metrics._plot.confusion_matrix.ConfusionMatrixDisplay at 0x7f5177b38520>"
            ]
          },
          "metadata": {},
          "execution_count": 65
        },
        {
          "output_type": "display_data",
          "data": {
            "text/plain": [
              "<Figure size 432x288 with 2 Axes>"
            ],
            "image/png": "[encoded data removed]"
          },
          "metadata": {
            "needs_background": "light"
          }
        }
      ]
    },
    {
      "cell_type": "markdown",
      "source": [
        "**Classification Report**"
      ],
      "metadata": {
        "id": "VScY9fXWmuBm"
      }
    },
    {
      "cell_type": "code",
      "source": [
        "from sklearn.metrics import classification_report\n",
        "\n",
        "print(classification_report(y_test, y_pred))"
      ],
      "metadata": {
        "colab": {
          "base_uri": "https://localhost:8080/"
        },
        "outputId": "dd201498-8267-4007-b46e-1b6dc093cc2f",
        "id": "2sfDNT26muBm"
      },
      "execution_count": null,
      "outputs": [
        {
          "output_type": "stream",
          "name": "stdout",
          "text": [
            "              precision    recall  f1-score   support\n",
            "\n",
            "           1       0.78      0.79      0.79        58\n",
            "           2       0.78      0.71      0.74       139\n",
            "           3       0.74      0.82      0.77       105\n",
            "           4       0.55      0.89      0.68        18\n",
            "           5       0.72      0.61      0.66        38\n",
            "           6       0.66      0.65      0.66        78\n",
            "           7       0.73      0.61      0.67        18\n",
            "           8       0.75      0.62      0.68        80\n",
            "           9       0.73      1.00      0.85        30\n",
            "\n",
            "    accuracy                           0.73       564\n",
            "   macro avg       0.72      0.75      0.72       564\n",
            "weighted avg       0.73      0.73      0.73       564\n",
            "\n"
          ]
        }
      ]
    },
    {
      "cell_type": "markdown",
      "source": [
        "### Model Inspection\n",
        "\n",
        "Predictive performance is often the main goal of developing machine learning models. Yet summarizing performance with an evaluation metric is often insufficient: it assumes that the evaluation metric and test dataset perfectly reflect the target domain, which is rarely true. In certain domains, a model needs a certain level of interpretability before it can be deployed. A model that is exhibiting performance issues needs to be debugged for one to understand the model’s underlying issue. The `sklearn.inspection` module provides tools to help understand the predictions from a model and what affects them. This can be used to evaluate assumptions and biases of a model, design a better model, or to diagnose issues with model performance.\n",
        "\n",
        "Reference:\n",
        "* [sklearn.inspection](https://scikit-learn.org/stable/inspection.html)\n",
        "* [sklearn.inspection.permutation_importance](https://scikit-learn.org/stable/modules/generated/sklearn.inspection.permutation_importance.html#sklearn.inspection.permutation_importance)"
      ],
      "metadata": {
        "id": "YkAhItpdmuBm"
      }
    },
    {
      "cell_type": "markdown",
      "source": [
        "**Permulation Feature Importance on Training Set**"
      ],
      "metadata": {
        "id": "EAUCKDZxmuBn"
      }
    },
    {
      "cell_type": "code",
      "source": [
        "from sklearn.inspection import permutation_importance\n",
        "import matplotlib.pyplot as plt\n",
        "\n",
        "result = permutation_importance(model_tuned, X_train_scaled, y_train, n_repeats=5, scoring='accuracy')\n",
        "feature_names = X.columns\n",
        "model_importances = pd.Series(result.importances_mean, feature_names)\n",
        "\n",
        "fig, ax = plt.subplots()\n",
        "model_importances.plot.bar(ax=ax)\n",
        "ax.set_title('Permutation Feature Importances')\n",
        "ax.set_ylabel('Accuracy Importance')\n",
        "fig.tight_layout()\n",
        "plt.show()"
      ],
      "metadata": {
        "colab": {
          "base_uri": "https://localhost:8080/",
          "height": 297
        },
        "outputId": "14a7a695-c1f3-4eb4-dc10-f58bc99ede81",
        "id": "WOE8hNadmuBn"
      },
      "execution_count": null,
      "outputs": [
        {
          "output_type": "display_data",
          "data": {
            "text/plain": [
              "<Figure size 432x288 with 1 Axes>"
            ],
            "image/png": "[encoded data removed]"
          },
          "metadata": {
            "needs_background": "light"
          }
        }
      ]
    },
    {
      "cell_type": "markdown",
      "source": [
        "**Permutation Feature Importance on Test Set**"
      ],
      "metadata": {
        "id": "7B88K21cmuBn"
      }
    },
    {
      "cell_type": "code",
      "source": [
        "from sklearn.inspection import permutation_importance\n",
        "import matplotlib.pyplot as plt\n",
        "\n",
        "result = permutation_importance(model_tuned, X_test_scaled, y_test, n_repeats=5, scoring='accuracy')\n",
        "feature_names = X.columns\n",
        "model_importances = pd.Series(result.importances_mean, feature_names)\n",
        "\n",
        "fig, ax = plt.subplots()\n",
        "model_importances.plot.bar(ax=ax)\n",
        "ax.set_title('Permutation Feature Importances')\n",
        "ax.set_ylabel('Accuracy Importance')\n",
        "fig.tight_layout()\n",
        "plt.show()"
      ],
      "metadata": {
        "colab": {
          "base_uri": "https://localhost:8080/",
          "height": 297
        },
        "outputId": "60909bc6-da4c-49b8-a1c0-46d5b7c430a3",
        "id": "w658Mv4pmuBn"
      },
      "execution_count": null,
      "outputs": [
        {
          "output_type": "display_data",
          "data": {
            "text/plain": [
              "<Figure size 432x288 with 1 Axes>"
            ],
            "image/png": "[encoded data removed]"
          },
          "metadata": {
            "needs_background": "light"
          }
        }
      ]
    },
    {
      "cell_type": "markdown",
      "source": [
        "Permutation feature importance is a model inspection technique that can be used for any fitted estimator when the data is tabular. This is especially useful for non-linear or opaque estimators. The permutation feature importance is defined to be the decrease in a model score when a single feature value is randomly shuffled. This procedure breaks the relationship between the feature and the target, thus the drop in the model score is indicative of how much the model depends on the feature. This technique benefits from being model agnostic and can be calculated many times with different permutations of the feature.\n",
        "\n",
        "The ranking of the features is approximately the same for different metrics even if the scales of the importance values are very different. However, this is not guaranteed and different metrics might lead to significantly different feature importances, in particular for models trained for imbalanced classification problems, for which the choice of the classification metric can be critical."
      ],
      "metadata": {
        "id": "kDNk2O89muBn"
      }
    },
    {
      "cell_type": "markdown",
      "source": [
        "**Warning:** Features that are deemed of **low importance for a bad model** (low cross-validation score) could be **very important for a good model**. Therefore it is always important to evaluate the predictive power of a model using a held-out set (or better with cross-validation) prior to computing importances. Permutation importance does not reflect to the intrinsic predictive value of a feature by itself **but how important this feature is for a particular model**."
      ],
      "metadata": {
        "id": "9cGwB09LmuBn"
      }
    },
    {
      "cell_type": "markdown",
      "source": [
        "## Model Deployment on Blind Set"
      ],
      "metadata": {
        "id": "7muVdpvHmuBn"
      }
    },
    {
      "cell_type": "markdown",
      "source": [
        "### Prediction using tuned model"
      ],
      "metadata": {
        "id": "NFcrOAbRmuBn"
      }
    },
    {
      "cell_type": "code",
      "source": [
        "# create feature matrix and target matrix from blind set\n",
        "y_blind = blind['FACIES'].values\n",
        "X_blind = blind.drop(['FORMATION', 'WELL', 'DEPTH', 'FACIES'], axis=1)"
      ],
      "metadata": {
        "id": "szzq0UOBmuBn"
      },
      "execution_count": null,
      "outputs": []
    },
    {
      "cell_type": "code",
      "source": [
        "# don't forget to transform the feature matrix before prediction\n",
        "X_blind_scaled = scaler.transform(X_blind)"
      ],
      "metadata": {
        "id": "6ksr023VmuBo"
      },
      "execution_count": null,
      "outputs": []
    },
    {
      "cell_type": "code",
      "source": [
        "# perform prediction\n",
        "y_blind_pred = model_tuned.predict(X_blind_scaled)"
      ],
      "metadata": {
        "colab": {
          "base_uri": "https://localhost:8080/"
        },
        "outputId": "baa7ce0d-4be2-44b3-980e-a87eccf60181",
        "id": "Me2Q9x4JmuBo"
      },
      "execution_count": null,
      "outputs": [
        {
          "output_type": "stream",
          "name": "stderr",
          "text": [
            "/usr/local/lib/python3.8/dist-packages/sklearn/base.py:450: UserWarning: X does not have valid feature names, but KNeighborsClassifier was fitted with feature names\n",
            "  warnings.warn(\n"
          ]
        }
      ]
    },
    {
      "cell_type": "markdown",
      "source": [
        "### Model Evaluation on Blind Set"
      ],
      "metadata": {
        "id": "XY9NyisymuBo"
      }
    },
    {
      "cell_type": "markdown",
      "source": [
        "**Accuracy**"
      ],
      "metadata": {
        "id": "ShcGbpc1muBo"
      }
    },
    {
      "cell_type": "code",
      "source": [
        "from sklearn.metrics import accuracy_score\n",
        "\n",
        "accuracy_score(y_blind, y_blind_pred)"
      ],
      "metadata": {
        "colab": {
          "base_uri": "https://localhost:8080/"
        },
        "outputId": "49eb3ec8-3174-47e7-b18e-0d3c655d7940",
        "id": "XenkIGHZmuBo"
      },
      "execution_count": null,
      "outputs": [
        {
          "output_type": "execute_result",
          "data": {
            "text/plain": [
              "0.4602409638554217"
            ]
          },
          "metadata": {},
          "execution_count": 72
        }
      ]
    },
    {
      "cell_type": "markdown",
      "source": [
        "**Confusion Matrix**"
      ],
      "metadata": {
        "id": "Mlfbed3KmuBo"
      }
    },
    {
      "cell_type": "code",
      "source": [
        "from sklearn.metrics import confusion_matrix\n",
        "from sklearn.metrics import ConfusionMatrixDisplay\n",
        "\n",
        "cm = confusion_matrix(y_blind, y_blind_pred)\n",
        "ConfusionMatrixDisplay(cm).plot()"
      ],
      "metadata": {
        "colab": {
          "base_uri": "https://localhost:8080/",
          "height": 296
        },
        "outputId": "f69db782-01f5-4bc3-d2a6-06bbd576bece",
        "id": "kjqzB11zmuBo"
      },
      "execution_count": null,
      "outputs": [
        {
          "output_type": "execute_result",
          "data": {
            "text/plain": [
              "<sklearn.metrics._plot.confusion_matrix.ConfusionMatrixDisplay at 0x7f51798540d0>"
            ]
          },
          "metadata": {},
          "execution_count": 73
        },
        {
          "output_type": "display_data",
          "data": {
            "text/plain": [
              "<Figure size 432x288 with 2 Axes>"
            ],
            "image/png": "[encoded data removed]"
          },
          "metadata": {
            "needs_background": "light"
          }
        }
      ]
    },
    {
      "cell_type": "markdown",
      "source": [
        "**Classification Report**"
      ],
      "metadata": {
        "id": "wLg_HwrsmuBo"
      }
    },
    {
      "cell_type": "code",
      "source": [
        "from sklearn.metrics import classification_report\n",
        "\n",
        "print(classification_report(y_blind, y_blind_pred))"
      ],
      "metadata": {
        "colab": {
          "base_uri": "https://localhost:8080/"
        },
        "outputId": "735f58e0-3e1a-43e4-950b-771ec673fd49",
        "id": "AuNIojYUmuBo"
      },
      "execution_count": null,
      "outputs": [
        {
          "output_type": "stream",
          "name": "stdout",
          "text": [
            "              precision    recall  f1-score   support\n",
            "\n",
            "           1       0.00      0.00      0.00         4\n",
            "           2       0.76      0.58      0.66       118\n",
            "           3       0.59      0.62      0.60        68\n",
            "           4       0.30      0.25      0.27        28\n",
            "           5       0.53      0.17      0.26        47\n",
            "           6       0.14      0.30      0.19        30\n",
            "           7       0.00      0.00      0.00         4\n",
            "           8       0.62      0.48      0.54       116\n",
            "           9       0.00      0.00      0.00         0\n",
            "\n",
            "    accuracy                           0.46       415\n",
            "   macro avg       0.33      0.27      0.28       415\n",
            "weighted avg       0.58      0.46      0.50       415\n",
            "\n"
          ]
        },
        {
          "output_type": "stream",
          "name": "stderr",
          "text": [
            "/usr/local/lib/python3.8/dist-packages/sklearn/metrics/_classification.py:1318: UndefinedMetricWarning: Recall and F-score are ill-defined and being set to 0.0 in labels with no true samples. Use `zero_division` parameter to control this behavior.\n",
            "  _warn_prf(average, modifier, msg_start, len(result))\n",
            "/usr/local/lib/python3.8/dist-packages/sklearn/metrics/_classification.py:1318: UndefinedMetricWarning: Recall and F-score are ill-defined and being set to 0.0 in labels with no true samples. Use `zero_division` parameter to control this behavior.\n",
            "  _warn_prf(average, modifier, msg_start, len(result))\n",
            "/usr/local/lib/python3.8/dist-packages/sklearn/metrics/_classification.py:1318: UndefinedMetricWarning: Recall and F-score are ill-defined and being set to 0.0 in labels with no true samples. Use `zero_division` parameter to control this behavior.\n",
            "  _warn_prf(average, modifier, msg_start, len(result))\n"
          ]
        }
      ]
    },
    {
      "cell_type": "code",
      "source": [
        "figure, ax = plt.subplots(figsize=(5,10))\n",
        "logs = blind.sort_values(by='DEPTH')\n",
        "ax.plot(logs.FACIES, logs.DEPTH, label='Actual Facies')\n",
        "ax.plot(y_blind_pred, logs.DEPTH, label='SVC')\n",
        "ax.invert_yaxis()\n",
        "ax.legend()"
      ],
      "metadata": {
        "colab": {
          "base_uri": "https://localhost:8080/",
          "height": 609
        },
        "outputId": "1125b7ca-04ac-4abc-d151-1344bb546f4d",
        "id": "3EMsE6rlmuBp"
      },
      "execution_count": null,
      "outputs": [
        {
          "output_type": "execute_result",
          "data": {
            "text/plain": [
              "<matplotlib.legend.Legend at 0x7f5177f62370>"
            ]
          },
          "metadata": {},
          "execution_count": 75
        },
        {
          "output_type": "display_data",
          "data": {
            "text/plain": [
              "<Figure size 360x720 with 1 Axes>"
            ],
            "image/png": "[encoded data removed]"
          },
          "metadata": {
            "needs_background": "light"
          }
        }
      ]
    },
    {
      "cell_type": "markdown",
      "source": [
        "### Model Inspection on Blind Set\n",
        "\n",
        "**Permutation Feature Importance**"
      ],
      "metadata": {
        "id": "b4IX3aMpmuBp"
      }
    },
    {
      "cell_type": "code",
      "source": [
        "from sklearn.inspection import permutation_importance\n",
        "import matplotlib.pyplot as plt\n",
        "\n",
        "result = permutation_importance(model_tuned, X_blind_scaled, y_blind, n_repeats=5, scoring='accuracy')\n",
        "feature_names = X.columns\n",
        "model_importances = pd.Series(result.importances_mean, feature_names)\n",
        "\n",
        "fig, ax = plt.subplots()\n",
        "model_importances.plot.bar(ax=ax)\n",
        "ax.set_title('Permutation Feature Importances')\n",
        "ax.set_ylabel('Accuracy Importance')\n",
        "fig.tight_layout()\n",
        "plt.show()"
      ],
      "metadata": {
        "colab": {
          "base_uri": "https://localhost:8080/",
          "height": 1000
        },
        "outputId": "5c4d2f11-8049-474b-f248-55980bb333b9",
        "id": "2-vJ48LimuBp"
      },
      "execution_count": null,
      "outputs": [
        {
          "output_type": "stream",
          "name": "stderr",
          "text": [
            "/usr/local/lib/python3.8/dist-packages/sklearn/base.py:450: UserWarning: X does not have valid feature names, but KNeighborsClassifier was fitted with feature names\n",
            "  warnings.warn(\n",
            "/usr/local/lib/python3.8/dist-packages/sklearn/base.py:450: UserWarning: X does not have valid feature names, but KNeighborsClassifier was fitted with feature names\n",
            "  warnings.warn(\n",
            "/usr/local/lib/python3.8/dist-packages/sklearn/base.py:450: UserWarning: X does not have valid feature names, but KNeighborsClassifier was fitted with feature names\n",
            "  warnings.warn(\n",
            "/usr/local/lib/python3.8/dist-packages/sklearn/base.py:450: UserWarning: X does not have valid feature names, but KNeighborsClassifier was fitted with feature names\n",
            "  warnings.warn(\n",
            "/usr/local/lib/python3.8/dist-packages/sklearn/base.py:450: UserWarning: X does not have valid feature names, but KNeighborsClassifier was fitted with feature names\n",
            "  warnings.warn(\n",
            "/usr/local/lib/python3.8/dist-packages/sklearn/base.py:450: UserWarning: X does not have valid feature names, but KNeighborsClassifier was fitted with feature names\n",
            "  warnings.warn(\n",
            "/usr/local/lib/python3.8/dist-packages/sklearn/base.py:450: UserWarning: X does not have valid feature names, but KNeighborsClassifier was fitted with feature names\n",
            "  warnings.warn(\n",
            "/usr/local/lib/python3.8/dist-packages/sklearn/base.py:450: UserWarning: X does not have valid feature names, but KNeighborsClassifier was fitted with feature names\n",
            "  warnings.warn(\n",
            "/usr/local/lib/python3.8/dist-packages/sklearn/base.py:450: UserWarning: X does not have valid feature names, but KNeighborsClassifier was fitted with feature names\n",
            "  warnings.warn(\n",
            "/usr/local/lib/python3.8/dist-packages/sklearn/base.py:450: UserWarning: X does not have valid feature names, but KNeighborsClassifier was fitted with feature names\n",
            "  warnings.warn(\n",
            "/usr/local/lib/python3.8/dist-packages/sklearn/base.py:450: UserWarning: X does not have valid feature names, but KNeighborsClassifier was fitted with feature names\n",
            "  warnings.warn(\n",
            "/usr/local/lib/python3.8/dist-packages/sklearn/base.py:450: UserWarning: X does not have valid feature names, but KNeighborsClassifier was fitted with feature names\n",
            "  warnings.warn(\n",
            "/usr/local/lib/python3.8/dist-packages/sklearn/base.py:450: UserWarning: X does not have valid feature names, but KNeighborsClassifier was fitted with feature names\n",
            "  warnings.warn(\n",
            "/usr/local/lib/python3.8/dist-packages/sklearn/base.py:450: UserWarning: X does not have valid feature names, but KNeighborsClassifier was fitted with feature names\n",
            "  warnings.warn(\n",
            "/usr/local/lib/python3.8/dist-packages/sklearn/base.py:450: UserWarning: X does not have valid feature names, but KNeighborsClassifier was fitted with feature names\n",
            "  warnings.warn(\n",
            "/usr/local/lib/python3.8/dist-packages/sklearn/base.py:450: UserWarning: X does not have valid feature names, but KNeighborsClassifier was fitted with feature names\n",
            "  warnings.warn(\n",
            "/usr/local/lib/python3.8/dist-packages/sklearn/base.py:450: UserWarning: X does not have valid feature names, but KNeighborsClassifier was fitted with feature names\n",
            "  warnings.warn(\n",
            "/usr/local/lib/python3.8/dist-packages/sklearn/base.py:450: UserWarning: X does not have valid feature names, but KNeighborsClassifier was fitted with feature names\n",
            "  warnings.warn(\n",
            "/usr/local/lib/python3.8/dist-packages/sklearn/base.py:450: UserWarning: X does not have valid feature names, but KNeighborsClassifier was fitted with feature names\n",
            "  warnings.warn(\n",
            "/usr/local/lib/python3.8/dist-packages/sklearn/base.py:450: UserWarning: X does not have valid feature names, but KNeighborsClassifier was fitted with feature names\n",
            "  warnings.warn(\n",
            "/usr/local/lib/python3.8/dist-packages/sklearn/base.py:450: UserWarning: X does not have valid feature names, but KNeighborsClassifier was fitted with feature names\n",
            "  warnings.warn(\n",
            "/usr/local/lib/python3.8/dist-packages/sklearn/base.py:450: UserWarning: X does not have valid feature names, but KNeighborsClassifier was fitted with feature names\n",
            "  warnings.warn(\n",
            "/usr/local/lib/python3.8/dist-packages/sklearn/base.py:450: UserWarning: X does not have valid feature names, but KNeighborsClassifier was fitted with feature names\n",
            "  warnings.warn(\n",
            "/usr/local/lib/python3.8/dist-packages/sklearn/base.py:450: UserWarning: X does not have valid feature names, but KNeighborsClassifier was fitted with feature names\n",
            "  warnings.warn(\n",
            "/usr/local/lib/python3.8/dist-packages/sklearn/base.py:450: UserWarning: X does not have valid feature names, but KNeighborsClassifier was fitted with feature names\n",
            "  warnings.warn(\n",
            "/usr/local/lib/python3.8/dist-packages/sklearn/base.py:450: UserWarning: X does not have valid feature names, but KNeighborsClassifier was fitted with feature names\n",
            "  warnings.warn(\n",
            "/usr/local/lib/python3.8/dist-packages/sklearn/base.py:450: UserWarning: X does not have valid feature names, but KNeighborsClassifier was fitted with feature names\n",
            "  warnings.warn(\n",
            "/usr/local/lib/python3.8/dist-packages/sklearn/base.py:450: UserWarning: X does not have valid feature names, but KNeighborsClassifier was fitted with feature names\n",
            "  warnings.warn(\n",
            "/usr/local/lib/python3.8/dist-packages/sklearn/base.py:450: UserWarning: X does not have valid feature names, but KNeighborsClassifier was fitted with feature names\n",
            "  warnings.warn(\n",
            "/usr/local/lib/python3.8/dist-packages/sklearn/base.py:450: UserWarning: X does not have valid feature names, but KNeighborsClassifier was fitted with feature names\n",
            "  warnings.warn(\n",
            "/usr/local/lib/python3.8/dist-packages/sklearn/base.py:450: UserWarning: X does not have valid feature names, but KNeighborsClassifier was fitted with feature names\n",
            "  warnings.warn(\n",
            "/usr/local/lib/python3.8/dist-packages/sklearn/base.py:450: UserWarning: X does not have valid feature names, but KNeighborsClassifier was fitted with feature names\n",
            "  warnings.warn(\n",
            "/usr/local/lib/python3.8/dist-packages/sklearn/base.py:450: UserWarning: X does not have valid feature names, but KNeighborsClassifier was fitted with feature names\n",
            "  warnings.warn(\n",
            "/usr/local/lib/python3.8/dist-packages/sklearn/base.py:450: UserWarning: X does not have valid feature names, but KNeighborsClassifier was fitted with feature names\n",
            "  warnings.warn(\n",
            "/usr/local/lib/python3.8/dist-packages/sklearn/base.py:450: UserWarning: X does not have valid feature names, but KNeighborsClassifier was fitted with feature names\n",
            "  warnings.warn(\n",
            "/usr/local/lib/python3.8/dist-packages/sklearn/base.py:450: UserWarning: X does not have valid feature names, but KNeighborsClassifier was fitted with feature names\n",
            "  warnings.warn(\n"
          ]
        },
        {
          "output_type": "display_data",
          "data": {
            "text/plain": [
              "<Figure size 432x288 with 1 Axes>"
            ],
            "image/png": "[encoded data removed]"
          },
          "metadata": {
            "needs_background": "light"
          }
        }
      ]
    },
    {
      "cell_type": "markdown",
      "source": [
        "# ADDITIONAL: LEARNING CURVE AND VALIDATION CURVE"
      ],
      "metadata": {
        "id": "GjQ2DgeEt7-h"
      }
    },
    {
      "cell_type": "markdown",
      "source": [
        "### Learning Curve"
      ],
      "metadata": {
        "id": "5L-IZ1Ovqn45"
      }
    },
    {
      "cell_type": "markdown",
      "source": [
        "**Learning Curve** visualize the trade-off between bias and variance, and its dependence on training set size. Here, we will vary the training/validation set size to explore the behavior of the model score as a function of **the number of training points**, which can be done by using increasingly larger subsets of the data to fit our model. Hopefully, we can address the question of *whether adding more training data will help our model*.\n",
        "\n",
        "![05.03-learning-curve.png](data:image/png;base64,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)"
      ],
      "metadata": {
        "id": "23k8tv9Mz8F-"
      }
    },
    {
      "cell_type": "markdown",
      "source": [
        "The general behavior from a learning curve:\n",
        "* A model of a given complexity will **overfit a small dataset**: this means the training score will be relatively high, while the validation score will be relatively low.\n",
        "* A model of a given complexity will **underfit a large dataset**: this means that the training score will decrease, but the validation score will increase.\n",
        "* A model will **never**, except by chance, **give a better score to the validation set than the training set**: this means the curves should keep getting closer together but never cross."
      ],
      "metadata": {
        "id": "VBnYB4FtBAn-"
      }
    },
    {
      "cell_type": "code",
      "source": [
        "from sklearn.model_selection import learning_curve\n",
        "from sklearn.model_selection import ShuffleSplit\n",
        "import numpy as np"
      ],
      "metadata": {
        "id": "0y16JBHnuTxm"
      },
      "execution_count": null,
      "outputs": []
    },
    {
      "cell_type": "code",
      "source": [
        "train_sizes = np.linspace(0.05, 1, 9)\n",
        "train_sizes, train_scores, test_scores, fit_times, _ = learning_curve(model_tuned,\n",
        "                                                                   X_train_scaled,\n",
        "                                                                   y_train,\n",
        "                                                                   cv=10,\n",
        "                                                                   train_sizes=train_sizes,\n",
        "                                                                   return_times=True)"
      ],
      "metadata": {
        "id": "r93C5Je4ucLI"
      },
      "execution_count": null,
      "outputs": []
    },
    {
      "cell_type": "code",
      "source": [
        "train_scores_mean = np.mean(train_scores, axis=1)\n",
        "train_scores_std = np.std(train_scores, axis=1)\n",
        "test_scores_mean = np.mean(test_scores, axis=1)\n",
        "test_scores_std = np.std(test_scores, axis=1)\n",
        "fit_times_mean = np.mean(fit_times, axis=1)\n",
        "fit_times_std = np.std(fit_times, axis=1)"
      ],
      "metadata": {
        "id": "B_zQunSpu3NF"
      },
      "execution_count": null,
      "outputs": []
    },
    {
      "cell_type": "code",
      "source": [
        "fig, axes = plt.subplots(1, 1, figsize=(10, 5))\n",
        "axes.plot(train_sizes, train_scores_mean, \"o-\", color=\"r\", label=\"Training score\")\n",
        "axes.fill_between(train_sizes,\n",
        "                  train_scores_mean - train_scores_std,\n",
        "                  train_scores_mean + train_scores_std,\n",
        "                  alpha=0.1,\n",
        "                  color=\"r\")\n",
        "axes.plot(train_sizes, test_scores_mean, \"o-\", color=\"g\", label=\"Cross-validation score\")\n",
        "axes.fill_between(train_sizes,\n",
        "                  test_scores_mean - test_scores_std,\n",
        "                  test_scores_mean + test_scores_std,\n",
        "                  alpha=0.1,\n",
        "                  color=\"g\")\n",
        "axes.legend()\n",
        "# axes.set_ylim(0.8, 1)\n",
        "axes.set_xlabel('Sample Size')\n",
        "axes.set_ylabel('Score')"
      ],
      "metadata": {
        "colab": {
          "base_uri": "https://localhost:8080/",
          "height": 351
        },
        "id": "tFtySc02u7CD",
        "outputId": "3908475a-6f1a-46d4-b9e3-137082a2027b"
      },
      "execution_count": null,
      "outputs": [
        {
          "output_type": "execute_result",
          "data": {
            "text/plain": [
              "Text(0, 0.5, 'Score')"
            ]
          },
          "metadata": {},
          "execution_count": 67
        },
        {
          "output_type": "display_data",
          "data": {
            "text/plain": [
              "<Figure size 720x360 with 1 Axes>"
            ],
            "image/png": "[encoded data removed]"
          },
          "metadata": {
            "needs_background": "light"
          }
        }
      ]
    },
    {
      "cell_type": "markdown",
      "source": [
        "### Validation Curve"
      ],
      "metadata": {
        "id": "R0JhB_B-qJ5r"
      }
    },
    {
      "cell_type": "markdown",
      "source": [
        "**Validation Curve** visualize the trade-off between bias and variance, and its dependence on model complexity. Here, we will vary the hyperparameters and evaluate its effect on training and validation score.\n",
        "![05.03-validation-curve.png](data:image/png;base64,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)"
      ],
      "metadata": {
        "id": "Jll9CIbYvVdw"
      }
    },
    {
      "cell_type": "code",
      "source": [
        "import numpy as np\n",
        "from sklearn.model_selection import validation_curve"
      ],
      "metadata": {
        "id": "UMb-vOa7wyRO"
      },
      "execution_count": null,
      "outputs": []
    },
    {
      "cell_type": "code",
      "source": [
        "param_range = np.linspace(1,11,10)\n",
        "train_scores, valid_scores = validation_curve(model_tuned,\n",
        "                                              X_train_scaled, y_train,\n",
        "                                              param_name='C',\n",
        "                                              param_range=param_range,\n",
        "                                              cv=5)"
      ],
      "metadata": {
        "id": "QKtzeCPQwz42"
      },
      "execution_count": null,
      "outputs": []
    },
    {
      "cell_type": "code",
      "source": [
        "train_scores_mean = np.mean(train_scores, axis=1)\n",
        "train_scores_std = np.std(train_scores, axis=1)\n",
        "valid_scores_mean = np.mean(valid_scores, axis=1)\n",
        "valid_scores_std = np.std(valid_scores, axis=1)"
      ],
      "metadata": {
        "id": "yauzQgs_xHDz"
      },
      "execution_count": null,
      "outputs": []
    },
    {
      "cell_type": "code",
      "source": [
        "fig, axes = plt.subplots(1, 1, figsize=(10, 5))\n",
        "axes.plot(param_range, train_scores_mean, 'o-', label='Training Score', color='red')\n",
        "axes.fill_between(param_range,\n",
        "                  train_scores_mean - train_scores_std,\n",
        "                  train_scores_mean + train_scores_std,\n",
        "                  alpha=0.1,\n",
        "                  color=\"r\")\n",
        "axes.plot(param_range,\n",
        "          valid_scores_mean, 'o-',\n",
        "          label='Validation Score',\n",
        "          color='green')\n",
        "axes.fill_between(param_range,\n",
        "                  valid_scores_mean - valid_scores_std,\n",
        "                  valid_scores_mean + valid_scores_std,\n",
        "                  alpha=0.1,\n",
        "                  color=\"green\")\n",
        "axes.legend()\n",
        "# axes.set_ylim(0.8, 1)\n",
        "axes.set_xlabel('C')\n",
        "axes.set_ylabel('Score')"
      ],
      "metadata": {
        "colab": {
          "base_uri": "https://localhost:8080/",
          "height": 351
        },
        "id": "F7q-qx-GxM1l",
        "outputId": "b215b437-e665-4705-a70d-9569655b3c23"
      },
      "execution_count": null,
      "outputs": [
        {
          "output_type": "execute_result",
          "data": {
            "text/plain": [
              "Text(0, 0.5, 'Score')"
            ]
          },
          "metadata": {},
          "execution_count": 75
        },
        {
          "output_type": "display_data",
          "data": {
            "text/plain": [
              "<Figure size 720x360 with 1 Axes>"
            ],
            "image/png": "[encoded data removed]"
          },
          "metadata": {
            "needs_background": "light"
          }
        }
      ]
    }
  ]
}